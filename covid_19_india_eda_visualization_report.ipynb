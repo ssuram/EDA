{
  "nbformat": 4,
  "nbformat_minor": 5,
  "metadata": {
    "kernelspec": {
      "display_name": "Python 3",
      "language": "python",
      "name": "python3"
    },
    "language_info": {
      "codemirror_mode": {
        "name": "ipython",
        "version": 3
      },
      "file_extension": ".py",
      "mimetype": "text/x-python",
      "name": "python",
      "nbconvert_exporter": "python",
      "pygments_lexer": "ipython3",
      "version": "3.7.10"
    },
    "papermill": {
      "default_parameters": {},
      "duration": 44.057147,
      "end_time": "2021-09-05T05:32:45.353345",
      "environment_variables": {},
      "exception": null,
      "input_path": "__notebook__.ipynb",
      "output_path": "__notebook__.ipynb",
      "parameters": {},
      "start_time": "2021-09-05T05:32:01.296198",
      "version": "2.3.3"
    },
    "colab": {
      "name": "covid-19-india-eda-visualization-report.ipynb",
      "provenance": [],
      "collapsed_sections": [
        "d2097fb3"
      ]
    }
  },
  "cells": [
    {
      "cell_type": "markdown",
      "metadata": {
        "papermill": {
          "duration": 0.050955,
          "end_time": "2021-09-05T05:32:11.871934",
          "exception": false,
          "start_time": "2021-09-05T05:32:11.820979",
          "status": "completed"
        },
        "tags": [],
        "id": "de86e09d"
      },
      "source": [
        "# <center> Latest Covid-19 India Statewise Data </center>"
      ],
      "id": "de86e09d"
    },
    {
      "cell_type": "markdown",
      "metadata": {
        "papermill": {
          "duration": 0.046377,
          "end_time": "2021-09-05T05:32:12.060098",
          "exception": false,
          "start_time": "2021-09-05T05:32:12.013721",
          "status": "completed"
        },
        "tags": [],
        "id": "58dda732"
      },
      "source": [
        "**About Dataset**\n",
        "\n",
        "This dataset contains latest Covid-19 India state-wise data. This dataset can be used to analyze covid condition in India.\n",
        "This dataset is great for Exploratory Data Analysis\n",
        "\n",
        "\n",
        "**Attribute Information**\n",
        "* State/UTs - Names of Indian States and Union Territories.\n",
        "* Total Cases - Total number of confirmed cases\n",
        "* Active - Total number of active cases\n",
        "* Discharged - Total number of discharged cases\n",
        "* Deaths - Total number of deaths\n",
        "* Active Ratio (%) - Ratio of number of active cases to total cases\n",
        "* Discharge Ratio (%) - Ratio of number of discharged cases to total cases\n",
        "* Death Ratio (%) - Ratio of number of deaths to total cases"
      ],
      "id": "58dda732"
    },
    {
      "cell_type": "markdown",
      "metadata": {
        "papermill": {
          "duration": 0.046926,
          "end_time": "2021-09-05T05:32:12.154489",
          "exception": false,
          "start_time": "2021-09-05T05:32:12.107563",
          "status": "completed"
        },
        "tags": [],
        "id": "e8994320"
      },
      "source": [
        "### Importing Required Libraries for this Notebook."
      ],
      "id": "e8994320"
    },
    {
      "cell_type": "code",
      "metadata": {
        "execution": {
          "iopub.execute_input": "2021-09-05T05:32:12.253959Z",
          "iopub.status.busy": "2021-09-05T05:32:12.253184Z",
          "iopub.status.idle": "2021-09-05T05:32:15.114599Z",
          "shell.execute_reply": "2021-09-05T05:32:15.113947Z",
          "shell.execute_reply.started": "2021-09-05T05:29:31.819763Z"
        },
        "papermill": {
          "duration": 2.911517,
          "end_time": "2021-09-05T05:32:15.114801",
          "exception": false,
          "start_time": "2021-09-05T05:32:12.203284",
          "status": "completed"
        },
        "tags": [],
        "id": "e07fd492"
      },
      "source": [
        "import pandas as pd\n",
        "import numpy as np\n",
        "import seaborn as sns\n",
        "import plotly.express as px\n",
        "import matplotlib.pyplot as plt\n",
        "%matplotlib inline\n",
        "\n",
        "import warnings\n",
        "warnings.filterwarnings('ignore')"
      ],
      "id": "e07fd492",
      "execution_count": 20,
      "outputs": []
    },
    {
      "cell_type": "markdown",
      "metadata": {
        "papermill": {
          "duration": 0.044903,
          "end_time": "2021-09-05T05:32:15.205436",
          "exception": false,
          "start_time": "2021-09-05T05:32:15.160533",
          "status": "completed"
        },
        "tags": [],
        "id": "4d225c02"
      },
      "source": [
        "* It is always considered as a good practice to make a copy of original dataset."
      ],
      "id": "4d225c02"
    },
    {
      "cell_type": "code",
      "metadata": {
        "execution": {
          "iopub.execute_input": "2021-09-05T05:32:15.305054Z",
          "iopub.status.busy": "2021-09-05T05:32:15.304076Z",
          "iopub.status.idle": "2021-09-05T05:32:15.363125Z",
          "shell.execute_reply": "2021-09-05T05:32:15.362495Z",
          "shell.execute_reply.started": "2021-09-05T05:29:34.604864Z"
        },
        "papermill": {
          "duration": 0.112265,
          "end_time": "2021-09-05T05:32:15.363274",
          "exception": false,
          "start_time": "2021-09-05T05:32:15.251009",
          "status": "completed"
        },
        "tags": [],
        "colab": {
          "base_uri": "https://localhost:8080/",
          "height": 1000
        },
        "id": "8efb1be3",
        "outputId": "12f362cf-2f9a-49b8-e9b0-dca2ab9ad629"
      },
      "source": [
        "main_df = pd.read_csv(\"/content/Latest Covid-19 India Status.csv\")\n",
        "df = main_df.copy()\n",
        "df"
      ],
      "id": "8efb1be3",
      "execution_count": 21,
      "outputs": [
        {
          "output_type": "execute_result",
          "data": {
            "text/html": [
              "<div>\n",
              "<style scoped>\n",
              "    .dataframe tbody tr th:only-of-type {\n",
              "        vertical-align: middle;\n",
              "    }\n",
              "\n",
              "    .dataframe tbody tr th {\n",
              "        vertical-align: top;\n",
              "    }\n",
              "\n",
              "    .dataframe thead th {\n",
              "        text-align: right;\n",
              "    }\n",
              "</style>\n",
              "<table border=\"1\" class=\"dataframe\">\n",
              "  <thead>\n",
              "    <tr style=\"text-align: right;\">\n",
              "      <th></th>\n",
              "      <th>State/UTs</th>\n",
              "      <th>Total Cases</th>\n",
              "      <th>Active</th>\n",
              "      <th>Discharged</th>\n",
              "      <th>Deaths</th>\n",
              "      <th>Active Ratio (%)</th>\n",
              "      <th>Discharge Ratio (%)</th>\n",
              "      <th>Death Ratio (%)</th>\n",
              "    </tr>\n",
              "  </thead>\n",
              "  <tbody>\n",
              "    <tr>\n",
              "      <th>0</th>\n",
              "      <td>Andaman and Nicobar</td>\n",
              "      <td>7566</td>\n",
              "      <td>6</td>\n",
              "      <td>7431</td>\n",
              "      <td>129</td>\n",
              "      <td>0.08</td>\n",
              "      <td>98.22</td>\n",
              "      <td>1.70</td>\n",
              "    </tr>\n",
              "    <tr>\n",
              "      <th>1</th>\n",
              "      <td>Andhra Pradesh</td>\n",
              "      <td>2014116</td>\n",
              "      <td>14693</td>\n",
              "      <td>1985566</td>\n",
              "      <td>13857</td>\n",
              "      <td>0.73</td>\n",
              "      <td>98.58</td>\n",
              "      <td>0.69</td>\n",
              "    </tr>\n",
              "    <tr>\n",
              "      <th>2</th>\n",
              "      <td>Arunachal Pradesh</td>\n",
              "      <td>53031</td>\n",
              "      <td>863</td>\n",
              "      <td>51908</td>\n",
              "      <td>260</td>\n",
              "      <td>1.63</td>\n",
              "      <td>97.88</td>\n",
              "      <td>0.49</td>\n",
              "    </tr>\n",
              "    <tr>\n",
              "      <th>3</th>\n",
              "      <td>Assam</td>\n",
              "      <td>589426</td>\n",
              "      <td>6901</td>\n",
              "      <td>576865</td>\n",
              "      <td>5660</td>\n",
              "      <td>1.17</td>\n",
              "      <td>97.87</td>\n",
              "      <td>0.96</td>\n",
              "    </tr>\n",
              "    <tr>\n",
              "      <th>4</th>\n",
              "      <td>Bihar</td>\n",
              "      <td>725708</td>\n",
              "      <td>100</td>\n",
              "      <td>715955</td>\n",
              "      <td>9653</td>\n",
              "      <td>0.01</td>\n",
              "      <td>98.66</td>\n",
              "      <td>1.33</td>\n",
              "    </tr>\n",
              "    <tr>\n",
              "      <th>5</th>\n",
              "      <td>Chandigarh</td>\n",
              "      <td>65105</td>\n",
              "      <td>40</td>\n",
              "      <td>64252</td>\n",
              "      <td>813</td>\n",
              "      <td>0.06</td>\n",
              "      <td>98.69</td>\n",
              "      <td>1.25</td>\n",
              "    </tr>\n",
              "    <tr>\n",
              "      <th>6</th>\n",
              "      <td>Chhattisgarh</td>\n",
              "      <td>1004451</td>\n",
              "      <td>412</td>\n",
              "      <td>990484</td>\n",
              "      <td>13555</td>\n",
              "      <td>0.04</td>\n",
              "      <td>98.61</td>\n",
              "      <td>1.35</td>\n",
              "    </tr>\n",
              "    <tr>\n",
              "      <th>7</th>\n",
              "      <td>Dadra and Nagar Haveli and Daman and Diu</td>\n",
              "      <td>10663</td>\n",
              "      <td>4</td>\n",
              "      <td>10655</td>\n",
              "      <td>4</td>\n",
              "      <td>0.04</td>\n",
              "      <td>99.92</td>\n",
              "      <td>0.04</td>\n",
              "    </tr>\n",
              "    <tr>\n",
              "      <th>8</th>\n",
              "      <td>Delhi</td>\n",
              "      <td>1437764</td>\n",
              "      <td>349</td>\n",
              "      <td>1412333</td>\n",
              "      <td>25082</td>\n",
              "      <td>0.02</td>\n",
              "      <td>98.23</td>\n",
              "      <td>1.74</td>\n",
              "    </tr>\n",
              "    <tr>\n",
              "      <th>9</th>\n",
              "      <td>Goa</td>\n",
              "      <td>173955</td>\n",
              "      <td>877</td>\n",
              "      <td>169877</td>\n",
              "      <td>3201</td>\n",
              "      <td>0.50</td>\n",
              "      <td>97.66</td>\n",
              "      <td>1.84</td>\n",
              "    </tr>\n",
              "    <tr>\n",
              "      <th>10</th>\n",
              "      <td>Gujarat</td>\n",
              "      <td>825422</td>\n",
              "      <td>150</td>\n",
              "      <td>815191</td>\n",
              "      <td>10081</td>\n",
              "      <td>0.02</td>\n",
              "      <td>98.76</td>\n",
              "      <td>1.22</td>\n",
              "    </tr>\n",
              "    <tr>\n",
              "      <th>11</th>\n",
              "      <td>Haryana</td>\n",
              "      <td>770486</td>\n",
              "      <td>634</td>\n",
              "      <td>760175</td>\n",
              "      <td>9677</td>\n",
              "      <td>0.08</td>\n",
              "      <td>98.66</td>\n",
              "      <td>1.26</td>\n",
              "    </tr>\n",
              "    <tr>\n",
              "      <th>12</th>\n",
              "      <td>Himachal Pradesh</td>\n",
              "      <td>213548</td>\n",
              "      <td>1642</td>\n",
              "      <td>208308</td>\n",
              "      <td>3598</td>\n",
              "      <td>0.77</td>\n",
              "      <td>97.55</td>\n",
              "      <td>1.68</td>\n",
              "    </tr>\n",
              "    <tr>\n",
              "      <th>13</th>\n",
              "      <td>Jammu and Kashmir</td>\n",
              "      <td>325419</td>\n",
              "      <td>1330</td>\n",
              "      <td>319681</td>\n",
              "      <td>4408</td>\n",
              "      <td>0.41</td>\n",
              "      <td>98.24</td>\n",
              "      <td>1.35</td>\n",
              "    </tr>\n",
              "    <tr>\n",
              "      <th>14</th>\n",
              "      <td>Jharkhand</td>\n",
              "      <td>347867</td>\n",
              "      <td>130</td>\n",
              "      <td>342605</td>\n",
              "      <td>5132</td>\n",
              "      <td>0.04</td>\n",
              "      <td>98.49</td>\n",
              "      <td>1.48</td>\n",
              "    </tr>\n",
              "    <tr>\n",
              "      <th>15</th>\n",
              "      <td>Karnataka</td>\n",
              "      <td>2949445</td>\n",
              "      <td>18412</td>\n",
              "      <td>2893715</td>\n",
              "      <td>37318</td>\n",
              "      <td>0.62</td>\n",
              "      <td>98.11</td>\n",
              "      <td>1.27</td>\n",
              "    </tr>\n",
              "    <tr>\n",
              "      <th>16</th>\n",
              "      <td>Kerala</td>\n",
              "      <td>4057233</td>\n",
              "      <td>219441</td>\n",
              "      <td>3817004</td>\n",
              "      <td>20788</td>\n",
              "      <td>5.41</td>\n",
              "      <td>94.08</td>\n",
              "      <td>0.51</td>\n",
              "    </tr>\n",
              "    <tr>\n",
              "      <th>17</th>\n",
              "      <td>Ladakh</td>\n",
              "      <td>20560</td>\n",
              "      <td>69</td>\n",
              "      <td>20284</td>\n",
              "      <td>207</td>\n",
              "      <td>0.34</td>\n",
              "      <td>98.66</td>\n",
              "      <td>1.01</td>\n",
              "    </tr>\n",
              "    <tr>\n",
              "      <th>18</th>\n",
              "      <td>Lakshadweep</td>\n",
              "      <td>10347</td>\n",
              "      <td>31</td>\n",
              "      <td>10265</td>\n",
              "      <td>51</td>\n",
              "      <td>0.30</td>\n",
              "      <td>99.21</td>\n",
              "      <td>0.49</td>\n",
              "    </tr>\n",
              "    <tr>\n",
              "      <th>19</th>\n",
              "      <td>Madhya Pradesh</td>\n",
              "      <td>792175</td>\n",
              "      <td>79</td>\n",
              "      <td>781580</td>\n",
              "      <td>10516</td>\n",
              "      <td>0.01</td>\n",
              "      <td>98.66</td>\n",
              "      <td>1.33</td>\n",
              "    </tr>\n",
              "    <tr>\n",
              "      <th>20</th>\n",
              "      <td>Maharashtra</td>\n",
              "      <td>6464876</td>\n",
              "      <td>54763</td>\n",
              "      <td>6272800</td>\n",
              "      <td>137313</td>\n",
              "      <td>0.85</td>\n",
              "      <td>97.03</td>\n",
              "      <td>2.12</td>\n",
              "    </tr>\n",
              "    <tr>\n",
              "      <th>21</th>\n",
              "      <td>Manipur</td>\n",
              "      <td>113933</td>\n",
              "      <td>3397</td>\n",
              "      <td>108754</td>\n",
              "      <td>1782</td>\n",
              "      <td>2.98</td>\n",
              "      <td>95.45</td>\n",
              "      <td>1.56</td>\n",
              "    </tr>\n",
              "    <tr>\n",
              "      <th>22</th>\n",
              "      <td>Meghalaya</td>\n",
              "      <td>75836</td>\n",
              "      <td>2326</td>\n",
              "      <td>72199</td>\n",
              "      <td>1311</td>\n",
              "      <td>3.07</td>\n",
              "      <td>95.20</td>\n",
              "      <td>1.73</td>\n",
              "    </tr>\n",
              "    <tr>\n",
              "      <th>23</th>\n",
              "      <td>Mizoram</td>\n",
              "      <td>59119</td>\n",
              "      <td>8885</td>\n",
              "      <td>50017</td>\n",
              "      <td>217</td>\n",
              "      <td>15.03</td>\n",
              "      <td>84.60</td>\n",
              "      <td>0.37</td>\n",
              "    </tr>\n",
              "    <tr>\n",
              "      <th>24</th>\n",
              "      <td>Nagaland</td>\n",
              "      <td>30083</td>\n",
              "      <td>815</td>\n",
              "      <td>28648</td>\n",
              "      <td>620</td>\n",
              "      <td>2.71</td>\n",
              "      <td>95.23</td>\n",
              "      <td>2.06</td>\n",
              "    </tr>\n",
              "    <tr>\n",
              "      <th>25</th>\n",
              "      <td>Odisha</td>\n",
              "      <td>1007750</td>\n",
              "      <td>6546</td>\n",
              "      <td>993235</td>\n",
              "      <td>7969</td>\n",
              "      <td>0.65</td>\n",
              "      <td>98.56</td>\n",
              "      <td>0.79</td>\n",
              "    </tr>\n",
              "    <tr>\n",
              "      <th>26</th>\n",
              "      <td>Puducherry</td>\n",
              "      <td>123572</td>\n",
              "      <td>715</td>\n",
              "      <td>121045</td>\n",
              "      <td>1812</td>\n",
              "      <td>0.58</td>\n",
              "      <td>97.96</td>\n",
              "      <td>1.47</td>\n",
              "    </tr>\n",
              "    <tr>\n",
              "      <th>27</th>\n",
              "      <td>Punjab</td>\n",
              "      <td>600614</td>\n",
              "      <td>324</td>\n",
              "      <td>583859</td>\n",
              "      <td>16431</td>\n",
              "      <td>0.05</td>\n",
              "      <td>97.21</td>\n",
              "      <td>2.74</td>\n",
              "    </tr>\n",
              "    <tr>\n",
              "      <th>28</th>\n",
              "      <td>Rajasthan</td>\n",
              "      <td>954095</td>\n",
              "      <td>97</td>\n",
              "      <td>945044</td>\n",
              "      <td>8954</td>\n",
              "      <td>0.01</td>\n",
              "      <td>99.05</td>\n",
              "      <td>0.94</td>\n",
              "    </tr>\n",
              "    <tr>\n",
              "      <th>29</th>\n",
              "      <td>Sikkim</td>\n",
              "      <td>29878</td>\n",
              "      <td>1094</td>\n",
              "      <td>28414</td>\n",
              "      <td>370</td>\n",
              "      <td>3.66</td>\n",
              "      <td>95.10</td>\n",
              "      <td>1.24</td>\n",
              "    </tr>\n",
              "    <tr>\n",
              "      <th>30</th>\n",
              "      <td>Tamil Nadu</td>\n",
              "      <td>2614872</td>\n",
              "      <td>16850</td>\n",
              "      <td>2563101</td>\n",
              "      <td>34921</td>\n",
              "      <td>0.64</td>\n",
              "      <td>98.02</td>\n",
              "      <td>1.34</td>\n",
              "    </tr>\n",
              "    <tr>\n",
              "      <th>31</th>\n",
              "      <td>Telengana</td>\n",
              "      <td>658054</td>\n",
              "      <td>5864</td>\n",
              "      <td>648317</td>\n",
              "      <td>3873</td>\n",
              "      <td>0.89</td>\n",
              "      <td>98.52</td>\n",
              "      <td>0.59</td>\n",
              "    </tr>\n",
              "    <tr>\n",
              "      <th>32</th>\n",
              "      <td>Tripura</td>\n",
              "      <td>82961</td>\n",
              "      <td>917</td>\n",
              "      <td>81244</td>\n",
              "      <td>800</td>\n",
              "      <td>1.11</td>\n",
              "      <td>97.93</td>\n",
              "      <td>0.96</td>\n",
              "    </tr>\n",
              "    <tr>\n",
              "      <th>33</th>\n",
              "      <td>Uttar Pradesh</td>\n",
              "      <td>1709335</td>\n",
              "      <td>256</td>\n",
              "      <td>1686256</td>\n",
              "      <td>22823</td>\n",
              "      <td>0.01</td>\n",
              "      <td>98.65</td>\n",
              "      <td>1.34</td>\n",
              "    </tr>\n",
              "    <tr>\n",
              "      <th>34</th>\n",
              "      <td>Uttarakhand</td>\n",
              "      <td>342976</td>\n",
              "      <td>354</td>\n",
              "      <td>335235</td>\n",
              "      <td>7387</td>\n",
              "      <td>0.10</td>\n",
              "      <td>97.74</td>\n",
              "      <td>2.15</td>\n",
              "    </tr>\n",
              "    <tr>\n",
              "      <th>35</th>\n",
              "      <td>West Bengal</td>\n",
              "      <td>1548604</td>\n",
              "      <td>8815</td>\n",
              "      <td>1521342</td>\n",
              "      <td>18447</td>\n",
              "      <td>0.57</td>\n",
              "      <td>98.24</td>\n",
              "      <td>1.19</td>\n",
              "    </tr>\n",
              "  </tbody>\n",
              "</table>\n",
              "</div>"
            ],
            "text/plain": [
              "                                   State/UTs  ...  Death Ratio (%)\n",
              "0                        Andaman and Nicobar  ...             1.70\n",
              "1                             Andhra Pradesh  ...             0.69\n",
              "2                          Arunachal Pradesh  ...             0.49\n",
              "3                                      Assam  ...             0.96\n",
              "4                                      Bihar  ...             1.33\n",
              "5                                 Chandigarh  ...             1.25\n",
              "6                               Chhattisgarh  ...             1.35\n",
              "7   Dadra and Nagar Haveli and Daman and Diu  ...             0.04\n",
              "8                                      Delhi  ...             1.74\n",
              "9                                        Goa  ...             1.84\n",
              "10                                   Gujarat  ...             1.22\n",
              "11                                   Haryana  ...             1.26\n",
              "12                          Himachal Pradesh  ...             1.68\n",
              "13                         Jammu and Kashmir  ...             1.35\n",
              "14                                 Jharkhand  ...             1.48\n",
              "15                                 Karnataka  ...             1.27\n",
              "16                                    Kerala  ...             0.51\n",
              "17                                    Ladakh  ...             1.01\n",
              "18                               Lakshadweep  ...             0.49\n",
              "19                            Madhya Pradesh  ...             1.33\n",
              "20                               Maharashtra  ...             2.12\n",
              "21                                   Manipur  ...             1.56\n",
              "22                                 Meghalaya  ...             1.73\n",
              "23                                   Mizoram  ...             0.37\n",
              "24                                  Nagaland  ...             2.06\n",
              "25                                    Odisha  ...             0.79\n",
              "26                                Puducherry  ...             1.47\n",
              "27                                    Punjab  ...             2.74\n",
              "28                                 Rajasthan  ...             0.94\n",
              "29                                    Sikkim  ...             1.24\n",
              "30                                Tamil Nadu  ...             1.34\n",
              "31                                 Telengana  ...             0.59\n",
              "32                                   Tripura  ...             0.96\n",
              "33                             Uttar Pradesh  ...             1.34\n",
              "34                               Uttarakhand  ...             2.15\n",
              "35                               West Bengal  ...             1.19\n",
              "\n",
              "[36 rows x 8 columns]"
            ]
          },
          "metadata": {},
          "execution_count": 21
        }
      ]
    },
    {
      "cell_type": "markdown",
      "metadata": {
        "papermill": {
          "duration": 0.045886,
          "end_time": "2021-09-05T05:32:15.455010",
          "exception": false,
          "start_time": "2021-09-05T05:32:15.409124",
          "status": "completed"
        },
        "tags": [],
        "id": "563ef03b"
      },
      "source": [
        "* Above dataframe shows the list of all indian state with covid information."
      ],
      "id": "563ef03b"
    },
    {
      "cell_type": "markdown",
      "metadata": {
        "papermill": {
          "duration": 0.045279,
          "end_time": "2021-09-05T05:32:15.547959",
          "exception": false,
          "start_time": "2021-09-05T05:32:15.502680",
          "status": "completed"
        },
        "tags": [],
        "id": "f5aa075f"
      },
      "source": [
        "### EDA"
      ],
      "id": "f5aa075f"
    },
    {
      "cell_type": "code",
      "metadata": {
        "execution": {
          "iopub.execute_input": "2021-09-05T05:32:15.643808Z",
          "iopub.status.busy": "2021-09-05T05:32:15.642839Z",
          "iopub.status.idle": "2021-09-05T05:32:15.647261Z",
          "shell.execute_reply": "2021-09-05T05:32:15.647794Z",
          "shell.execute_reply.started": "2021-09-05T05:29:34.668107Z"
        },
        "papermill": {
          "duration": 0.056164,
          "end_time": "2021-09-05T05:32:15.647973",
          "exception": false,
          "start_time": "2021-09-05T05:32:15.591809",
          "status": "completed"
        },
        "tags": [],
        "colab": {
          "base_uri": "https://localhost:8080/"
        },
        "id": "6a7df1a7",
        "outputId": "c9a5a604-5bcd-4806-d500-13ec3cf4b944"
      },
      "source": [
        "# Shape of the dataset\n",
        "df.shape"
      ],
      "id": "6a7df1a7",
      "execution_count": 22,
      "outputs": [
        {
          "output_type": "execute_result",
          "data": {
            "text/plain": [
              "(36, 8)"
            ]
          },
          "metadata": {},
          "execution_count": 22
        }
      ]
    },
    {
      "cell_type": "code",
      "metadata": {
        "execution": {
          "iopub.execute_input": "2021-09-05T05:32:15.744866Z",
          "iopub.status.busy": "2021-09-05T05:32:15.743926Z",
          "iopub.status.idle": "2021-09-05T05:32:15.748482Z",
          "shell.execute_reply": "2021-09-05T05:32:15.747941Z",
          "shell.execute_reply.started": "2021-09-05T05:29:34.674808Z"
        },
        "papermill": {
          "duration": 0.054075,
          "end_time": "2021-09-05T05:32:15.748623",
          "exception": false,
          "start_time": "2021-09-05T05:32:15.694548",
          "status": "completed"
        },
        "tags": [],
        "colab": {
          "base_uri": "https://localhost:8080/"
        },
        "id": "37b40807",
        "outputId": "e4d4c708-fa7c-4cd5-98fd-20998f550a73"
      },
      "source": [
        "# Getting list of all columns present in the dataframe\n",
        "df.columns"
      ],
      "id": "37b40807",
      "execution_count": 23,
      "outputs": [
        {
          "output_type": "execute_result",
          "data": {
            "text/plain": [
              "Index(['State/UTs', 'Total Cases', 'Active', 'Discharged', 'Deaths',\n",
              "       'Active Ratio (%)', 'Discharge Ratio (%)', 'Death Ratio (%)'],\n",
              "      dtype='object')"
            ]
          },
          "metadata": {},
          "execution_count": 23
        }
      ]
    },
    {
      "cell_type": "code",
      "metadata": {
        "execution": {
          "iopub.execute_input": "2021-09-05T05:32:15.852231Z",
          "iopub.status.busy": "2021-09-05T05:32:15.851306Z",
          "iopub.status.idle": "2021-09-05T05:32:15.856230Z",
          "shell.execute_reply": "2021-09-05T05:32:15.855670Z",
          "shell.execute_reply.started": "2021-09-05T05:29:34.688744Z"
        },
        "papermill": {
          "duration": 0.062042,
          "end_time": "2021-09-05T05:32:15.856373",
          "exception": false,
          "start_time": "2021-09-05T05:32:15.794331",
          "status": "completed"
        },
        "tags": [],
        "colab": {
          "base_uri": "https://localhost:8080/"
        },
        "id": "550c2bf2",
        "outputId": "14d34b18-5c54-43b4-ad2d-ea750db1691d"
      },
      "source": [
        "# Checking for the duplicated value\n",
        "\n",
        "df.duplicated().sum()"
      ],
      "id": "550c2bf2",
      "execution_count": 24,
      "outputs": [
        {
          "output_type": "execute_result",
          "data": {
            "text/plain": [
              "0"
            ]
          },
          "metadata": {},
          "execution_count": 24
        }
      ]
    },
    {
      "cell_type": "code",
      "metadata": {
        "execution": {
          "iopub.execute_input": "2021-09-05T05:32:15.967253Z",
          "iopub.status.busy": "2021-09-05T05:32:15.966544Z",
          "iopub.status.idle": "2021-09-05T05:32:15.971994Z",
          "shell.execute_reply": "2021-09-05T05:32:15.971418Z",
          "shell.execute_reply.started": "2021-09-05T05:29:34.714940Z"
        },
        "papermill": {
          "duration": 0.069426,
          "end_time": "2021-09-05T05:32:15.972154",
          "exception": false,
          "start_time": "2021-09-05T05:32:15.902728",
          "status": "completed"
        },
        "tags": [],
        "colab": {
          "base_uri": "https://localhost:8080/",
          "height": 300
        },
        "id": "3f2b691f",
        "outputId": "2acd7692-8dd6-4d6f-d9c9-98019d9d6814"
      },
      "source": [
        "# Replacing long name by short name\n",
        "\n",
        "df = df.replace('Dadra and Nagar Haveli and Daman and Diu', 'Daman and Diu')\n",
        "df.head(8)"
      ],
      "id": "3f2b691f",
      "execution_count": 25,
      "outputs": [
        {
          "output_type": "execute_result",
          "data": {
            "text/html": [
              "<div>\n",
              "<style scoped>\n",
              "    .dataframe tbody tr th:only-of-type {\n",
              "        vertical-align: middle;\n",
              "    }\n",
              "\n",
              "    .dataframe tbody tr th {\n",
              "        vertical-align: top;\n",
              "    }\n",
              "\n",
              "    .dataframe thead th {\n",
              "        text-align: right;\n",
              "    }\n",
              "</style>\n",
              "<table border=\"1\" class=\"dataframe\">\n",
              "  <thead>\n",
              "    <tr style=\"text-align: right;\">\n",
              "      <th></th>\n",
              "      <th>State/UTs</th>\n",
              "      <th>Total Cases</th>\n",
              "      <th>Active</th>\n",
              "      <th>Discharged</th>\n",
              "      <th>Deaths</th>\n",
              "      <th>Active Ratio (%)</th>\n",
              "      <th>Discharge Ratio (%)</th>\n",
              "      <th>Death Ratio (%)</th>\n",
              "    </tr>\n",
              "  </thead>\n",
              "  <tbody>\n",
              "    <tr>\n",
              "      <th>0</th>\n",
              "      <td>Andaman and Nicobar</td>\n",
              "      <td>7566</td>\n",
              "      <td>6</td>\n",
              "      <td>7431</td>\n",
              "      <td>129</td>\n",
              "      <td>0.08</td>\n",
              "      <td>98.22</td>\n",
              "      <td>1.70</td>\n",
              "    </tr>\n",
              "    <tr>\n",
              "      <th>1</th>\n",
              "      <td>Andhra Pradesh</td>\n",
              "      <td>2014116</td>\n",
              "      <td>14693</td>\n",
              "      <td>1985566</td>\n",
              "      <td>13857</td>\n",
              "      <td>0.73</td>\n",
              "      <td>98.58</td>\n",
              "      <td>0.69</td>\n",
              "    </tr>\n",
              "    <tr>\n",
              "      <th>2</th>\n",
              "      <td>Arunachal Pradesh</td>\n",
              "      <td>53031</td>\n",
              "      <td>863</td>\n",
              "      <td>51908</td>\n",
              "      <td>260</td>\n",
              "      <td>1.63</td>\n",
              "      <td>97.88</td>\n",
              "      <td>0.49</td>\n",
              "    </tr>\n",
              "    <tr>\n",
              "      <th>3</th>\n",
              "      <td>Assam</td>\n",
              "      <td>589426</td>\n",
              "      <td>6901</td>\n",
              "      <td>576865</td>\n",
              "      <td>5660</td>\n",
              "      <td>1.17</td>\n",
              "      <td>97.87</td>\n",
              "      <td>0.96</td>\n",
              "    </tr>\n",
              "    <tr>\n",
              "      <th>4</th>\n",
              "      <td>Bihar</td>\n",
              "      <td>725708</td>\n",
              "      <td>100</td>\n",
              "      <td>715955</td>\n",
              "      <td>9653</td>\n",
              "      <td>0.01</td>\n",
              "      <td>98.66</td>\n",
              "      <td>1.33</td>\n",
              "    </tr>\n",
              "    <tr>\n",
              "      <th>5</th>\n",
              "      <td>Chandigarh</td>\n",
              "      <td>65105</td>\n",
              "      <td>40</td>\n",
              "      <td>64252</td>\n",
              "      <td>813</td>\n",
              "      <td>0.06</td>\n",
              "      <td>98.69</td>\n",
              "      <td>1.25</td>\n",
              "    </tr>\n",
              "    <tr>\n",
              "      <th>6</th>\n",
              "      <td>Chhattisgarh</td>\n",
              "      <td>1004451</td>\n",
              "      <td>412</td>\n",
              "      <td>990484</td>\n",
              "      <td>13555</td>\n",
              "      <td>0.04</td>\n",
              "      <td>98.61</td>\n",
              "      <td>1.35</td>\n",
              "    </tr>\n",
              "    <tr>\n",
              "      <th>7</th>\n",
              "      <td>Daman and Diu</td>\n",
              "      <td>10663</td>\n",
              "      <td>4</td>\n",
              "      <td>10655</td>\n",
              "      <td>4</td>\n",
              "      <td>0.04</td>\n",
              "      <td>99.92</td>\n",
              "      <td>0.04</td>\n",
              "    </tr>\n",
              "  </tbody>\n",
              "</table>\n",
              "</div>"
            ],
            "text/plain": [
              "             State/UTs  Total Cases  ...  Discharge Ratio (%)  Death Ratio (%)\n",
              "0  Andaman and Nicobar         7566  ...                98.22             1.70\n",
              "1       Andhra Pradesh      2014116  ...                98.58             0.69\n",
              "2    Arunachal Pradesh        53031  ...                97.88             0.49\n",
              "3                Assam       589426  ...                97.87             0.96\n",
              "4                Bihar       725708  ...                98.66             1.33\n",
              "5           Chandigarh        65105  ...                98.69             1.25\n",
              "6         Chhattisgarh      1004451  ...                98.61             1.35\n",
              "7        Daman and Diu        10663  ...                99.92             0.04\n",
              "\n",
              "[8 rows x 8 columns]"
            ]
          },
          "metadata": {},
          "execution_count": 25
        }
      ]
    },
    {
      "cell_type": "code",
      "metadata": {
        "execution": {
          "iopub.execute_input": "2021-09-05T05:32:16.090447Z",
          "iopub.status.busy": "2021-09-05T05:32:16.089529Z",
          "iopub.status.idle": "2021-09-05T05:32:16.094182Z",
          "shell.execute_reply": "2021-09-05T05:32:16.093580Z",
          "shell.execute_reply.started": "2021-09-05T05:29:34.737217Z"
        },
        "papermill": {
          "duration": 0.073388,
          "end_time": "2021-09-05T05:32:16.094351",
          "exception": false,
          "start_time": "2021-09-05T05:32:16.020963",
          "status": "completed"
        },
        "tags": [],
        "colab": {
          "base_uri": "https://localhost:8080/"
        },
        "id": "36321ea9",
        "outputId": "0b2c189e-f6d8-40b5-bf09-f506d7c24f2b"
      },
      "source": [
        "# Information about dataset\n",
        "\n",
        "df.info()"
      ],
      "id": "36321ea9",
      "execution_count": 26,
      "outputs": [
        {
          "output_type": "stream",
          "name": "stdout",
          "text": [
            "<class 'pandas.core.frame.DataFrame'>\n",
            "RangeIndex: 36 entries, 0 to 35\n",
            "Data columns (total 8 columns):\n",
            " #   Column               Non-Null Count  Dtype  \n",
            "---  ------               --------------  -----  \n",
            " 0   State/UTs            36 non-null     object \n",
            " 1   Total Cases          36 non-null     int64  \n",
            " 2   Active               36 non-null     int64  \n",
            " 3   Discharged           36 non-null     int64  \n",
            " 4   Deaths               36 non-null     int64  \n",
            " 5   Active Ratio (%)     36 non-null     float64\n",
            " 6   Discharge Ratio (%)  36 non-null     float64\n",
            " 7   Death Ratio (%)      36 non-null     float64\n",
            "dtypes: float64(3), int64(4), object(1)\n",
            "memory usage: 2.4+ KB\n"
          ]
        }
      ]
    },
    {
      "cell_type": "code",
      "metadata": {
        "execution": {
          "iopub.execute_input": "2021-09-05T05:32:16.200304Z",
          "iopub.status.busy": "2021-09-05T05:32:16.199246Z",
          "iopub.status.idle": "2021-09-05T05:32:16.234761Z",
          "shell.execute_reply": "2021-09-05T05:32:16.234141Z",
          "shell.execute_reply.started": "2021-09-05T05:29:34.759558Z"
        },
        "papermill": {
          "duration": 0.092954,
          "end_time": "2021-09-05T05:32:16.234919",
          "exception": false,
          "start_time": "2021-09-05T05:32:16.141965",
          "status": "completed"
        },
        "tags": [],
        "colab": {
          "base_uri": "https://localhost:8080/",
          "height": 300
        },
        "id": "fe892156",
        "outputId": "c40d1d13-658f-471c-e557-42d27d7ef47f"
      },
      "source": [
        "# Statistical measurement of the dataset\n",
        "\n",
        "df.describe()"
      ],
      "id": "fe892156",
      "execution_count": 27,
      "outputs": [
        {
          "output_type": "execute_result",
          "data": {
            "text/html": [
              "<div>\n",
              "<style scoped>\n",
              "    .dataframe tbody tr th:only-of-type {\n",
              "        vertical-align: middle;\n",
              "    }\n",
              "\n",
              "    .dataframe tbody tr th {\n",
              "        vertical-align: top;\n",
              "    }\n",
              "\n",
              "    .dataframe thead th {\n",
              "        text-align: right;\n",
              "    }\n",
              "</style>\n",
              "<table border=\"1\" class=\"dataframe\">\n",
              "  <thead>\n",
              "    <tr style=\"text-align: right;\">\n",
              "      <th></th>\n",
              "      <th>Total Cases</th>\n",
              "      <th>Active</th>\n",
              "      <th>Discharged</th>\n",
              "      <th>Deaths</th>\n",
              "      <th>Active Ratio (%)</th>\n",
              "      <th>Discharge Ratio (%)</th>\n",
              "      <th>Death Ratio (%)</th>\n",
              "    </tr>\n",
              "  </thead>\n",
              "  <tbody>\n",
              "    <tr>\n",
              "      <th>count</th>\n",
              "      <td>3.600000e+01</td>\n",
              "      <td>36.000000</td>\n",
              "      <td>3.600000e+01</td>\n",
              "      <td>36.000000</td>\n",
              "      <td>36.000000</td>\n",
              "      <td>36.000000</td>\n",
              "      <td>36.000000</td>\n",
              "    </tr>\n",
              "    <tr>\n",
              "      <th>mean</th>\n",
              "      <td>9.114124e+05</td>\n",
              "      <td>10505.027778</td>\n",
              "      <td>8.887123e+05</td>\n",
              "      <td>12195.000000</td>\n",
              "      <td>1.255278</td>\n",
              "      <td>97.478611</td>\n",
              "      <td>1.266111</td>\n",
              "    </tr>\n",
              "    <tr>\n",
              "      <th>std</th>\n",
              "      <td>1.334291e+06</td>\n",
              "      <td>37159.139184</td>\n",
              "      <td>1.290595e+06</td>\n",
              "      <td>23546.148094</td>\n",
              "      <td>2.661486</td>\n",
              "      <td>2.556711</td>\n",
              "      <td>0.563541</td>\n",
              "    </tr>\n",
              "    <tr>\n",
              "      <th>min</th>\n",
              "      <td>7.566000e+03</td>\n",
              "      <td>4.000000</td>\n",
              "      <td>7.431000e+03</td>\n",
              "      <td>4.000000</td>\n",
              "      <td>0.010000</td>\n",
              "      <td>84.600000</td>\n",
              "      <td>0.040000</td>\n",
              "    </tr>\n",
              "    <tr>\n",
              "      <th>25%</th>\n",
              "      <td>7.315325e+04</td>\n",
              "      <td>145.000000</td>\n",
              "      <td>7.021225e+04</td>\n",
              "      <td>809.750000</td>\n",
              "      <td>0.047500</td>\n",
              "      <td>97.632500</td>\n",
              "      <td>0.955000</td>\n",
              "    </tr>\n",
              "    <tr>\n",
              "      <th>50%</th>\n",
              "      <td>4.686465e+05</td>\n",
              "      <td>839.000000</td>\n",
              "      <td>4.597350e+05</td>\n",
              "      <td>5396.000000</td>\n",
              "      <td>0.535000</td>\n",
              "      <td>98.225000</td>\n",
              "      <td>1.300000</td>\n",
              "    </tr>\n",
              "    <tr>\n",
              "      <th>75%</th>\n",
              "      <td>1.005276e+06</td>\n",
              "      <td>6034.500000</td>\n",
              "      <td>9.911718e+05</td>\n",
              "      <td>13630.500000</td>\n",
              "      <td>0.945000</td>\n",
              "      <td>98.652500</td>\n",
              "      <td>1.590000</td>\n",
              "    </tr>\n",
              "    <tr>\n",
              "      <th>max</th>\n",
              "      <td>6.464876e+06</td>\n",
              "      <td>219441.000000</td>\n",
              "      <td>6.272800e+06</td>\n",
              "      <td>137313.000000</td>\n",
              "      <td>15.030000</td>\n",
              "      <td>99.920000</td>\n",
              "      <td>2.740000</td>\n",
              "    </tr>\n",
              "  </tbody>\n",
              "</table>\n",
              "</div>"
            ],
            "text/plain": [
              "        Total Cases         Active  ...  Discharge Ratio (%)  Death Ratio (%)\n",
              "count  3.600000e+01      36.000000  ...            36.000000        36.000000\n",
              "mean   9.114124e+05   10505.027778  ...            97.478611         1.266111\n",
              "std    1.334291e+06   37159.139184  ...             2.556711         0.563541\n",
              "min    7.566000e+03       4.000000  ...            84.600000         0.040000\n",
              "25%    7.315325e+04     145.000000  ...            97.632500         0.955000\n",
              "50%    4.686465e+05     839.000000  ...            98.225000         1.300000\n",
              "75%    1.005276e+06    6034.500000  ...            98.652500         1.590000\n",
              "max    6.464876e+06  219441.000000  ...            99.920000         2.740000\n",
              "\n",
              "[8 rows x 7 columns]"
            ]
          },
          "metadata": {},
          "execution_count": 27
        }
      ]
    },
    {
      "cell_type": "code",
      "metadata": {
        "execution": {
          "iopub.execute_input": "2021-09-05T05:32:16.336474Z",
          "iopub.status.busy": "2021-09-05T05:32:16.333461Z",
          "iopub.status.idle": "2021-09-05T05:32:16.341534Z",
          "shell.execute_reply": "2021-09-05T05:32:16.340948Z",
          "shell.execute_reply.started": "2021-09-05T05:29:34.808893Z"
        },
        "papermill": {
          "duration": 0.060679,
          "end_time": "2021-09-05T05:32:16.341683",
          "exception": false,
          "start_time": "2021-09-05T05:32:16.281004",
          "status": "completed"
        },
        "tags": [],
        "colab": {
          "base_uri": "https://localhost:8080/"
        },
        "id": "9a252762",
        "outputId": "c22b64a3-8681-4ea2-e769-2f11204223ea"
      },
      "source": [
        "# Checking for any missing value\n",
        "\n",
        "df.isnull().sum()"
      ],
      "id": "9a252762",
      "execution_count": 28,
      "outputs": [
        {
          "output_type": "execute_result",
          "data": {
            "text/plain": [
              "State/UTs              0\n",
              "Total Cases            0\n",
              "Active                 0\n",
              "Discharged             0\n",
              "Deaths                 0\n",
              "Active Ratio (%)       0\n",
              "Discharge Ratio (%)    0\n",
              "Death Ratio (%)        0\n",
              "dtype: int64"
            ]
          },
          "metadata": {},
          "execution_count": 28
        }
      ]
    },
    {
      "cell_type": "code",
      "metadata": {
        "execution": {
          "iopub.execute_input": "2021-09-05T05:32:16.462827Z",
          "iopub.status.busy": "2021-09-05T05:32:16.461680Z",
          "iopub.status.idle": "2021-09-05T05:32:16.916417Z",
          "shell.execute_reply": "2021-09-05T05:32:16.915811Z",
          "shell.execute_reply.started": "2021-09-05T05:29:34.822494Z"
        },
        "papermill": {
          "duration": 0.526342,
          "end_time": "2021-09-05T05:32:16.916588",
          "exception": false,
          "start_time": "2021-09-05T05:32:16.390246",
          "status": "completed"
        },
        "tags": [],
        "colab": {
          "base_uri": "https://localhost:8080/",
          "height": 377
        },
        "id": "10e9d339",
        "outputId": "f0eea396-fed1-4eab-9aba-f21790835f4f"
      },
      "source": [
        "# Visualization for missing value\n",
        "\n",
        "sns.heatmap(df.isnull())"
      ],
      "id": "10e9d339",
      "execution_count": 29,
      "outputs": [
        {
          "output_type": "execute_result",
          "data": {
            "text/plain": [
              "<matplotlib.axes._subplots.AxesSubplot at 0x7f7baa674410>"
            ]
          },
          "metadata": {},
          "execution_count": 29
        },
        {
          "output_type": "display_data",
          "data": {
            "image/png": "[encoded data removed]",
            "text/plain": [
              "<Figure size 432x288 with 2 Axes>"
            ]
          },
          "metadata": {
            "needs_background": "light"
          }
        }
      ]
    },
    {
      "cell_type": "code",
      "metadata": {
        "execution": {
          "iopub.execute_input": "2021-09-05T05:32:17.025558Z",
          "iopub.status.busy": "2021-09-05T05:32:17.024542Z",
          "iopub.status.idle": "2021-09-05T05:32:17.046683Z",
          "shell.execute_reply": "2021-09-05T05:32:17.045424Z",
          "shell.execute_reply.started": "2021-09-05T05:29:35.277029Z"
        },
        "papermill": {
          "duration": 0.078522,
          "end_time": "2021-09-05T05:32:17.046918",
          "exception": false,
          "start_time": "2021-09-05T05:32:16.968396",
          "status": "completed"
        },
        "tags": [],
        "colab": {
          "base_uri": "https://localhost:8080/",
          "height": 269
        },
        "id": "52a26549",
        "outputId": "b48cb1c4-39e6-45ed-c63b-bd81a3dd4d9f"
      },
      "source": [
        "# Checking correlations within variables\n",
        "\n",
        "df.corr()"
      ],
      "id": "52a26549",
      "execution_count": 30,
      "outputs": [
        {
          "output_type": "execute_result",
          "data": {
            "text/html": [
              "<div>\n",
              "<style scoped>\n",
              "    .dataframe tbody tr th:only-of-type {\n",
              "        vertical-align: middle;\n",
              "    }\n",
              "\n",
              "    .dataframe tbody tr th {\n",
              "        vertical-align: top;\n",
              "    }\n",
              "\n",
              "    .dataframe thead th {\n",
              "        text-align: right;\n",
              "    }\n",
              "</style>\n",
              "<table border=\"1\" class=\"dataframe\">\n",
              "  <thead>\n",
              "    <tr style=\"text-align: right;\">\n",
              "      <th></th>\n",
              "      <th>Total Cases</th>\n",
              "      <th>Active</th>\n",
              "      <th>Discharged</th>\n",
              "      <th>Deaths</th>\n",
              "      <th>Active Ratio (%)</th>\n",
              "      <th>Discharge Ratio (%)</th>\n",
              "      <th>Death Ratio (%)</th>\n",
              "    </tr>\n",
              "  </thead>\n",
              "  <tbody>\n",
              "    <tr>\n",
              "      <th>Total Cases</th>\n",
              "      <td>1.000000</td>\n",
              "      <td>0.611215</td>\n",
              "      <td>0.999838</td>\n",
              "      <td>0.900046</td>\n",
              "      <td>-0.027254</td>\n",
              "      <td>0.008484</td>\n",
              "      <td>0.089691</td>\n",
              "    </tr>\n",
              "    <tr>\n",
              "      <th>Active</th>\n",
              "      <td>0.611215</td>\n",
              "      <td>1.000000</td>\n",
              "      <td>0.597580</td>\n",
              "      <td>0.303463</td>\n",
              "      <td>0.282188</td>\n",
              "      <td>-0.251663</td>\n",
              "      <td>-0.190999</td>\n",
              "    </tr>\n",
              "    <tr>\n",
              "      <th>Discharged</th>\n",
              "      <td>0.999838</td>\n",
              "      <td>0.597580</td>\n",
              "      <td>1.000000</td>\n",
              "      <td>0.903537</td>\n",
              "      <td>-0.034539</td>\n",
              "      <td>0.015363</td>\n",
              "      <td>0.092881</td>\n",
              "    </tr>\n",
              "    <tr>\n",
              "      <th>Deaths</th>\n",
              "      <td>0.900046</td>\n",
              "      <td>0.303463</td>\n",
              "      <td>0.903537</td>\n",
              "      <td>1.000000</td>\n",
              "      <td>-0.096621</td>\n",
              "      <td>0.035855</td>\n",
              "      <td>0.293068</td>\n",
              "    </tr>\n",
              "    <tr>\n",
              "      <th>Active Ratio (%)</th>\n",
              "      <td>-0.027254</td>\n",
              "      <td>0.282188</td>\n",
              "      <td>-0.034539</td>\n",
              "      <td>-0.096621</td>\n",
              "      <td>1.000000</td>\n",
              "      <td>-0.977407</td>\n",
              "      <td>-0.288829</td>\n",
              "    </tr>\n",
              "    <tr>\n",
              "      <th>Discharge Ratio (%)</th>\n",
              "      <td>0.008484</td>\n",
              "      <td>-0.251663</td>\n",
              "      <td>0.015363</td>\n",
              "      <td>0.035855</td>\n",
              "      <td>-0.977407</td>\n",
              "      <td>1.000000</td>\n",
              "      <td>0.079953</td>\n",
              "    </tr>\n",
              "    <tr>\n",
              "      <th>Death Ratio (%)</th>\n",
              "      <td>0.089691</td>\n",
              "      <td>-0.190999</td>\n",
              "      <td>0.092881</td>\n",
              "      <td>0.293068</td>\n",
              "      <td>-0.288829</td>\n",
              "      <td>0.079953</td>\n",
              "      <td>1.000000</td>\n",
              "    </tr>\n",
              "  </tbody>\n",
              "</table>\n",
              "</div>"
            ],
            "text/plain": [
              "                     Total Cases  ...  Death Ratio (%)\n",
              "Total Cases             1.000000  ...         0.089691\n",
              "Active                  0.611215  ...        -0.190999\n",
              "Discharged              0.999838  ...         0.092881\n",
              "Deaths                  0.900046  ...         0.293068\n",
              "Active Ratio (%)       -0.027254  ...        -0.288829\n",
              "Discharge Ratio (%)     0.008484  ...         0.079953\n",
              "Death Ratio (%)         0.089691  ...         1.000000\n",
              "\n",
              "[7 rows x 7 columns]"
            ]
          },
          "metadata": {},
          "execution_count": 30
        }
      ]
    },
    {
      "cell_type": "code",
      "metadata": {
        "execution": {
          "iopub.execute_input": "2021-09-05T05:32:17.178514Z",
          "iopub.status.busy": "2021-09-05T05:32:17.175092Z",
          "iopub.status.idle": "2021-09-05T05:32:17.856070Z",
          "shell.execute_reply": "2021-09-05T05:32:17.855518Z",
          "shell.execute_reply.started": "2021-09-05T05:29:35.296760Z"
        },
        "papermill": {
          "duration": 0.757971,
          "end_time": "2021-09-05T05:32:17.856232",
          "exception": false,
          "start_time": "2021-09-05T05:32:17.098261",
          "status": "completed"
        },
        "tags": [],
        "colab": {
          "base_uri": "https://localhost:8080/",
          "height": 377
        },
        "id": "c8afa8be",
        "outputId": "251a3ec2-d815-4f3b-95bc-ee98d84da2cc"
      },
      "source": [
        "# Visualization of correlations within variables\n",
        "\n",
        "sns.heatmap(df.corr(), annot=True)"
      ],
      "id": "c8afa8be",
      "execution_count": 31,
      "outputs": [
        {
          "output_type": "execute_result",
          "data": {
            "text/plain": [
              "<matplotlib.axes._subplots.AxesSubplot at 0x7f7baa552c90>"
            ]
          },
          "metadata": {},
          "execution_count": 31
        },
        {
          "output_type": "display_data",
          "data": {
            "image/png": "[encoded data removed]",
            "text/plain": [
              "<Figure size 432x288 with 2 Axes>"
            ]
          },
          "metadata": {
            "needs_background": "light"
          }
        }
      ]
    },
    {
      "cell_type": "markdown",
      "metadata": {
        "papermill": {
          "duration": 0.051951,
          "end_time": "2021-09-05T05:32:17.963890",
          "exception": false,
          "start_time": "2021-09-05T05:32:17.911939",
          "status": "completed"
        },
        "tags": [],
        "id": "59321306"
      },
      "source": [
        "## Visualization"
      ],
      "id": "59321306"
    },
    {
      "cell_type": "markdown",
      "metadata": {
        "papermill": {
          "duration": 0.052327,
          "end_time": "2021-09-05T05:32:18.070938",
          "exception": false,
          "start_time": "2021-09-05T05:32:18.018611",
          "status": "completed"
        },
        "tags": [],
        "id": "760347cf"
      },
      "source": [
        "#### Creating Report using Visualization"
      ],
      "id": "760347cf"
    },
    {
      "cell_type": "code",
      "metadata": {
        "execution": {
          "iopub.execute_input": "2021-09-05T05:32:18.191257Z",
          "iopub.status.busy": "2021-09-05T05:32:18.189084Z",
          "iopub.status.idle": "2021-09-05T05:32:18.745815Z",
          "shell.execute_reply": "2021-09-05T05:32:18.745259Z",
          "shell.execute_reply.started": "2021-09-05T05:29:35.880122Z"
        },
        "papermill": {
          "duration": 0.623711,
          "end_time": "2021-09-05T05:32:18.745970",
          "exception": false,
          "start_time": "2021-09-05T05:32:18.122259",
          "status": "completed"
        },
        "tags": [],
        "colab": {
          "base_uri": "https://localhost:8080/",
          "height": 623
        },
        "id": "9febd76e",
        "outputId": "fba6739e-afd4-42e2-b50a-13d8d2a7c421"
      },
      "source": [
        "# Barplot using seaborn\n",
        "\n",
        "plt.figure(figsize=(8, 10))\n",
        "sns.barplot(data = df, y=\"State/UTs\", x=\"Total Cases\")"
      ],
      "id": "9febd76e",
      "execution_count": 32,
      "outputs": [
        {
          "output_type": "execute_result",
          "data": {
            "text/plain": [
              "<matplotlib.axes._subplots.AxesSubplot at 0x7f7baa484250>"
            ]
          },
          "metadata": {},
          "execution_count": 32
        },
        {
          "output_type": "display_data",
          "data": {
            "image/png": "[encoded data removed]",
            "text/plain": [
              "<Figure size 576x720 with 1 Axes>"
            ]
          },
          "metadata": {
            "needs_background": "light"
          }
        }
      ]
    },
    {
      "cell_type": "markdown",
      "metadata": {
        "papermill": {
          "duration": 0.054144,
          "end_time": "2021-09-05T05:32:18.866732",
          "exception": false,
          "start_time": "2021-09-05T05:32:18.812588",
          "status": "completed"
        },
        "tags": [],
        "id": "9dfae196"
      },
      "source": [
        "* In above plot we can see that Maharastra have maximum number of covid cases."
      ],
      "id": "9dfae196"
    },
    {
      "cell_type": "code",
      "metadata": {
        "execution": {
          "iopub.execute_input": "2021-09-05T05:32:18.981555Z",
          "iopub.status.busy": "2021-09-05T05:32:18.980903Z",
          "iopub.status.idle": "2021-09-05T05:32:20.418141Z",
          "shell.execute_reply": "2021-09-05T05:32:20.417567Z",
          "shell.execute_reply.started": "2021-09-05T05:29:36.403978Z"
        },
        "papermill": {
          "duration": 1.497611,
          "end_time": "2021-09-05T05:32:20.418313",
          "exception": false,
          "start_time": "2021-09-05T05:32:18.920702",
          "status": "completed"
        },
        "tags": [],
        "colab": {
          "base_uri": "https://localhost:8080/",
          "height": 542
        },
        "id": "20aa1931",
        "outputId": "8d1f6c4d-1c27-4c1a-b100-2b7ce068d9a5"
      },
      "source": [
        "px.bar(df, x=\"State/UTs\", y=\"Total Cases\", color=\"Death Ratio (%)\", title=\"Total Cases as per each State : \")"
      ],
      "id": "20aa1931",
      "execution_count": 33,
      "outputs": [
        {
          "output_type": "display_data",
          "data": {
            "text/html": [
              "<html>\n",
              "<head><meta charset=\"utf-8\" /></head>\n",
              "<body>\n",
              "    <div>\n",
              "            <script src=\"https://cdnjs.cloudflare.com/ajax/libs/mathjax/2.7.5/MathJax.js?config=TeX-AMS-MML_SVG\"></script><script type=\"text/javascript\">if (window.MathJax) {MathJax.Hub.Config({SVG: {font: \"STIX-Web\"}});}</script>\n",
              "                <script type=\"text/javascript\">window.PlotlyConfig = {MathJaxConfig: 'local'};</script>\n",
              "        <script src=\"https://cdn.plot.ly/plotly-latest.min.js\"></script>    \n",
              "            <div id=\"84bd41ee-5e39-4213-8757-d77d7792dace\" class=\"plotly-graph-div\" style=\"height:525px; width:100%;\"></div>\n",
              "            <script type=\"text/javascript\">\n",
              "                \n",
              "                    window.PLOTLYENV=window.PLOTLYENV || {};\n",
              "                    \n",
              "                if (document.getElementById(\"84bd41ee-5e39-4213-8757-d77d7792dace\")) {\n",
              "                    Plotly.newPlot(\n",
              "                        '84bd41ee-5e39-4213-8757-d77d7792dace',\n",
              "                        [{\"alignmentgroup\": \"True\", \"hoverlabel\": {\"namelength\": 0}, \"hovertemplate\": \"State/UTs=%{x}<br>Total Cases=%{y}<br>Death Ratio (%)=%{marker.color}\", \"legendgroup\": \"\", \"marker\": {\"color\": [1.7, 0.69, 0.49, 0.96, 1.33, 1.25, 1.35, 0.04, 1.74, 1.84, 1.22, 1.26, 1.68, 1.35, 1.48, 1.27, 0.51, 1.01, 0.49, 1.33, 2.12, 1.56, 1.73, 0.37, 2.06, 0.79, 1.47, 2.74, 0.94, 1.24, 1.34, 0.59, 0.96, 1.34, 2.15, 1.19], \"coloraxis\": \"coloraxis\"}, \"name\": \"\", \"offsetgroup\": \"\", \"orientation\": \"v\", \"showlegend\": false, \"textposition\": \"auto\", \"type\": \"bar\", \"x\": [\"Andaman and Nicobar\", \"Andhra Pradesh\", \"Arunachal Pradesh\", \"Assam\", \"Bihar\", \"Chandigarh\", \"Chhattisgarh\", \"Daman and Diu\", \"Delhi\", \"Goa\", \"Gujarat\", \"Haryana\", \"Himachal Pradesh\", \"Jammu and Kashmir\", \"Jharkhand\", \"Karnataka\", \"Kerala\", \"Ladakh\", \"Lakshadweep\", \"Madhya Pradesh\", \"Maharashtra\", \"Manipur\", \"Meghalaya\", \"Mizoram\", \"Nagaland\", \"Odisha\", \"Puducherry\", \"Punjab\", \"Rajasthan\", \"Sikkim\", \"Tamil Nadu\", \"Telengana\", \"Tripura\", \"Uttar Pradesh\", \"Uttarakhand\", \"West Bengal\"], \"xaxis\": \"x\", \"y\": [7566, 2014116, 53031, 589426, 725708, 65105, 1004451, 10663, 1437764, 173955, 825422, 770486, 213548, 325419, 347867, 2949445, 4057233, 20560, 10347, 792175, 6464876, 113933, 75836, 59119, 30083, 1007750, 123572, 600614, 954095, 29878, 2614872, 658054, 82961, 1709335, 342976, 1548604], \"yaxis\": \"y\"}],\n",
              "                        {\"barmode\": \"relative\", \"coloraxis\": {\"colorbar\": {\"title\": {\"text\": \"Death Ratio (%)\"}}, \"colorscale\": [[0.0, \"#0d0887\"], [0.1111111111111111, \"#46039f\"], [0.2222222222222222, \"#7201a8\"], [0.3333333333333333, \"#9c179e\"], [0.4444444444444444, \"#bd3786\"], [0.5555555555555556, \"#d8576b\"], [0.6666666666666666, \"#ed7953\"], [0.7777777777777778, \"#fb9f3a\"], [0.8888888888888888, \"#fdca26\"], [1.0, \"#f0f921\"]]}, \"legend\": {\"tracegroupgap\": 0}, \"template\": {\"data\": {\"bar\": [{\"error_x\": {\"color\": \"#2a3f5f\"}, \"error_y\": {\"color\": \"#2a3f5f\"}, \"marker\": {\"line\": {\"color\": \"#E5ECF6\", \"width\": 0.5}}, \"type\": \"bar\"}], \"barpolar\": [{\"marker\": {\"line\": {\"color\": \"#E5ECF6\", \"width\": 0.5}}, \"type\": \"barpolar\"}], \"carpet\": [{\"aaxis\": {\"endlinecolor\": \"#2a3f5f\", \"gridcolor\": \"white\", \"linecolor\": \"white\", \"minorgridcolor\": \"white\", \"startlinecolor\": \"#2a3f5f\"}, \"baxis\": {\"endlinecolor\": \"#2a3f5f\", \"gridcolor\": \"white\", \"linecolor\": \"white\", \"minorgridcolor\": \"white\", \"startlinecolor\": \"#2a3f5f\"}, \"type\": \"carpet\"}], \"choropleth\": [{\"colorbar\": {\"outlinewidth\": 0, \"ticks\": \"\"}, \"type\": \"choropleth\"}], \"contour\": [{\"colorbar\": {\"outlinewidth\": 0, \"ticks\": \"\"}, \"colorscale\": [[0.0, \"#0d0887\"], [0.1111111111111111, \"#46039f\"], [0.2222222222222222, \"#7201a8\"], [0.3333333333333333, \"#9c179e\"], [0.4444444444444444, \"#bd3786\"], [0.5555555555555556, \"#d8576b\"], [0.6666666666666666, \"#ed7953\"], [0.7777777777777778, \"#fb9f3a\"], [0.8888888888888888, \"#fdca26\"], [1.0, \"#f0f921\"]], \"type\": \"contour\"}], \"contourcarpet\": [{\"colorbar\": {\"outlinewidth\": 0, \"ticks\": \"\"}, \"type\": \"contourcarpet\"}], \"heatmap\": [{\"colorbar\": {\"outlinewidth\": 0, \"ticks\": \"\"}, \"colorscale\": [[0.0, \"#0d0887\"], [0.1111111111111111, \"#46039f\"], [0.2222222222222222, \"#7201a8\"], [0.3333333333333333, \"#9c179e\"], [0.4444444444444444, \"#bd3786\"], [0.5555555555555556, \"#d8576b\"], [0.6666666666666666, \"#ed7953\"], [0.7777777777777778, \"#fb9f3a\"], [0.8888888888888888, \"#fdca26\"], [1.0, \"#f0f921\"]], \"type\": \"heatmap\"}], \"heatmapgl\": [{\"colorbar\": {\"outlinewidth\": 0, \"ticks\": \"\"}, \"colorscale\": [[0.0, \"#0d0887\"], [0.1111111111111111, \"#46039f\"], [0.2222222222222222, \"#7201a8\"], [0.3333333333333333, \"#9c179e\"], [0.4444444444444444, \"#bd3786\"], [0.5555555555555556, \"#d8576b\"], [0.6666666666666666, \"#ed7953\"], [0.7777777777777778, \"#fb9f3a\"], [0.8888888888888888, \"#fdca26\"], [1.0, \"#f0f921\"]], \"type\": \"heatmapgl\"}], \"histogram\": [{\"marker\": {\"colorbar\": {\"outlinewidth\": 0, \"ticks\": \"\"}}, \"type\": \"histogram\"}], \"histogram2d\": [{\"colorbar\": {\"outlinewidth\": 0, \"ticks\": \"\"}, \"colorscale\": [[0.0, \"#0d0887\"], [0.1111111111111111, \"#46039f\"], [0.2222222222222222, \"#7201a8\"], [0.3333333333333333, \"#9c179e\"], [0.4444444444444444, \"#bd3786\"], [0.5555555555555556, \"#d8576b\"], [0.6666666666666666, \"#ed7953\"], [0.7777777777777778, \"#fb9f3a\"], [0.8888888888888888, \"#fdca26\"], [1.0, \"#f0f921\"]], \"type\": \"histogram2d\"}], \"histogram2dcontour\": [{\"colorbar\": {\"outlinewidth\": 0, \"ticks\": \"\"}, \"colorscale\": [[0.0, \"#0d0887\"], [0.1111111111111111, \"#46039f\"], [0.2222222222222222, \"#7201a8\"], [0.3333333333333333, \"#9c179e\"], [0.4444444444444444, \"#bd3786\"], [0.5555555555555556, \"#d8576b\"], [0.6666666666666666, \"#ed7953\"], [0.7777777777777778, \"#fb9f3a\"], [0.8888888888888888, \"#fdca26\"], [1.0, \"#f0f921\"]], \"type\": \"histogram2dcontour\"}], \"mesh3d\": [{\"colorbar\": {\"outlinewidth\": 0, \"ticks\": \"\"}, \"type\": \"mesh3d\"}], \"parcoords\": [{\"line\": {\"colorbar\": {\"outlinewidth\": 0, \"ticks\": \"\"}}, \"type\": \"parcoords\"}], \"pie\": [{\"automargin\": true, \"type\": \"pie\"}], \"scatter\": [{\"marker\": {\"colorbar\": {\"outlinewidth\": 0, \"ticks\": \"\"}}, \"type\": \"scatter\"}], \"scatter3d\": [{\"line\": {\"colorbar\": {\"outlinewidth\": 0, \"ticks\": \"\"}}, \"marker\": {\"colorbar\": {\"outlinewidth\": 0, \"ticks\": \"\"}}, \"type\": \"scatter3d\"}], \"scattercarpet\": [{\"marker\": {\"colorbar\": {\"outlinewidth\": 0, \"ticks\": \"\"}}, \"type\": \"scattercarpet\"}], \"scattergeo\": [{\"marker\": {\"colorbar\": {\"outlinewidth\": 0, \"ticks\": \"\"}}, \"type\": \"scattergeo\"}], \"scattergl\": [{\"marker\": {\"colorbar\": {\"outlinewidth\": 0, \"ticks\": \"\"}}, \"type\": \"scattergl\"}], \"scattermapbox\": [{\"marker\": {\"colorbar\": {\"outlinewidth\": 0, \"ticks\": \"\"}}, \"type\": \"scattermapbox\"}], \"scatterpolar\": [{\"marker\": {\"colorbar\": {\"outlinewidth\": 0, \"ticks\": \"\"}}, \"type\": \"scatterpolar\"}], \"scatterpolargl\": [{\"marker\": {\"colorbar\": {\"outlinewidth\": 0, \"ticks\": \"\"}}, \"type\": \"scatterpolargl\"}], \"scatterternary\": [{\"marker\": {\"colorbar\": {\"outlinewidth\": 0, \"ticks\": \"\"}}, \"type\": \"scatterternary\"}], \"surface\": [{\"colorbar\": {\"outlinewidth\": 0, \"ticks\": \"\"}, \"colorscale\": [[0.0, \"#0d0887\"], [0.1111111111111111, \"#46039f\"], [0.2222222222222222, \"#7201a8\"], [0.3333333333333333, \"#9c179e\"], [0.4444444444444444, \"#bd3786\"], [0.5555555555555556, \"#d8576b\"], [0.6666666666666666, \"#ed7953\"], [0.7777777777777778, \"#fb9f3a\"], [0.8888888888888888, \"#fdca26\"], [1.0, \"#f0f921\"]], \"type\": \"surface\"}], \"table\": [{\"cells\": {\"fill\": {\"color\": \"#EBF0F8\"}, \"line\": {\"color\": \"white\"}}, \"header\": {\"fill\": {\"color\": \"#C8D4E3\"}, \"line\": {\"color\": \"white\"}}, \"type\": \"table\"}]}, \"layout\": {\"annotationdefaults\": {\"arrowcolor\": \"#2a3f5f\", \"arrowhead\": 0, \"arrowwidth\": 1}, \"coloraxis\": {\"colorbar\": {\"outlinewidth\": 0, \"ticks\": \"\"}}, \"colorscale\": {\"diverging\": [[0, \"#8e0152\"], [0.1, \"#c51b7d\"], [0.2, \"#de77ae\"], [0.3, \"#f1b6da\"], [0.4, \"#fde0ef\"], [0.5, \"#f7f7f7\"], [0.6, \"#e6f5d0\"], [0.7, \"#b8e186\"], [0.8, \"#7fbc41\"], [0.9, \"#4d9221\"], [1, \"#276419\"]], \"sequential\": [[0.0, \"#0d0887\"], [0.1111111111111111, \"#46039f\"], [0.2222222222222222, \"#7201a8\"], [0.3333333333333333, \"#9c179e\"], [0.4444444444444444, \"#bd3786\"], [0.5555555555555556, \"#d8576b\"], [0.6666666666666666, \"#ed7953\"], [0.7777777777777778, \"#fb9f3a\"], [0.8888888888888888, \"#fdca26\"], [1.0, \"#f0f921\"]], \"sequentialminus\": [[0.0, \"#0d0887\"], [0.1111111111111111, \"#46039f\"], [0.2222222222222222, \"#7201a8\"], [0.3333333333333333, \"#9c179e\"], [0.4444444444444444, \"#bd3786\"], [0.5555555555555556, \"#d8576b\"], [0.6666666666666666, \"#ed7953\"], [0.7777777777777778, \"#fb9f3a\"], [0.8888888888888888, \"#fdca26\"], [1.0, \"#f0f921\"]]}, \"colorway\": [\"#636efa\", \"#EF553B\", \"#00cc96\", \"#ab63fa\", \"#FFA15A\", \"#19d3f3\", \"#FF6692\", \"#B6E880\", \"#FF97FF\", \"#FECB52\"], \"font\": {\"color\": \"#2a3f5f\"}, \"geo\": {\"bgcolor\": \"white\", \"lakecolor\": \"white\", \"landcolor\": \"#E5ECF6\", \"showlakes\": true, \"showland\": true, \"subunitcolor\": \"white\"}, \"hoverlabel\": {\"align\": \"left\"}, \"hovermode\": \"closest\", \"mapbox\": {\"style\": \"light\"}, \"paper_bgcolor\": \"white\", \"plot_bgcolor\": \"#E5ECF6\", \"polar\": {\"angularaxis\": {\"gridcolor\": \"white\", \"linecolor\": \"white\", \"ticks\": \"\"}, \"bgcolor\": \"#E5ECF6\", \"radialaxis\": {\"gridcolor\": \"white\", \"linecolor\": \"white\", \"ticks\": \"\"}}, \"scene\": {\"xaxis\": {\"backgroundcolor\": \"#E5ECF6\", \"gridcolor\": \"white\", \"gridwidth\": 2, \"linecolor\": \"white\", \"showbackground\": true, \"ticks\": \"\", \"zerolinecolor\": \"white\"}, \"yaxis\": {\"backgroundcolor\": \"#E5ECF6\", \"gridcolor\": \"white\", \"gridwidth\": 2, \"linecolor\": \"white\", \"showbackground\": true, \"ticks\": \"\", \"zerolinecolor\": \"white\"}, \"zaxis\": {\"backgroundcolor\": \"#E5ECF6\", \"gridcolor\": \"white\", \"gridwidth\": 2, \"linecolor\": \"white\", \"showbackground\": true, \"ticks\": \"\", \"zerolinecolor\": \"white\"}}, \"shapedefaults\": {\"line\": {\"color\": \"#2a3f5f\"}}, \"ternary\": {\"aaxis\": {\"gridcolor\": \"white\", \"linecolor\": \"white\", \"ticks\": \"\"}, \"baxis\": {\"gridcolor\": \"white\", \"linecolor\": \"white\", \"ticks\": \"\"}, \"bgcolor\": \"#E5ECF6\", \"caxis\": {\"gridcolor\": \"white\", \"linecolor\": \"white\", \"ticks\": \"\"}}, \"title\": {\"x\": 0.05}, \"xaxis\": {\"automargin\": true, \"gridcolor\": \"white\", \"linecolor\": \"white\", \"ticks\": \"\", \"title\": {\"standoff\": 15}, \"zerolinecolor\": \"white\", \"zerolinewidth\": 2}, \"yaxis\": {\"automargin\": true, \"gridcolor\": \"white\", \"linecolor\": \"white\", \"ticks\": \"\", \"title\": {\"standoff\": 15}, \"zerolinecolor\": \"white\", \"zerolinewidth\": 2}}}, \"title\": {\"text\": \"Total Cases as per each State : \"}, \"xaxis\": {\"anchor\": \"y\", \"domain\": [0.0, 1.0], \"title\": {\"text\": \"State/UTs\"}}, \"yaxis\": {\"anchor\": \"x\", \"domain\": [0.0, 1.0], \"title\": {\"text\": \"Total Cases\"}}},\n",
              "                        {\"responsive\": true}\n",
              "                    ).then(function(){\n",
              "                            \n",
              "var gd = document.getElementById('84bd41ee-5e39-4213-8757-d77d7792dace');\n",
              "var x = new MutationObserver(function (mutations, observer) {{\n",
              "        var display = window.getComputedStyle(gd).display;\n",
              "        if (!display || display === 'none') {{\n",
              "            console.log([gd, 'removed!']);\n",
              "            Plotly.purge(gd);\n",
              "            observer.disconnect();\n",
              "        }}\n",
              "}});\n",
              "\n",
              "// Listen for the removal of the full notebook cells\n",
              "var notebookContainer = gd.closest('#notebook-container');\n",
              "if (notebookContainer) {{\n",
              "    x.observe(notebookContainer, {childList: true});\n",
              "}}\n",
              "\n",
              "// Listen for the clearing of the current output cell\n",
              "var outputEl = gd.closest('.output');\n",
              "if (outputEl) {{\n",
              "    x.observe(outputEl, {childList: true});\n",
              "}}\n",
              "\n",
              "                        })\n",
              "                };\n",
              "                \n",
              "            </script>\n",
              "        </div>\n",
              "</body>\n",
              "</html>"
            ]
          },
          "metadata": {}
        }
      ]
    },
    {
      "cell_type": "markdown",
      "metadata": {
        "papermill": {
          "duration": 0.05827,
          "end_time": "2021-09-05T05:32:20.533157",
          "exception": false,
          "start_time": "2021-09-05T05:32:20.474887",
          "status": "completed"
        },
        "tags": [],
        "id": "62579874"
      },
      "source": [
        "* Even after having the highest number of covid cases in maharastra its death ratio is 2.1% while other state like punjab have high death ratio i.e 2.72%\n",
        "* Similarly we can compare other states with one another to make a report on Death Ratio."
      ],
      "id": "62579874"
    },
    {
      "cell_type": "code",
      "metadata": {
        "execution": {
          "iopub.execute_input": "2021-09-05T05:32:20.654845Z",
          "iopub.status.busy": "2021-09-05T05:32:20.654157Z",
          "iopub.status.idle": "2021-09-05T05:32:20.911985Z",
          "shell.execute_reply": "2021-09-05T05:32:20.912465Z",
          "shell.execute_reply.started": "2021-09-05T05:29:37.666673Z"
        },
        "papermill": {
          "duration": 0.321718,
          "end_time": "2021-09-05T05:32:20.912760",
          "exception": false,
          "start_time": "2021-09-05T05:32:20.591042",
          "status": "completed"
        },
        "tags": [],
        "colab": {
          "base_uri": "https://localhost:8080/",
          "height": 542
        },
        "id": "ff41f242",
        "outputId": "c29ac0e8-bf9d-4824-8e14-1fce00923517"
      },
      "source": [
        "px.scatter(df, x='Active Ratio (%)',y='Death Ratio (%)', color=df['State/UTs'])"
      ],
      "id": "ff41f242",
      "execution_count": 34,
      "outputs": [
        {
          "output_type": "display_data",
          "data": {
            "text/html": [
              "<html>\n",
              "<head><meta charset=\"utf-8\" /></head>\n",
              "<body>\n",
              "    <div>\n",
              "            <script src=\"https://cdnjs.cloudflare.com/ajax/libs/mathjax/2.7.5/MathJax.js?config=TeX-AMS-MML_SVG\"></script><script type=\"text/javascript\">if (window.MathJax) {MathJax.Hub.Config({SVG: {font: \"STIX-Web\"}});}</script>\n",
              "                <script type=\"text/javascript\">window.PlotlyConfig = {MathJaxConfig: 'local'};</script>\n",
              "        <script src=\"https://cdn.plot.ly/plotly-latest.min.js\"></script>    \n",
              "            <div id=\"eebf8197-9a8a-405d-af1d-04a30ac00e9e\" class=\"plotly-graph-div\" style=\"height:525px; width:100%;\"></div>\n",
              "            <script type=\"text/javascript\">\n",
              "                \n",
              "                    window.PLOTLYENV=window.PLOTLYENV || {};\n",
              "                    \n",
              "                if (document.getElementById(\"eebf8197-9a8a-405d-af1d-04a30ac00e9e\")) {\n",
              "                    Plotly.newPlot(\n",
              "                        'eebf8197-9a8a-405d-af1d-04a30ac00e9e',\n",
              "                        [{\"hoverlabel\": {\"namelength\": 0}, \"hovertemplate\": \"State/UTs=Andaman and Nicobar<br>Active Ratio (%)=%{x}<br>Death Ratio (%)=%{y}\", \"legendgroup\": \"State/UTs=Andaman and Nicobar\", \"marker\": {\"color\": \"#636efa\", \"symbol\": \"circle\"}, \"mode\": \"markers\", \"name\": \"State/UTs=Andaman and Nicobar\", \"showlegend\": true, \"type\": \"scatter\", \"x\": [0.08], \"xaxis\": \"x\", \"y\": [1.7], \"yaxis\": \"y\"}, {\"hoverlabel\": {\"namelength\": 0}, \"hovertemplate\": \"State/UTs=Andhra Pradesh<br>Active Ratio (%)=%{x}<br>Death Ratio (%)=%{y}\", \"legendgroup\": \"State/UTs=Andhra Pradesh\", \"marker\": {\"color\": \"#EF553B\", \"symbol\": \"circle\"}, \"mode\": \"markers\", \"name\": \"State/UTs=Andhra Pradesh\", \"showlegend\": true, \"type\": \"scatter\", \"x\": [0.73], \"xaxis\": \"x\", \"y\": [0.69], \"yaxis\": \"y\"}, {\"hoverlabel\": {\"namelength\": 0}, \"hovertemplate\": \"State/UTs=Arunachal Pradesh<br>Active Ratio (%)=%{x}<br>Death Ratio (%)=%{y}\", \"legendgroup\": \"State/UTs=Arunachal Pradesh\", \"marker\": {\"color\": \"#00cc96\", \"symbol\": \"circle\"}, \"mode\": \"markers\", \"name\": \"State/UTs=Arunachal Pradesh\", \"showlegend\": true, \"type\": \"scatter\", \"x\": [1.63], \"xaxis\": \"x\", \"y\": [0.49], \"yaxis\": \"y\"}, {\"hoverlabel\": {\"namelength\": 0}, \"hovertemplate\": \"State/UTs=Assam<br>Active Ratio (%)=%{x}<br>Death Ratio (%)=%{y}\", \"legendgroup\": \"State/UTs=Assam\", \"marker\": {\"color\": \"#ab63fa\", \"symbol\": \"circle\"}, \"mode\": \"markers\", \"name\": \"State/UTs=Assam\", \"showlegend\": true, \"type\": \"scatter\", \"x\": [1.17], \"xaxis\": \"x\", \"y\": [0.96], \"yaxis\": \"y\"}, {\"hoverlabel\": {\"namelength\": 0}, \"hovertemplate\": \"State/UTs=Bihar<br>Active Ratio (%)=%{x}<br>Death Ratio (%)=%{y}\", \"legendgroup\": \"State/UTs=Bihar\", \"marker\": {\"color\": \"#FFA15A\", \"symbol\": \"circle\"}, \"mode\": \"markers\", \"name\": \"State/UTs=Bihar\", \"showlegend\": true, \"type\": \"scatter\", \"x\": [0.01], \"xaxis\": \"x\", \"y\": [1.33], \"yaxis\": \"y\"}, {\"hoverlabel\": {\"namelength\": 0}, \"hovertemplate\": \"State/UTs=Chandigarh<br>Active Ratio (%)=%{x}<br>Death Ratio (%)=%{y}\", \"legendgroup\": \"State/UTs=Chandigarh\", \"marker\": {\"color\": \"#19d3f3\", \"symbol\": \"circle\"}, \"mode\": \"markers\", \"name\": \"State/UTs=Chandigarh\", \"showlegend\": true, \"type\": \"scatter\", \"x\": [0.06], \"xaxis\": \"x\", \"y\": [1.25], \"yaxis\": \"y\"}, {\"hoverlabel\": {\"namelength\": 0}, \"hovertemplate\": \"State/UTs=Chhattisgarh<br>Active Ratio (%)=%{x}<br>Death Ratio (%)=%{y}\", \"legendgroup\": \"State/UTs=Chhattisgarh\", \"marker\": {\"color\": \"#FF6692\", \"symbol\": \"circle\"}, \"mode\": \"markers\", \"name\": \"State/UTs=Chhattisgarh\", \"showlegend\": true, \"type\": \"scatter\", \"x\": [0.04], \"xaxis\": \"x\", \"y\": [1.35], \"yaxis\": \"y\"}, {\"hoverlabel\": {\"namelength\": 0}, \"hovertemplate\": \"State/UTs=Daman and Diu<br>Active Ratio (%)=%{x}<br>Death Ratio (%)=%{y}\", \"legendgroup\": \"State/UTs=Daman and Diu\", \"marker\": {\"color\": \"#B6E880\", \"symbol\": \"circle\"}, \"mode\": \"markers\", \"name\": \"State/UTs=Daman and Diu\", \"showlegend\": true, \"type\": \"scatter\", \"x\": [0.04], \"xaxis\": \"x\", \"y\": [0.04], \"yaxis\": \"y\"}, {\"hoverlabel\": {\"namelength\": 0}, \"hovertemplate\": \"State/UTs=Delhi<br>Active Ratio (%)=%{x}<br>Death Ratio (%)=%{y}\", \"legendgroup\": \"State/UTs=Delhi\", \"marker\": {\"color\": \"#FF97FF\", \"symbol\": \"circle\"}, \"mode\": \"markers\", \"name\": \"State/UTs=Delhi\", \"showlegend\": true, \"type\": \"scatter\", \"x\": [0.02], \"xaxis\": \"x\", \"y\": [1.74], \"yaxis\": \"y\"}, {\"hoverlabel\": {\"namelength\": 0}, \"hovertemplate\": \"State/UTs=Goa<br>Active Ratio (%)=%{x}<br>Death Ratio (%)=%{y}\", \"legendgroup\": \"State/UTs=Goa\", \"marker\": {\"color\": \"#FECB52\", \"symbol\": \"circle\"}, \"mode\": \"markers\", \"name\": \"State/UTs=Goa\", \"showlegend\": true, \"type\": \"scatter\", \"x\": [0.5], \"xaxis\": \"x\", \"y\": [1.84], \"yaxis\": \"y\"}, {\"hoverlabel\": {\"namelength\": 0}, \"hovertemplate\": \"State/UTs=Gujarat<br>Active Ratio (%)=%{x}<br>Death Ratio (%)=%{y}\", \"legendgroup\": \"State/UTs=Gujarat\", \"marker\": {\"color\": \"#636efa\", \"symbol\": \"circle\"}, \"mode\": \"markers\", \"name\": \"State/UTs=Gujarat\", \"showlegend\": true, \"type\": \"scatter\", \"x\": [0.02], \"xaxis\": \"x\", \"y\": [1.22], \"yaxis\": \"y\"}, {\"hoverlabel\": {\"namelength\": 0}, \"hovertemplate\": \"State/UTs=Haryana<br>Active Ratio (%)=%{x}<br>Death Ratio (%)=%{y}\", \"legendgroup\": \"State/UTs=Haryana\", \"marker\": {\"color\": \"#EF553B\", \"symbol\": \"circle\"}, \"mode\": \"markers\", \"name\": \"State/UTs=Haryana\", \"showlegend\": true, \"type\": \"scatter\", \"x\": [0.08], \"xaxis\": \"x\", \"y\": [1.26], \"yaxis\": \"y\"}, {\"hoverlabel\": {\"namelength\": 0}, \"hovertemplate\": \"State/UTs=Himachal Pradesh<br>Active Ratio (%)=%{x}<br>Death Ratio (%)=%{y}\", \"legendgroup\": \"State/UTs=Himachal Pradesh\", \"marker\": {\"color\": \"#00cc96\", \"symbol\": \"circle\"}, \"mode\": \"markers\", \"name\": \"State/UTs=Himachal Pradesh\", \"showlegend\": true, \"type\": \"scatter\", \"x\": [0.77], \"xaxis\": \"x\", \"y\": [1.68], \"yaxis\": \"y\"}, {\"hoverlabel\": {\"namelength\": 0}, \"hovertemplate\": \"State/UTs=Jammu and Kashmir<br>Active Ratio (%)=%{x}<br>Death Ratio (%)=%{y}\", \"legendgroup\": \"State/UTs=Jammu and Kashmir\", \"marker\": {\"color\": \"#ab63fa\", \"symbol\": \"circle\"}, \"mode\": \"markers\", \"name\": \"State/UTs=Jammu and Kashmir\", \"showlegend\": true, \"type\": \"scatter\", \"x\": [0.41], \"xaxis\": \"x\", \"y\": [1.35], \"yaxis\": \"y\"}, {\"hoverlabel\": {\"namelength\": 0}, \"hovertemplate\": \"State/UTs=Jharkhand<br>Active Ratio (%)=%{x}<br>Death Ratio (%)=%{y}\", \"legendgroup\": \"State/UTs=Jharkhand\", \"marker\": {\"color\": \"#FFA15A\", \"symbol\": \"circle\"}, \"mode\": \"markers\", \"name\": \"State/UTs=Jharkhand\", \"showlegend\": true, \"type\": \"scatter\", \"x\": [0.04], \"xaxis\": \"x\", \"y\": [1.48], \"yaxis\": \"y\"}, {\"hoverlabel\": {\"namelength\": 0}, \"hovertemplate\": \"State/UTs=Karnataka<br>Active Ratio (%)=%{x}<br>Death Ratio (%)=%{y}\", \"legendgroup\": \"State/UTs=Karnataka\", \"marker\": {\"color\": \"#19d3f3\", \"symbol\": \"circle\"}, \"mode\": \"markers\", \"name\": \"State/UTs=Karnataka\", \"showlegend\": true, \"type\": \"scatter\", \"x\": [0.62], \"xaxis\": \"x\", \"y\": [1.27], \"yaxis\": \"y\"}, {\"hoverlabel\": {\"namelength\": 0}, \"hovertemplate\": \"State/UTs=Kerala<br>Active Ratio (%)=%{x}<br>Death Ratio (%)=%{y}\", \"legendgroup\": \"State/UTs=Kerala\", \"marker\": {\"color\": \"#FF6692\", \"symbol\": \"circle\"}, \"mode\": \"markers\", \"name\": \"State/UTs=Kerala\", \"showlegend\": true, \"type\": \"scatter\", \"x\": [5.41], \"xaxis\": \"x\", \"y\": [0.51], \"yaxis\": \"y\"}, {\"hoverlabel\": {\"namelength\": 0}, \"hovertemplate\": \"State/UTs=Ladakh<br>Active Ratio (%)=%{x}<br>Death Ratio (%)=%{y}\", \"legendgroup\": \"State/UTs=Ladakh\", \"marker\": {\"color\": \"#B6E880\", \"symbol\": \"circle\"}, \"mode\": \"markers\", \"name\": \"State/UTs=Ladakh\", \"showlegend\": true, \"type\": \"scatter\", \"x\": [0.34], \"xaxis\": \"x\", \"y\": [1.01], \"yaxis\": \"y\"}, {\"hoverlabel\": {\"namelength\": 0}, \"hovertemplate\": \"State/UTs=Lakshadweep<br>Active Ratio (%)=%{x}<br>Death Ratio (%)=%{y}\", \"legendgroup\": \"State/UTs=Lakshadweep\", \"marker\": {\"color\": \"#FF97FF\", \"symbol\": \"circle\"}, \"mode\": \"markers\", \"name\": \"State/UTs=Lakshadweep\", \"showlegend\": true, \"type\": \"scatter\", \"x\": [0.3], \"xaxis\": \"x\", \"y\": [0.49], \"yaxis\": \"y\"}, {\"hoverlabel\": {\"namelength\": 0}, \"hovertemplate\": \"State/UTs=Madhya Pradesh<br>Active Ratio (%)=%{x}<br>Death Ratio (%)=%{y}\", \"legendgroup\": \"State/UTs=Madhya Pradesh\", \"marker\": {\"color\": \"#FECB52\", \"symbol\": \"circle\"}, \"mode\": \"markers\", \"name\": \"State/UTs=Madhya Pradesh\", \"showlegend\": true, \"type\": \"scatter\", \"x\": [0.01], \"xaxis\": \"x\", \"y\": [1.33], \"yaxis\": \"y\"}, {\"hoverlabel\": {\"namelength\": 0}, \"hovertemplate\": \"State/UTs=Maharashtra<br>Active Ratio (%)=%{x}<br>Death Ratio (%)=%{y}\", \"legendgroup\": \"State/UTs=Maharashtra\", \"marker\": {\"color\": \"#636efa\", \"symbol\": \"circle\"}, \"mode\": \"markers\", \"name\": \"State/UTs=Maharashtra\", \"showlegend\": true, \"type\": \"scatter\", \"x\": [0.85], \"xaxis\": \"x\", \"y\": [2.12], \"yaxis\": \"y\"}, {\"hoverlabel\": {\"namelength\": 0}, \"hovertemplate\": \"State/UTs=Manipur<br>Active Ratio (%)=%{x}<br>Death Ratio (%)=%{y}\", \"legendgroup\": \"State/UTs=Manipur\", \"marker\": {\"color\": \"#EF553B\", \"symbol\": \"circle\"}, \"mode\": \"markers\", \"name\": \"State/UTs=Manipur\", \"showlegend\": true, \"type\": \"scatter\", \"x\": [2.98], \"xaxis\": \"x\", \"y\": [1.56], \"yaxis\": \"y\"}, {\"hoverlabel\": {\"namelength\": 0}, \"hovertemplate\": \"State/UTs=Meghalaya<br>Active Ratio (%)=%{x}<br>Death Ratio (%)=%{y}\", \"legendgroup\": \"State/UTs=Meghalaya\", \"marker\": {\"color\": \"#00cc96\", \"symbol\": \"circle\"}, \"mode\": \"markers\", \"name\": \"State/UTs=Meghalaya\", \"showlegend\": true, \"type\": \"scatter\", \"x\": [3.07], \"xaxis\": \"x\", \"y\": [1.73], \"yaxis\": \"y\"}, {\"hoverlabel\": {\"namelength\": 0}, \"hovertemplate\": \"State/UTs=Mizoram<br>Active Ratio (%)=%{x}<br>Death Ratio (%)=%{y}\", \"legendgroup\": \"State/UTs=Mizoram\", \"marker\": {\"color\": \"#ab63fa\", \"symbol\": \"circle\"}, \"mode\": \"markers\", \"name\": \"State/UTs=Mizoram\", \"showlegend\": true, \"type\": \"scatter\", \"x\": [15.03], \"xaxis\": \"x\", \"y\": [0.37], \"yaxis\": \"y\"}, {\"hoverlabel\": {\"namelength\": 0}, \"hovertemplate\": \"State/UTs=Nagaland<br>Active Ratio (%)=%{x}<br>Death Ratio (%)=%{y}\", \"legendgroup\": \"State/UTs=Nagaland\", \"marker\": {\"color\": \"#FFA15A\", \"symbol\": \"circle\"}, \"mode\": \"markers\", \"name\": \"State/UTs=Nagaland\", \"showlegend\": true, \"type\": \"scatter\", \"x\": [2.71], \"xaxis\": \"x\", \"y\": [2.06], \"yaxis\": \"y\"}, {\"hoverlabel\": {\"namelength\": 0}, \"hovertemplate\": \"State/UTs=Odisha<br>Active Ratio (%)=%{x}<br>Death Ratio (%)=%{y}\", \"legendgroup\": \"State/UTs=Odisha\", \"marker\": {\"color\": \"#19d3f3\", \"symbol\": \"circle\"}, \"mode\": \"markers\", \"name\": \"State/UTs=Odisha\", \"showlegend\": true, \"type\": \"scatter\", \"x\": [0.65], \"xaxis\": \"x\", \"y\": [0.79], \"yaxis\": \"y\"}, {\"hoverlabel\": {\"namelength\": 0}, \"hovertemplate\": \"State/UTs=Puducherry<br>Active Ratio (%)=%{x}<br>Death Ratio (%)=%{y}\", \"legendgroup\": \"State/UTs=Puducherry\", \"marker\": {\"color\": \"#FF6692\", \"symbol\": \"circle\"}, \"mode\": \"markers\", \"name\": \"State/UTs=Puducherry\", \"showlegend\": true, \"type\": \"scatter\", \"x\": [0.58], \"xaxis\": \"x\", \"y\": [1.47], \"yaxis\": \"y\"}, {\"hoverlabel\": {\"namelength\": 0}, \"hovertemplate\": \"State/UTs=Punjab<br>Active Ratio (%)=%{x}<br>Death Ratio (%)=%{y}\", \"legendgroup\": \"State/UTs=Punjab\", \"marker\": {\"color\": \"#B6E880\", \"symbol\": \"circle\"}, \"mode\": \"markers\", \"name\": \"State/UTs=Punjab\", \"showlegend\": true, \"type\": \"scatter\", \"x\": [0.05], \"xaxis\": \"x\", \"y\": [2.74], \"yaxis\": \"y\"}, {\"hoverlabel\": {\"namelength\": 0}, \"hovertemplate\": \"State/UTs=Rajasthan<br>Active Ratio (%)=%{x}<br>Death Ratio (%)=%{y}\", \"legendgroup\": \"State/UTs=Rajasthan\", \"marker\": {\"color\": \"#FF97FF\", \"symbol\": \"circle\"}, \"mode\": \"markers\", \"name\": \"State/UTs=Rajasthan\", \"showlegend\": true, \"type\": \"scatter\", \"x\": [0.01], \"xaxis\": \"x\", \"y\": [0.94], \"yaxis\": \"y\"}, {\"hoverlabel\": {\"namelength\": 0}, \"hovertemplate\": \"State/UTs=Sikkim<br>Active Ratio (%)=%{x}<br>Death Ratio (%)=%{y}\", \"legendgroup\": \"State/UTs=Sikkim\", \"marker\": {\"color\": \"#FECB52\", \"symbol\": \"circle\"}, \"mode\": \"markers\", \"name\": \"State/UTs=Sikkim\", \"showlegend\": true, \"type\": \"scatter\", \"x\": [3.66], \"xaxis\": \"x\", \"y\": [1.24], \"yaxis\": \"y\"}, {\"hoverlabel\": {\"namelength\": 0}, \"hovertemplate\": \"State/UTs=Tamil Nadu<br>Active Ratio (%)=%{x}<br>Death Ratio (%)=%{y}\", \"legendgroup\": \"State/UTs=Tamil Nadu\", \"marker\": {\"color\": \"#636efa\", \"symbol\": \"circle\"}, \"mode\": \"markers\", \"name\": \"State/UTs=Tamil Nadu\", \"showlegend\": true, \"type\": \"scatter\", \"x\": [0.64], \"xaxis\": \"x\", \"y\": [1.34], \"yaxis\": \"y\"}, {\"hoverlabel\": {\"namelength\": 0}, \"hovertemplate\": \"State/UTs=Telengana<br>Active Ratio (%)=%{x}<br>Death Ratio (%)=%{y}\", \"legendgroup\": \"State/UTs=Telengana\", \"marker\": {\"color\": \"#EF553B\", \"symbol\": \"circle\"}, \"mode\": \"markers\", \"name\": \"State/UTs=Telengana\", \"showlegend\": true, \"type\": \"scatter\", \"x\": [0.89], \"xaxis\": \"x\", \"y\": [0.59], \"yaxis\": \"y\"}, {\"hoverlabel\": {\"namelength\": 0}, \"hovertemplate\": \"State/UTs=Tripura<br>Active Ratio (%)=%{x}<br>Death Ratio (%)=%{y}\", \"legendgroup\": \"State/UTs=Tripura\", \"marker\": {\"color\": \"#00cc96\", \"symbol\": \"circle\"}, \"mode\": \"markers\", \"name\": \"State/UTs=Tripura\", \"showlegend\": true, \"type\": \"scatter\", \"x\": [1.11], \"xaxis\": \"x\", \"y\": [0.96], \"yaxis\": \"y\"}, {\"hoverlabel\": {\"namelength\": 0}, \"hovertemplate\": \"State/UTs=Uttar Pradesh<br>Active Ratio (%)=%{x}<br>Death Ratio (%)=%{y}\", \"legendgroup\": \"State/UTs=Uttar Pradesh\", \"marker\": {\"color\": \"#ab63fa\", \"symbol\": \"circle\"}, \"mode\": \"markers\", \"name\": \"State/UTs=Uttar Pradesh\", \"showlegend\": true, \"type\": \"scatter\", \"x\": [0.01], \"xaxis\": \"x\", \"y\": [1.34], \"yaxis\": \"y\"}, {\"hoverlabel\": {\"namelength\": 0}, \"hovertemplate\": \"State/UTs=Uttarakhand<br>Active Ratio (%)=%{x}<br>Death Ratio (%)=%{y}\", \"legendgroup\": \"State/UTs=Uttarakhand\", \"marker\": {\"color\": \"#FFA15A\", \"symbol\": \"circle\"}, \"mode\": \"markers\", \"name\": \"State/UTs=Uttarakhand\", \"showlegend\": true, \"type\": \"scatter\", \"x\": [0.1], \"xaxis\": \"x\", \"y\": [2.15], \"yaxis\": \"y\"}, {\"hoverlabel\": {\"namelength\": 0}, \"hovertemplate\": \"State/UTs=West Bengal<br>Active Ratio (%)=%{x}<br>Death Ratio (%)=%{y}\", \"legendgroup\": \"State/UTs=West Bengal\", \"marker\": {\"color\": \"#19d3f3\", \"symbol\": \"circle\"}, \"mode\": \"markers\", \"name\": \"State/UTs=West Bengal\", \"showlegend\": true, \"type\": \"scatter\", \"x\": [0.57], \"xaxis\": \"x\", \"y\": [1.19], \"yaxis\": \"y\"}],\n",
              "                        {\"legend\": {\"tracegroupgap\": 0}, \"margin\": {\"t\": 60}, \"template\": {\"data\": {\"bar\": [{\"error_x\": {\"color\": \"#2a3f5f\"}, \"error_y\": {\"color\": \"#2a3f5f\"}, \"marker\": {\"line\": {\"color\": \"#E5ECF6\", \"width\": 0.5}}, \"type\": \"bar\"}], \"barpolar\": [{\"marker\": {\"line\": {\"color\": \"#E5ECF6\", \"width\": 0.5}}, \"type\": \"barpolar\"}], \"carpet\": [{\"aaxis\": {\"endlinecolor\": \"#2a3f5f\", \"gridcolor\": \"white\", \"linecolor\": \"white\", \"minorgridcolor\": \"white\", \"startlinecolor\": \"#2a3f5f\"}, \"baxis\": {\"endlinecolor\": \"#2a3f5f\", \"gridcolor\": \"white\", \"linecolor\": \"white\", \"minorgridcolor\": \"white\", \"startlinecolor\": \"#2a3f5f\"}, \"type\": \"carpet\"}], \"choropleth\": [{\"colorbar\": {\"outlinewidth\": 0, \"ticks\": \"\"}, \"type\": \"choropleth\"}], \"contour\": [{\"colorbar\": {\"outlinewidth\": 0, \"ticks\": \"\"}, \"colorscale\": [[0.0, \"#0d0887\"], [0.1111111111111111, \"#46039f\"], [0.2222222222222222, \"#7201a8\"], [0.3333333333333333, \"#9c179e\"], [0.4444444444444444, \"#bd3786\"], [0.5555555555555556, \"#d8576b\"], [0.6666666666666666, \"#ed7953\"], [0.7777777777777778, \"#fb9f3a\"], [0.8888888888888888, \"#fdca26\"], [1.0, \"#f0f921\"]], \"type\": \"contour\"}], \"contourcarpet\": [{\"colorbar\": {\"outlinewidth\": 0, \"ticks\": \"\"}, \"type\": \"contourcarpet\"}], \"heatmap\": [{\"colorbar\": {\"outlinewidth\": 0, \"ticks\": \"\"}, \"colorscale\": [[0.0, \"#0d0887\"], [0.1111111111111111, \"#46039f\"], [0.2222222222222222, \"#7201a8\"], [0.3333333333333333, \"#9c179e\"], [0.4444444444444444, \"#bd3786\"], [0.5555555555555556, \"#d8576b\"], [0.6666666666666666, \"#ed7953\"], [0.7777777777777778, \"#fb9f3a\"], [0.8888888888888888, \"#fdca26\"], [1.0, \"#f0f921\"]], \"type\": \"heatmap\"}], \"heatmapgl\": [{\"colorbar\": {\"outlinewidth\": 0, \"ticks\": \"\"}, \"colorscale\": [[0.0, \"#0d0887\"], [0.1111111111111111, \"#46039f\"], [0.2222222222222222, \"#7201a8\"], [0.3333333333333333, \"#9c179e\"], [0.4444444444444444, \"#bd3786\"], [0.5555555555555556, \"#d8576b\"], [0.6666666666666666, \"#ed7953\"], [0.7777777777777778, \"#fb9f3a\"], [0.8888888888888888, \"#fdca26\"], [1.0, \"#f0f921\"]], \"type\": \"heatmapgl\"}], \"histogram\": [{\"marker\": {\"colorbar\": {\"outlinewidth\": 0, \"ticks\": \"\"}}, \"type\": \"histogram\"}], \"histogram2d\": [{\"colorbar\": {\"outlinewidth\": 0, \"ticks\": \"\"}, \"colorscale\": [[0.0, \"#0d0887\"], [0.1111111111111111, \"#46039f\"], [0.2222222222222222, \"#7201a8\"], [0.3333333333333333, \"#9c179e\"], [0.4444444444444444, \"#bd3786\"], [0.5555555555555556, \"#d8576b\"], [0.6666666666666666, \"#ed7953\"], [0.7777777777777778, \"#fb9f3a\"], [0.8888888888888888, \"#fdca26\"], [1.0, \"#f0f921\"]], \"type\": \"histogram2d\"}], \"histogram2dcontour\": [{\"colorbar\": {\"outlinewidth\": 0, \"ticks\": \"\"}, \"colorscale\": [[0.0, \"#0d0887\"], [0.1111111111111111, \"#46039f\"], [0.2222222222222222, \"#7201a8\"], [0.3333333333333333, \"#9c179e\"], [0.4444444444444444, \"#bd3786\"], [0.5555555555555556, \"#d8576b\"], [0.6666666666666666, \"#ed7953\"], [0.7777777777777778, \"#fb9f3a\"], [0.8888888888888888, \"#fdca26\"], [1.0, \"#f0f921\"]], \"type\": \"histogram2dcontour\"}], \"mesh3d\": [{\"colorbar\": {\"outlinewidth\": 0, \"ticks\": \"\"}, \"type\": \"mesh3d\"}], \"parcoords\": [{\"line\": {\"colorbar\": {\"outlinewidth\": 0, \"ticks\": \"\"}}, \"type\": \"parcoords\"}], \"pie\": [{\"automargin\": true, \"type\": \"pie\"}], \"scatter\": [{\"marker\": {\"colorbar\": {\"outlinewidth\": 0, \"ticks\": \"\"}}, \"type\": \"scatter\"}], \"scatter3d\": [{\"line\": {\"colorbar\": {\"outlinewidth\": 0, \"ticks\": \"\"}}, \"marker\": {\"colorbar\": {\"outlinewidth\": 0, \"ticks\": \"\"}}, \"type\": \"scatter3d\"}], \"scattercarpet\": [{\"marker\": {\"colorbar\": {\"outlinewidth\": 0, \"ticks\": \"\"}}, \"type\": \"scattercarpet\"}], \"scattergeo\": [{\"marker\": {\"colorbar\": {\"outlinewidth\": 0, \"ticks\": \"\"}}, \"type\": \"scattergeo\"}], \"scattergl\": [{\"marker\": {\"colorbar\": {\"outlinewidth\": 0, \"ticks\": \"\"}}, \"type\": \"scattergl\"}], \"scattermapbox\": [{\"marker\": {\"colorbar\": {\"outlinewidth\": 0, \"ticks\": \"\"}}, \"type\": \"scattermapbox\"}], \"scatterpolar\": [{\"marker\": {\"colorbar\": {\"outlinewidth\": 0, \"ticks\": \"\"}}, \"type\": \"scatterpolar\"}], \"scatterpolargl\": [{\"marker\": {\"colorbar\": {\"outlinewidth\": 0, \"ticks\": \"\"}}, \"type\": \"scatterpolargl\"}], \"scatterternary\": [{\"marker\": {\"colorbar\": {\"outlinewidth\": 0, \"ticks\": \"\"}}, \"type\": \"scatterternary\"}], \"surface\": [{\"colorbar\": {\"outlinewidth\": 0, \"ticks\": \"\"}, \"colorscale\": [[0.0, \"#0d0887\"], [0.1111111111111111, \"#46039f\"], [0.2222222222222222, \"#7201a8\"], [0.3333333333333333, \"#9c179e\"], [0.4444444444444444, \"#bd3786\"], [0.5555555555555556, \"#d8576b\"], [0.6666666666666666, \"#ed7953\"], [0.7777777777777778, \"#fb9f3a\"], [0.8888888888888888, \"#fdca26\"], [1.0, \"#f0f921\"]], \"type\": \"surface\"}], \"table\": [{\"cells\": {\"fill\": {\"color\": \"#EBF0F8\"}, \"line\": {\"color\": \"white\"}}, \"header\": {\"fill\": {\"color\": \"#C8D4E3\"}, \"line\": {\"color\": \"white\"}}, \"type\": \"table\"}]}, \"layout\": {\"annotationdefaults\": {\"arrowcolor\": \"#2a3f5f\", \"arrowhead\": 0, \"arrowwidth\": 1}, \"coloraxis\": {\"colorbar\": {\"outlinewidth\": 0, \"ticks\": \"\"}}, \"colorscale\": {\"diverging\": [[0, \"#8e0152\"], [0.1, \"#c51b7d\"], [0.2, \"#de77ae\"], [0.3, \"#f1b6da\"], [0.4, \"#fde0ef\"], [0.5, \"#f7f7f7\"], [0.6, \"#e6f5d0\"], [0.7, \"#b8e186\"], [0.8, \"#7fbc41\"], [0.9, \"#4d9221\"], [1, \"#276419\"]], \"sequential\": [[0.0, \"#0d0887\"], [0.1111111111111111, \"#46039f\"], [0.2222222222222222, \"#7201a8\"], [0.3333333333333333, \"#9c179e\"], [0.4444444444444444, \"#bd3786\"], [0.5555555555555556, \"#d8576b\"], [0.6666666666666666, \"#ed7953\"], [0.7777777777777778, \"#fb9f3a\"], [0.8888888888888888, \"#fdca26\"], [1.0, \"#f0f921\"]], \"sequentialminus\": [[0.0, \"#0d0887\"], [0.1111111111111111, \"#46039f\"], [0.2222222222222222, \"#7201a8\"], [0.3333333333333333, \"#9c179e\"], [0.4444444444444444, \"#bd3786\"], [0.5555555555555556, \"#d8576b\"], [0.6666666666666666, \"#ed7953\"], [0.7777777777777778, \"#fb9f3a\"], [0.8888888888888888, \"#fdca26\"], [1.0, \"#f0f921\"]]}, \"colorway\": [\"#636efa\", \"#EF553B\", \"#00cc96\", \"#ab63fa\", \"#FFA15A\", \"#19d3f3\", \"#FF6692\", \"#B6E880\", \"#FF97FF\", \"#FECB52\"], \"font\": {\"color\": \"#2a3f5f\"}, \"geo\": {\"bgcolor\": \"white\", \"lakecolor\": \"white\", \"landcolor\": \"#E5ECF6\", \"showlakes\": true, \"showland\": true, \"subunitcolor\": \"white\"}, \"hoverlabel\": {\"align\": \"left\"}, \"hovermode\": \"closest\", \"mapbox\": {\"style\": \"light\"}, \"paper_bgcolor\": \"white\", \"plot_bgcolor\": \"#E5ECF6\", \"polar\": {\"angularaxis\": {\"gridcolor\": \"white\", \"linecolor\": \"white\", \"ticks\": \"\"}, \"bgcolor\": \"#E5ECF6\", \"radialaxis\": {\"gridcolor\": \"white\", \"linecolor\": \"white\", \"ticks\": \"\"}}, \"scene\": {\"xaxis\": {\"backgroundcolor\": \"#E5ECF6\", \"gridcolor\": \"white\", \"gridwidth\": 2, \"linecolor\": \"white\", \"showbackground\": true, \"ticks\": \"\", \"zerolinecolor\": \"white\"}, \"yaxis\": {\"backgroundcolor\": \"#E5ECF6\", \"gridcolor\": \"white\", \"gridwidth\": 2, \"linecolor\": \"white\", \"showbackground\": true, \"ticks\": \"\", \"zerolinecolor\": \"white\"}, \"zaxis\": {\"backgroundcolor\": \"#E5ECF6\", \"gridcolor\": \"white\", \"gridwidth\": 2, \"linecolor\": \"white\", \"showbackground\": true, \"ticks\": \"\", \"zerolinecolor\": \"white\"}}, \"shapedefaults\": {\"line\": {\"color\": \"#2a3f5f\"}}, \"ternary\": {\"aaxis\": {\"gridcolor\": \"white\", \"linecolor\": \"white\", \"ticks\": \"\"}, \"baxis\": {\"gridcolor\": \"white\", \"linecolor\": \"white\", \"ticks\": \"\"}, \"bgcolor\": \"#E5ECF6\", \"caxis\": {\"gridcolor\": \"white\", \"linecolor\": \"white\", \"ticks\": \"\"}}, \"title\": {\"x\": 0.05}, \"xaxis\": {\"automargin\": true, \"gridcolor\": \"white\", \"linecolor\": \"white\", \"ticks\": \"\", \"title\": {\"standoff\": 15}, \"zerolinecolor\": \"white\", \"zerolinewidth\": 2}, \"yaxis\": {\"automargin\": true, \"gridcolor\": \"white\", \"linecolor\": \"white\", \"ticks\": \"\", \"title\": {\"standoff\": 15}, \"zerolinecolor\": \"white\", \"zerolinewidth\": 2}}}, \"xaxis\": {\"anchor\": \"y\", \"domain\": [0.0, 1.0], \"title\": {\"text\": \"Active Ratio (%)\"}}, \"yaxis\": {\"anchor\": \"x\", \"domain\": [0.0, 1.0], \"title\": {\"text\": \"Death Ratio (%)\"}}},\n",
              "                        {\"responsive\": true}\n",
              "                    ).then(function(){\n",
              "                            \n",
              "var gd = document.getElementById('eebf8197-9a8a-405d-af1d-04a30ac00e9e');\n",
              "var x = new MutationObserver(function (mutations, observer) {{\n",
              "        var display = window.getComputedStyle(gd).display;\n",
              "        if (!display || display === 'none') {{\n",
              "            console.log([gd, 'removed!']);\n",
              "            Plotly.purge(gd);\n",
              "            observer.disconnect();\n",
              "        }}\n",
              "}});\n",
              "\n",
              "// Listen for the removal of the full notebook cells\n",
              "var notebookContainer = gd.closest('#notebook-container');\n",
              "if (notebookContainer) {{\n",
              "    x.observe(notebookContainer, {childList: true});\n",
              "}}\n",
              "\n",
              "// Listen for the clearing of the current output cell\n",
              "var outputEl = gd.closest('.output');\n",
              "if (outputEl) {{\n",
              "    x.observe(outputEl, {childList: true});\n",
              "}}\n",
              "\n",
              "                        })\n",
              "                };\n",
              "                \n",
              "            </script>\n",
              "        </div>\n",
              "</body>\n",
              "</html>"
            ]
          },
          "metadata": {}
        }
      ]
    },
    {
      "cell_type": "markdown",
      "metadata": {
        "papermill": {
          "duration": 0.058096,
          "end_time": "2021-09-05T05:32:21.029913",
          "exception": false,
          "start_time": "2021-09-05T05:32:20.971817",
          "status": "completed"
        },
        "tags": [],
        "id": "5af39706"
      },
      "source": [
        "* Here we can see that have the highest Active Ratio i.e 24.95%.\n",
        "* we can again see that Punjab have highest Death Ratio of 2.72%, while its active ratio is 0.13%.\n",
        "* In similar way we can prepare a detailed report on the Active and Death Ratio."
      ],
      "id": "5af39706"
    },
    {
      "cell_type": "code",
      "metadata": {
        "execution": {
          "iopub.execute_input": "2021-09-05T05:32:21.847932Z",
          "iopub.status.busy": "2021-09-05T05:32:21.847235Z",
          "iopub.status.idle": "2021-09-05T05:32:33.726129Z",
          "shell.execute_reply": "2021-09-05T05:32:33.725468Z",
          "shell.execute_reply.started": "2021-09-05T05:29:38.066205Z"
        },
        "papermill": {
          "duration": 11.961489,
          "end_time": "2021-09-05T05:32:33.726304",
          "exception": false,
          "start_time": "2021-09-05T05:32:21.764815",
          "status": "completed"
        },
        "tags": [],
        "colab": {
          "base_uri": "https://localhost:8080/",
          "height": 1000
        },
        "id": "0a739e06",
        "outputId": "e2b6b667-f978-47e2-9a5e-01bb21089c5f"
      },
      "source": [
        "sns.pairplot(df)"
      ],
      "id": "0a739e06",
      "execution_count": 35,
      "outputs": [
        {
          "output_type": "execute_result",
          "data": {
            "text/plain": [
              "<seaborn.axisgrid.PairGrid at 0x7f7baad090d0>"
            ]
          },
          "metadata": {},
          "execution_count": 35
        },
        {
          "output_type": "display_data",
          "data": {
            "image/png": "[encoded data removed]",
            "text/plain": [
              "<Figure size 1260x1260 with 56 Axes>"
            ]
          },
          "metadata": {
            "needs_background": "light"
          }
        }
      ]
    },
    {
      "cell_type": "code",
      "metadata": {
        "execution": {
          "iopub.execute_input": "2021-09-05T05:32:33.866600Z",
          "iopub.status.busy": "2021-09-05T05:32:33.865861Z",
          "iopub.status.idle": "2021-09-05T05:32:33.946044Z",
          "shell.execute_reply": "2021-09-05T05:32:33.945263Z",
          "shell.execute_reply.started": "2021-09-05T05:29:48.597196Z"
        },
        "papermill": {
          "duration": 0.157498,
          "end_time": "2021-09-05T05:32:33.946206",
          "exception": false,
          "start_time": "2021-09-05T05:32:33.788708",
          "status": "completed"
        },
        "tags": [],
        "colab": {
          "base_uri": "https://localhost:8080/",
          "height": 542
        },
        "id": "25b94d78",
        "outputId": "4d867701-d149-4c50-ac9e-bb351db20e78"
      },
      "source": [
        "px.density_heatmap(df, y=\"Total Cases\", x=\"State/UTs\", nbinsx=20, nbinsy=20)"
      ],
      "id": "25b94d78",
      "execution_count": 36,
      "outputs": [
        {
          "output_type": "display_data",
          "data": {
            "text/html": [
              "<html>\n",
              "<head><meta charset=\"utf-8\" /></head>\n",
              "<body>\n",
              "    <div>\n",
              "            <script src=\"https://cdnjs.cloudflare.com/ajax/libs/mathjax/2.7.5/MathJax.js?config=TeX-AMS-MML_SVG\"></script><script type=\"text/javascript\">if (window.MathJax) {MathJax.Hub.Config({SVG: {font: \"STIX-Web\"}});}</script>\n",
              "                <script type=\"text/javascript\">window.PlotlyConfig = {MathJaxConfig: 'local'};</script>\n",
              "        <script src=\"https://cdn.plot.ly/plotly-latest.min.js\"></script>    \n",
              "            <div id=\"ab511c72-b54d-47ff-b224-54ec0d8267b0\" class=\"plotly-graph-div\" style=\"height:525px; width:100%;\"></div>\n",
              "            <script type=\"text/javascript\">\n",
              "                \n",
              "                    window.PLOTLYENV=window.PLOTLYENV || {};\n",
              "                    \n",
              "                if (document.getElementById(\"ab511c72-b54d-47ff-b224-54ec0d8267b0\")) {\n",
              "                    Plotly.newPlot(\n",
              "                        'ab511c72-b54d-47ff-b224-54ec0d8267b0',\n",
              "                        [{\"coloraxis\": \"coloraxis\", \"hoverlabel\": {\"namelength\": 0}, \"hovertemplate\": \"State/UTs=%{x}<br>Total Cases=%{y}<br>count=%{z}\", \"name\": \"\", \"nbinsx\": 20, \"nbinsy\": 20, \"type\": \"histogram2d\", \"x\": [\"Andaman and Nicobar\", \"Andhra Pradesh\", \"Arunachal Pradesh\", \"Assam\", \"Bihar\", \"Chandigarh\", \"Chhattisgarh\", \"Daman and Diu\", \"Delhi\", \"Goa\", \"Gujarat\", \"Haryana\", \"Himachal Pradesh\", \"Jammu and Kashmir\", \"Jharkhand\", \"Karnataka\", \"Kerala\", \"Ladakh\", \"Lakshadweep\", \"Madhya Pradesh\", \"Maharashtra\", \"Manipur\", \"Meghalaya\", \"Mizoram\", \"Nagaland\", \"Odisha\", \"Puducherry\", \"Punjab\", \"Rajasthan\", \"Sikkim\", \"Tamil Nadu\", \"Telengana\", \"Tripura\", \"Uttar Pradesh\", \"Uttarakhand\", \"West Bengal\"], \"xaxis\": \"x\", \"xbingroup\": \"x\", \"y\": [7566, 2014116, 53031, 589426, 725708, 65105, 1004451, 10663, 1437764, 173955, 825422, 770486, 213548, 325419, 347867, 2949445, 4057233, 20560, 10347, 792175, 6464876, 113933, 75836, 59119, 30083, 1007750, 123572, 600614, 954095, 29878, 2614872, 658054, 82961, 1709335, 342976, 1548604], \"yaxis\": \"y\", \"ybingroup\": \"y\"}],\n",
              "                        {\"coloraxis\": {\"colorbar\": {\"title\": {\"text\": \"count\"}}, \"colorscale\": [[0.0, \"#0d0887\"], [0.1111111111111111, \"#46039f\"], [0.2222222222222222, \"#7201a8\"], [0.3333333333333333, \"#9c179e\"], [0.4444444444444444, \"#bd3786\"], [0.5555555555555556, \"#d8576b\"], [0.6666666666666666, \"#ed7953\"], [0.7777777777777778, \"#fb9f3a\"], [0.8888888888888888, \"#fdca26\"], [1.0, \"#f0f921\"]]}, \"legend\": {\"tracegroupgap\": 0}, \"margin\": {\"t\": 60}, \"template\": {\"data\": {\"bar\": [{\"error_x\": {\"color\": \"#2a3f5f\"}, \"error_y\": {\"color\": \"#2a3f5f\"}, \"marker\": {\"line\": {\"color\": \"#E5ECF6\", \"width\": 0.5}}, \"type\": \"bar\"}], \"barpolar\": [{\"marker\": {\"line\": {\"color\": \"#E5ECF6\", \"width\": 0.5}}, \"type\": \"barpolar\"}], \"carpet\": [{\"aaxis\": {\"endlinecolor\": \"#2a3f5f\", \"gridcolor\": \"white\", \"linecolor\": \"white\", \"minorgridcolor\": \"white\", \"startlinecolor\": \"#2a3f5f\"}, \"baxis\": {\"endlinecolor\": \"#2a3f5f\", \"gridcolor\": \"white\", \"linecolor\": \"white\", \"minorgridcolor\": \"white\", \"startlinecolor\": \"#2a3f5f\"}, \"type\": \"carpet\"}], \"choropleth\": [{\"colorbar\": {\"outlinewidth\": 0, \"ticks\": \"\"}, \"type\": \"choropleth\"}], \"contour\": [{\"colorbar\": {\"outlinewidth\": 0, \"ticks\": \"\"}, \"colorscale\": [[0.0, \"#0d0887\"], [0.1111111111111111, \"#46039f\"], [0.2222222222222222, \"#7201a8\"], [0.3333333333333333, \"#9c179e\"], [0.4444444444444444, \"#bd3786\"], [0.5555555555555556, \"#d8576b\"], [0.6666666666666666, \"#ed7953\"], [0.7777777777777778, \"#fb9f3a\"], [0.8888888888888888, \"#fdca26\"], [1.0, \"#f0f921\"]], \"type\": \"contour\"}], \"contourcarpet\": [{\"colorbar\": {\"outlinewidth\": 0, \"ticks\": \"\"}, \"type\": \"contourcarpet\"}], \"heatmap\": [{\"colorbar\": {\"outlinewidth\": 0, \"ticks\": \"\"}, \"colorscale\": [[0.0, \"#0d0887\"], [0.1111111111111111, \"#46039f\"], [0.2222222222222222, \"#7201a8\"], [0.3333333333333333, \"#9c179e\"], [0.4444444444444444, \"#bd3786\"], [0.5555555555555556, \"#d8576b\"], [0.6666666666666666, \"#ed7953\"], [0.7777777777777778, \"#fb9f3a\"], [0.8888888888888888, \"#fdca26\"], [1.0, \"#f0f921\"]], \"type\": \"heatmap\"}], \"heatmapgl\": [{\"colorbar\": {\"outlinewidth\": 0, \"ticks\": \"\"}, \"colorscale\": [[0.0, \"#0d0887\"], [0.1111111111111111, \"#46039f\"], [0.2222222222222222, \"#7201a8\"], [0.3333333333333333, \"#9c179e\"], [0.4444444444444444, \"#bd3786\"], [0.5555555555555556, \"#d8576b\"], [0.6666666666666666, \"#ed7953\"], [0.7777777777777778, \"#fb9f3a\"], [0.8888888888888888, \"#fdca26\"], [1.0, \"#f0f921\"]], \"type\": \"heatmapgl\"}], \"histogram\": [{\"marker\": {\"colorbar\": {\"outlinewidth\": 0, \"ticks\": \"\"}}, \"type\": \"histogram\"}], \"histogram2d\": [{\"colorbar\": {\"outlinewidth\": 0, \"ticks\": \"\"}, \"colorscale\": [[0.0, \"#0d0887\"], [0.1111111111111111, \"#46039f\"], [0.2222222222222222, \"#7201a8\"], [0.3333333333333333, \"#9c179e\"], [0.4444444444444444, \"#bd3786\"], [0.5555555555555556, \"#d8576b\"], [0.6666666666666666, \"#ed7953\"], [0.7777777777777778, \"#fb9f3a\"], [0.8888888888888888, \"#fdca26\"], [1.0, \"#f0f921\"]], \"type\": \"histogram2d\"}], \"histogram2dcontour\": [{\"colorbar\": {\"outlinewidth\": 0, \"ticks\": \"\"}, \"colorscale\": [[0.0, \"#0d0887\"], [0.1111111111111111, \"#46039f\"], [0.2222222222222222, \"#7201a8\"], [0.3333333333333333, \"#9c179e\"], [0.4444444444444444, \"#bd3786\"], [0.5555555555555556, \"#d8576b\"], [0.6666666666666666, \"#ed7953\"], [0.7777777777777778, \"#fb9f3a\"], [0.8888888888888888, \"#fdca26\"], [1.0, \"#f0f921\"]], \"type\": \"histogram2dcontour\"}], \"mesh3d\": [{\"colorbar\": {\"outlinewidth\": 0, \"ticks\": \"\"}, \"type\": \"mesh3d\"}], \"parcoords\": [{\"line\": {\"colorbar\": {\"outlinewidth\": 0, \"ticks\": \"\"}}, \"type\": \"parcoords\"}], \"pie\": [{\"automargin\": true, \"type\": \"pie\"}], \"scatter\": [{\"marker\": {\"colorbar\": {\"outlinewidth\": 0, \"ticks\": \"\"}}, \"type\": \"scatter\"}], \"scatter3d\": [{\"line\": {\"colorbar\": {\"outlinewidth\": 0, \"ticks\": \"\"}}, \"marker\": {\"colorbar\": {\"outlinewidth\": 0, \"ticks\": \"\"}}, \"type\": \"scatter3d\"}], \"scattercarpet\": [{\"marker\": {\"colorbar\": {\"outlinewidth\": 0, \"ticks\": \"\"}}, \"type\": \"scattercarpet\"}], \"scattergeo\": [{\"marker\": {\"colorbar\": {\"outlinewidth\": 0, \"ticks\": \"\"}}, \"type\": \"scattergeo\"}], \"scattergl\": [{\"marker\": {\"colorbar\": {\"outlinewidth\": 0, \"ticks\": \"\"}}, \"type\": \"scattergl\"}], \"scattermapbox\": [{\"marker\": {\"colorbar\": {\"outlinewidth\": 0, \"ticks\": \"\"}}, \"type\": \"scattermapbox\"}], \"scatterpolar\": [{\"marker\": {\"colorbar\": {\"outlinewidth\": 0, \"ticks\": \"\"}}, \"type\": \"scatterpolar\"}], \"scatterpolargl\": [{\"marker\": {\"colorbar\": {\"outlinewidth\": 0, \"ticks\": \"\"}}, \"type\": \"scatterpolargl\"}], \"scatterternary\": [{\"marker\": {\"colorbar\": {\"outlinewidth\": 0, \"ticks\": \"\"}}, \"type\": \"scatterternary\"}], \"surface\": [{\"colorbar\": {\"outlinewidth\": 0, \"ticks\": \"\"}, \"colorscale\": [[0.0, \"#0d0887\"], [0.1111111111111111, \"#46039f\"], [0.2222222222222222, \"#7201a8\"], [0.3333333333333333, \"#9c179e\"], [0.4444444444444444, \"#bd3786\"], [0.5555555555555556, \"#d8576b\"], [0.6666666666666666, \"#ed7953\"], [0.7777777777777778, \"#fb9f3a\"], [0.8888888888888888, \"#fdca26\"], [1.0, \"#f0f921\"]], \"type\": \"surface\"}], \"table\": [{\"cells\": {\"fill\": {\"color\": \"#EBF0F8\"}, \"line\": {\"color\": \"white\"}}, \"header\": {\"fill\": {\"color\": \"#C8D4E3\"}, \"line\": {\"color\": \"white\"}}, \"type\": \"table\"}]}, \"layout\": {\"annotationdefaults\": {\"arrowcolor\": \"#2a3f5f\", \"arrowhead\": 0, \"arrowwidth\": 1}, \"coloraxis\": {\"colorbar\": {\"outlinewidth\": 0, \"ticks\": \"\"}}, \"colorscale\": {\"diverging\": [[0, \"#8e0152\"], [0.1, \"#c51b7d\"], [0.2, \"#de77ae\"], [0.3, \"#f1b6da\"], [0.4, \"#fde0ef\"], [0.5, \"#f7f7f7\"], [0.6, \"#e6f5d0\"], [0.7, \"#b8e186\"], [0.8, \"#7fbc41\"], [0.9, \"#4d9221\"], [1, \"#276419\"]], \"sequential\": [[0.0, \"#0d0887\"], [0.1111111111111111, \"#46039f\"], [0.2222222222222222, \"#7201a8\"], [0.3333333333333333, \"#9c179e\"], [0.4444444444444444, \"#bd3786\"], [0.5555555555555556, \"#d8576b\"], [0.6666666666666666, \"#ed7953\"], [0.7777777777777778, \"#fb9f3a\"], [0.8888888888888888, \"#fdca26\"], [1.0, \"#f0f921\"]], \"sequentialminus\": [[0.0, \"#0d0887\"], [0.1111111111111111, \"#46039f\"], [0.2222222222222222, \"#7201a8\"], [0.3333333333333333, \"#9c179e\"], [0.4444444444444444, \"#bd3786\"], [0.5555555555555556, \"#d8576b\"], [0.6666666666666666, \"#ed7953\"], [0.7777777777777778, \"#fb9f3a\"], [0.8888888888888888, \"#fdca26\"], [1.0, \"#f0f921\"]]}, \"colorway\": [\"#636efa\", \"#EF553B\", \"#00cc96\", \"#ab63fa\", \"#FFA15A\", \"#19d3f3\", \"#FF6692\", \"#B6E880\", \"#FF97FF\", \"#FECB52\"], \"font\": {\"color\": \"#2a3f5f\"}, \"geo\": {\"bgcolor\": \"white\", \"lakecolor\": \"white\", \"landcolor\": \"#E5ECF6\", \"showlakes\": true, \"showland\": true, \"subunitcolor\": \"white\"}, \"hoverlabel\": {\"align\": \"left\"}, \"hovermode\": \"closest\", \"mapbox\": {\"style\": \"light\"}, \"paper_bgcolor\": \"white\", \"plot_bgcolor\": \"#E5ECF6\", \"polar\": {\"angularaxis\": {\"gridcolor\": \"white\", \"linecolor\": \"white\", \"ticks\": \"\"}, \"bgcolor\": \"#E5ECF6\", \"radialaxis\": {\"gridcolor\": \"white\", \"linecolor\": \"white\", \"ticks\": \"\"}}, \"scene\": {\"xaxis\": {\"backgroundcolor\": \"#E5ECF6\", \"gridcolor\": \"white\", \"gridwidth\": 2, \"linecolor\": \"white\", \"showbackground\": true, \"ticks\": \"\", \"zerolinecolor\": \"white\"}, \"yaxis\": {\"backgroundcolor\": \"#E5ECF6\", \"gridcolor\": \"white\", \"gridwidth\": 2, \"linecolor\": \"white\", \"showbackground\": true, \"ticks\": \"\", \"zerolinecolor\": \"white\"}, \"zaxis\": {\"backgroundcolor\": \"#E5ECF6\", \"gridcolor\": \"white\", \"gridwidth\": 2, \"linecolor\": \"white\", \"showbackground\": true, \"ticks\": \"\", \"zerolinecolor\": \"white\"}}, \"shapedefaults\": {\"line\": {\"color\": \"#2a3f5f\"}}, \"ternary\": {\"aaxis\": {\"gridcolor\": \"white\", \"linecolor\": \"white\", \"ticks\": \"\"}, \"baxis\": {\"gridcolor\": \"white\", \"linecolor\": \"white\", \"ticks\": \"\"}, \"bgcolor\": \"#E5ECF6\", \"caxis\": {\"gridcolor\": \"white\", \"linecolor\": \"white\", \"ticks\": \"\"}}, \"title\": {\"x\": 0.05}, \"xaxis\": {\"automargin\": true, \"gridcolor\": \"white\", \"linecolor\": \"white\", \"ticks\": \"\", \"title\": {\"standoff\": 15}, \"zerolinecolor\": \"white\", \"zerolinewidth\": 2}, \"yaxis\": {\"automargin\": true, \"gridcolor\": \"white\", \"linecolor\": \"white\", \"ticks\": \"\", \"title\": {\"standoff\": 15}, \"zerolinecolor\": \"white\", \"zerolinewidth\": 2}}}, \"xaxis\": {\"anchor\": \"y\", \"domain\": [0.0, 1.0], \"title\": {\"text\": \"State/UTs\"}}, \"yaxis\": {\"anchor\": \"x\", \"domain\": [0.0, 1.0], \"title\": {\"text\": \"Total Cases\"}}},\n",
              "                        {\"responsive\": true}\n",
              "                    ).then(function(){\n",
              "                            \n",
              "var gd = document.getElementById('ab511c72-b54d-47ff-b224-54ec0d8267b0');\n",
              "var x = new MutationObserver(function (mutations, observer) {{\n",
              "        var display = window.getComputedStyle(gd).display;\n",
              "        if (!display || display === 'none') {{\n",
              "            console.log([gd, 'removed!']);\n",
              "            Plotly.purge(gd);\n",
              "            observer.disconnect();\n",
              "        }}\n",
              "}});\n",
              "\n",
              "// Listen for the removal of the full notebook cells\n",
              "var notebookContainer = gd.closest('#notebook-container');\n",
              "if (notebookContainer) {{\n",
              "    x.observe(notebookContainer, {childList: true});\n",
              "}}\n",
              "\n",
              "// Listen for the clearing of the current output cell\n",
              "var outputEl = gd.closest('.output');\n",
              "if (outputEl) {{\n",
              "    x.observe(outputEl, {childList: true});\n",
              "}}\n",
              "\n",
              "                        })\n",
              "                };\n",
              "                \n",
              "            </script>\n",
              "        </div>\n",
              "</body>\n",
              "</html>"
            ]
          },
          "metadata": {}
        }
      ]
    },
    {
      "cell_type": "code",
      "metadata": {
        "execution": {
          "iopub.execute_input": "2021-09-05T05:32:34.091349Z",
          "iopub.status.busy": "2021-09-05T05:32:34.090310Z",
          "iopub.status.idle": "2021-09-05T05:32:34.267079Z",
          "shell.execute_reply": "2021-09-05T05:32:34.265512Z",
          "shell.execute_reply.started": "2021-09-05T05:29:48.681403Z"
        },
        "papermill": {
          "duration": 0.259649,
          "end_time": "2021-09-05T05:32:34.267303",
          "exception": false,
          "start_time": "2021-09-05T05:32:34.007654",
          "status": "completed"
        },
        "tags": [],
        "colab": {
          "base_uri": "https://localhost:8080/",
          "height": 542
        },
        "id": "5a5456f5",
        "outputId": "31926296-2c18-4e25-da43-72e50bd28f8a"
      },
      "source": [
        "px.density_heatmap(df, y=\"Total Cases\", x=\"State/UTs\", marginal_x=\"histogram\", marginal_y=\"histogram\")"
      ],
      "id": "5a5456f5",
      "execution_count": 37,
      "outputs": [
        {
          "output_type": "display_data",
          "data": {
            "text/html": [
              "<html>\n",
              "<head><meta charset=\"utf-8\" /></head>\n",
              "<body>\n",
              "    <div>\n",
              "            <script src=\"https://cdnjs.cloudflare.com/ajax/libs/mathjax/2.7.5/MathJax.js?config=TeX-AMS-MML_SVG\"></script><script type=\"text/javascript\">if (window.MathJax) {MathJax.Hub.Config({SVG: {font: \"STIX-Web\"}});}</script>\n",
              "                <script type=\"text/javascript\">window.PlotlyConfig = {MathJaxConfig: 'local'};</script>\n",
              "        <script src=\"https://cdn.plot.ly/plotly-latest.min.js\"></script>    \n",
              "            <div id=\"4cc06bc1-d672-4668-8212-387581d501f4\" class=\"plotly-graph-div\" style=\"height:525px; width:100%;\"></div>\n",
              "            <script type=\"text/javascript\">\n",
              "                \n",
              "                    window.PLOTLYENV=window.PLOTLYENV || {};\n",
              "                    \n",
              "                if (document.getElementById(\"4cc06bc1-d672-4668-8212-387581d501f4\")) {\n",
              "                    Plotly.newPlot(\n",
              "                        '4cc06bc1-d672-4668-8212-387581d501f4',\n",
              "                        [{\"coloraxis\": \"coloraxis\", \"hoverlabel\": {\"namelength\": 0}, \"hovertemplate\": \"State/UTs=%{x}<br>Total Cases=%{y}<br>count=%{z}\", \"name\": \"\", \"type\": \"histogram2d\", \"x\": [\"Andaman and Nicobar\", \"Andhra Pradesh\", \"Arunachal Pradesh\", \"Assam\", \"Bihar\", \"Chandigarh\", \"Chhattisgarh\", \"Daman and Diu\", \"Delhi\", \"Goa\", \"Gujarat\", \"Haryana\", \"Himachal Pradesh\", \"Jammu and Kashmir\", \"Jharkhand\", \"Karnataka\", \"Kerala\", \"Ladakh\", \"Lakshadweep\", \"Madhya Pradesh\", \"Maharashtra\", \"Manipur\", \"Meghalaya\", \"Mizoram\", \"Nagaland\", \"Odisha\", \"Puducherry\", \"Punjab\", \"Rajasthan\", \"Sikkim\", \"Tamil Nadu\", \"Telengana\", \"Tripura\", \"Uttar Pradesh\", \"Uttarakhand\", \"West Bengal\"], \"xaxis\": \"x\", \"xbingroup\": \"x\", \"y\": [7566, 2014116, 53031, 589426, 725708, 65105, 1004451, 10663, 1437764, 173955, 825422, 770486, 213548, 325419, 347867, 2949445, 4057233, 20560, 10347, 792175, 6464876, 113933, 75836, 59119, 30083, 1007750, 123572, 600614, 954095, 29878, 2614872, 658054, 82961, 1709335, 342976, 1548604], \"yaxis\": \"y\", \"ybingroup\": \"y\"}, {\"alignmentgroup\": \"True\", \"bingroup\": \"x\", \"hoverlabel\": {\"namelength\": 0}, \"hovertemplate\": \"State/UTs=%{x}<br>count=%{y}\", \"legendgroup\": \"\", \"marker\": {\"color\": \"#0d0887\"}, \"name\": \"\", \"offsetgroup\": \"\", \"opacity\": 0.5, \"showlegend\": false, \"type\": \"histogram\", \"x\": [\"Andaman and Nicobar\", \"Andhra Pradesh\", \"Arunachal Pradesh\", \"Assam\", \"Bihar\", \"Chandigarh\", \"Chhattisgarh\", \"Daman and Diu\", \"Delhi\", \"Goa\", \"Gujarat\", \"Haryana\", \"Himachal Pradesh\", \"Jammu and Kashmir\", \"Jharkhand\", \"Karnataka\", \"Kerala\", \"Ladakh\", \"Lakshadweep\", \"Madhya Pradesh\", \"Maharashtra\", \"Manipur\", \"Meghalaya\", \"Mizoram\", \"Nagaland\", \"Odisha\", \"Puducherry\", \"Punjab\", \"Rajasthan\", \"Sikkim\", \"Tamil Nadu\", \"Telengana\", \"Tripura\", \"Uttar Pradesh\", \"Uttarakhand\", \"West Bengal\"], \"xaxis\": \"x3\", \"yaxis\": \"y3\"}, {\"alignmentgroup\": \"True\", \"bingroup\": \"y\", \"hoverlabel\": {\"namelength\": 0}, \"hovertemplate\": \"Total Cases=%{y}<br>count=%{x}\", \"legendgroup\": \"\", \"marker\": {\"color\": \"#0d0887\"}, \"name\": \"\", \"offsetgroup\": \"\", \"opacity\": 0.5, \"showlegend\": false, \"type\": \"histogram\", \"xaxis\": \"x2\", \"y\": [7566, 2014116, 53031, 589426, 725708, 65105, 1004451, 10663, 1437764, 173955, 825422, 770486, 213548, 325419, 347867, 2949445, 4057233, 20560, 10347, 792175, 6464876, 113933, 75836, 59119, 30083, 1007750, 123572, 600614, 954095, 29878, 2614872, 658054, 82961, 1709335, 342976, 1548604], \"yaxis\": \"y2\"}],\n",
              "                        {\"barmode\": \"overlay\", \"coloraxis\": {\"colorbar\": {\"title\": {\"text\": \"count\"}}, \"colorscale\": [[0.0, \"#0d0887\"], [0.1111111111111111, \"#46039f\"], [0.2222222222222222, \"#7201a8\"], [0.3333333333333333, \"#9c179e\"], [0.4444444444444444, \"#bd3786\"], [0.5555555555555556, \"#d8576b\"], [0.6666666666666666, \"#ed7953\"], [0.7777777777777778, \"#fb9f3a\"], [0.8888888888888888, \"#fdca26\"], [1.0, \"#f0f921\"]]}, \"legend\": {\"tracegroupgap\": 0}, \"margin\": {\"t\": 60}, \"template\": {\"data\": {\"bar\": [{\"error_x\": {\"color\": \"#2a3f5f\"}, \"error_y\": {\"color\": \"#2a3f5f\"}, \"marker\": {\"line\": {\"color\": \"#E5ECF6\", \"width\": 0.5}}, \"type\": \"bar\"}], \"barpolar\": [{\"marker\": {\"line\": {\"color\": \"#E5ECF6\", \"width\": 0.5}}, \"type\": \"barpolar\"}], \"carpet\": [{\"aaxis\": {\"endlinecolor\": \"#2a3f5f\", \"gridcolor\": \"white\", \"linecolor\": \"white\", \"minorgridcolor\": \"white\", \"startlinecolor\": \"#2a3f5f\"}, \"baxis\": {\"endlinecolor\": \"#2a3f5f\", \"gridcolor\": \"white\", \"linecolor\": \"white\", \"minorgridcolor\": \"white\", \"startlinecolor\": \"#2a3f5f\"}, \"type\": \"carpet\"}], \"choropleth\": [{\"colorbar\": {\"outlinewidth\": 0, \"ticks\": \"\"}, \"type\": \"choropleth\"}], \"contour\": [{\"colorbar\": {\"outlinewidth\": 0, \"ticks\": \"\"}, \"colorscale\": [[0.0, \"#0d0887\"], [0.1111111111111111, \"#46039f\"], [0.2222222222222222, \"#7201a8\"], [0.3333333333333333, \"#9c179e\"], [0.4444444444444444, \"#bd3786\"], [0.5555555555555556, \"#d8576b\"], [0.6666666666666666, \"#ed7953\"], [0.7777777777777778, \"#fb9f3a\"], [0.8888888888888888, \"#fdca26\"], [1.0, \"#f0f921\"]], \"type\": \"contour\"}], \"contourcarpet\": [{\"colorbar\": {\"outlinewidth\": 0, \"ticks\": \"\"}, \"type\": \"contourcarpet\"}], \"heatmap\": [{\"colorbar\": {\"outlinewidth\": 0, \"ticks\": \"\"}, \"colorscale\": [[0.0, \"#0d0887\"], [0.1111111111111111, \"#46039f\"], [0.2222222222222222, \"#7201a8\"], [0.3333333333333333, \"#9c179e\"], [0.4444444444444444, \"#bd3786\"], [0.5555555555555556, \"#d8576b\"], [0.6666666666666666, \"#ed7953\"], [0.7777777777777778, \"#fb9f3a\"], [0.8888888888888888, \"#fdca26\"], [1.0, \"#f0f921\"]], \"type\": \"heatmap\"}], \"heatmapgl\": [{\"colorbar\": {\"outlinewidth\": 0, \"ticks\": \"\"}, \"colorscale\": [[0.0, \"#0d0887\"], [0.1111111111111111, \"#46039f\"], [0.2222222222222222, \"#7201a8\"], [0.3333333333333333, \"#9c179e\"], [0.4444444444444444, \"#bd3786\"], [0.5555555555555556, \"#d8576b\"], [0.6666666666666666, \"#ed7953\"], [0.7777777777777778, \"#fb9f3a\"], [0.8888888888888888, \"#fdca26\"], [1.0, \"#f0f921\"]], \"type\": \"heatmapgl\"}], \"histogram\": [{\"marker\": {\"colorbar\": {\"outlinewidth\": 0, \"ticks\": \"\"}}, \"type\": \"histogram\"}], \"histogram2d\": [{\"colorbar\": {\"outlinewidth\": 0, \"ticks\": \"\"}, \"colorscale\": [[0.0, \"#0d0887\"], [0.1111111111111111, \"#46039f\"], [0.2222222222222222, \"#7201a8\"], [0.3333333333333333, \"#9c179e\"], [0.4444444444444444, \"#bd3786\"], [0.5555555555555556, \"#d8576b\"], [0.6666666666666666, \"#ed7953\"], [0.7777777777777778, \"#fb9f3a\"], [0.8888888888888888, \"#fdca26\"], [1.0, \"#f0f921\"]], \"type\": \"histogram2d\"}], \"histogram2dcontour\": [{\"colorbar\": {\"outlinewidth\": 0, \"ticks\": \"\"}, \"colorscale\": [[0.0, \"#0d0887\"], [0.1111111111111111, \"#46039f\"], [0.2222222222222222, \"#7201a8\"], [0.3333333333333333, \"#9c179e\"], [0.4444444444444444, \"#bd3786\"], [0.5555555555555556, \"#d8576b\"], [0.6666666666666666, \"#ed7953\"], [0.7777777777777778, \"#fb9f3a\"], [0.8888888888888888, \"#fdca26\"], [1.0, \"#f0f921\"]], \"type\": \"histogram2dcontour\"}], \"mesh3d\": [{\"colorbar\": {\"outlinewidth\": 0, \"ticks\": \"\"}, \"type\": \"mesh3d\"}], \"parcoords\": [{\"line\": {\"colorbar\": {\"outlinewidth\": 0, \"ticks\": \"\"}}, \"type\": \"parcoords\"}], \"pie\": [{\"automargin\": true, \"type\": \"pie\"}], \"scatter\": [{\"marker\": {\"colorbar\": {\"outlinewidth\": 0, \"ticks\": \"\"}}, \"type\": \"scatter\"}], \"scatter3d\": [{\"line\": {\"colorbar\": {\"outlinewidth\": 0, \"ticks\": \"\"}}, \"marker\": {\"colorbar\": {\"outlinewidth\": 0, \"ticks\": \"\"}}, \"type\": \"scatter3d\"}], \"scattercarpet\": [{\"marker\": {\"colorbar\": {\"outlinewidth\": 0, \"ticks\": \"\"}}, \"type\": \"scattercarpet\"}], \"scattergeo\": [{\"marker\": {\"colorbar\": {\"outlinewidth\": 0, \"ticks\": \"\"}}, \"type\": \"scattergeo\"}], \"scattergl\": [{\"marker\": {\"colorbar\": {\"outlinewidth\": 0, \"ticks\": \"\"}}, \"type\": \"scattergl\"}], \"scattermapbox\": [{\"marker\": {\"colorbar\": {\"outlinewidth\": 0, \"ticks\": \"\"}}, \"type\": \"scattermapbox\"}], \"scatterpolar\": [{\"marker\": {\"colorbar\": {\"outlinewidth\": 0, \"ticks\": \"\"}}, \"type\": \"scatterpolar\"}], \"scatterpolargl\": [{\"marker\": {\"colorbar\": {\"outlinewidth\": 0, \"ticks\": \"\"}}, \"type\": \"scatterpolargl\"}], \"scatterternary\": [{\"marker\": {\"colorbar\": {\"outlinewidth\": 0, \"ticks\": \"\"}}, \"type\": \"scatterternary\"}], \"surface\": [{\"colorbar\": {\"outlinewidth\": 0, \"ticks\": \"\"}, \"colorscale\": [[0.0, \"#0d0887\"], [0.1111111111111111, \"#46039f\"], [0.2222222222222222, \"#7201a8\"], [0.3333333333333333, \"#9c179e\"], [0.4444444444444444, \"#bd3786\"], [0.5555555555555556, \"#d8576b\"], [0.6666666666666666, \"#ed7953\"], [0.7777777777777778, \"#fb9f3a\"], [0.8888888888888888, \"#fdca26\"], [1.0, \"#f0f921\"]], \"type\": \"surface\"}], \"table\": [{\"cells\": {\"fill\": {\"color\": \"#EBF0F8\"}, \"line\": {\"color\": \"white\"}}, \"header\": {\"fill\": {\"color\": \"#C8D4E3\"}, \"line\": {\"color\": \"white\"}}, \"type\": \"table\"}]}, \"layout\": {\"annotationdefaults\": {\"arrowcolor\": \"#2a3f5f\", \"arrowhead\": 0, \"arrowwidth\": 1}, \"coloraxis\": {\"colorbar\": {\"outlinewidth\": 0, \"ticks\": \"\"}}, \"colorscale\": {\"diverging\": [[0, \"#8e0152\"], [0.1, \"#c51b7d\"], [0.2, \"#de77ae\"], [0.3, \"#f1b6da\"], [0.4, \"#fde0ef\"], [0.5, \"#f7f7f7\"], [0.6, \"#e6f5d0\"], [0.7, \"#b8e186\"], [0.8, \"#7fbc41\"], [0.9, \"#4d9221\"], [1, \"#276419\"]], \"sequential\": [[0.0, \"#0d0887\"], [0.1111111111111111, \"#46039f\"], [0.2222222222222222, \"#7201a8\"], [0.3333333333333333, \"#9c179e\"], [0.4444444444444444, \"#bd3786\"], [0.5555555555555556, \"#d8576b\"], [0.6666666666666666, \"#ed7953\"], [0.7777777777777778, \"#fb9f3a\"], [0.8888888888888888, \"#fdca26\"], [1.0, \"#f0f921\"]], \"sequentialminus\": [[0.0, \"#0d0887\"], [0.1111111111111111, \"#46039f\"], [0.2222222222222222, \"#7201a8\"], [0.3333333333333333, \"#9c179e\"], [0.4444444444444444, \"#bd3786\"], [0.5555555555555556, \"#d8576b\"], [0.6666666666666666, \"#ed7953\"], [0.7777777777777778, \"#fb9f3a\"], [0.8888888888888888, \"#fdca26\"], [1.0, \"#f0f921\"]]}, \"colorway\": [\"#636efa\", \"#EF553B\", \"#00cc96\", \"#ab63fa\", \"#FFA15A\", \"#19d3f3\", \"#FF6692\", \"#B6E880\", \"#FF97FF\", \"#FECB52\"], \"font\": {\"color\": \"#2a3f5f\"}, \"geo\": {\"bgcolor\": \"white\", \"lakecolor\": \"white\", \"landcolor\": \"#E5ECF6\", \"showlakes\": true, \"showland\": true, \"subunitcolor\": \"white\"}, \"hoverlabel\": {\"align\": \"left\"}, \"hovermode\": \"closest\", \"mapbox\": {\"style\": \"light\"}, \"paper_bgcolor\": \"white\", \"plot_bgcolor\": \"#E5ECF6\", \"polar\": {\"angularaxis\": {\"gridcolor\": \"white\", \"linecolor\": \"white\", \"ticks\": \"\"}, \"bgcolor\": \"#E5ECF6\", \"radialaxis\": {\"gridcolor\": \"white\", \"linecolor\": \"white\", \"ticks\": \"\"}}, \"scene\": {\"xaxis\": {\"backgroundcolor\": \"#E5ECF6\", \"gridcolor\": \"white\", \"gridwidth\": 2, \"linecolor\": \"white\", \"showbackground\": true, \"ticks\": \"\", \"zerolinecolor\": \"white\"}, \"yaxis\": {\"backgroundcolor\": \"#E5ECF6\", \"gridcolor\": \"white\", \"gridwidth\": 2, \"linecolor\": \"white\", \"showbackground\": true, \"ticks\": \"\", \"zerolinecolor\": \"white\"}, \"zaxis\": {\"backgroundcolor\": \"#E5ECF6\", \"gridcolor\": \"white\", \"gridwidth\": 2, \"linecolor\": \"white\", \"showbackground\": true, \"ticks\": \"\", \"zerolinecolor\": \"white\"}}, \"shapedefaults\": {\"line\": {\"color\": \"#2a3f5f\"}}, \"ternary\": {\"aaxis\": {\"gridcolor\": \"white\", \"linecolor\": \"white\", \"ticks\": \"\"}, \"baxis\": {\"gridcolor\": \"white\", \"linecolor\": \"white\", \"ticks\": \"\"}, \"bgcolor\": \"#E5ECF6\", \"caxis\": {\"gridcolor\": \"white\", \"linecolor\": \"white\", \"ticks\": \"\"}}, \"title\": {\"x\": 0.05}, \"xaxis\": {\"automargin\": true, \"gridcolor\": \"white\", \"linecolor\": \"white\", \"ticks\": \"\", \"title\": {\"standoff\": 15}, \"zerolinecolor\": \"white\", \"zerolinewidth\": 2}, \"yaxis\": {\"automargin\": true, \"gridcolor\": \"white\", \"linecolor\": \"white\", \"ticks\": \"\", \"title\": {\"standoff\": 15}, \"zerolinecolor\": \"white\", \"zerolinewidth\": 2}}}, \"xaxis\": {\"anchor\": \"y\", \"domain\": [0.0, 0.7363], \"title\": {\"text\": \"State/UTs\"}}, \"xaxis2\": {\"anchor\": \"y2\", \"domain\": [0.7413, 1.0], \"matches\": \"x2\", \"showgrid\": true, \"showline\": false, \"showticklabels\": false, \"ticks\": \"\"}, \"xaxis3\": {\"anchor\": \"y3\", \"domain\": [0.0, 0.7363], \"matches\": \"x\", \"showgrid\": true, \"showticklabels\": false}, \"xaxis4\": {\"anchor\": \"y4\", \"domain\": [0.7413, 1.0], \"matches\": \"x2\", \"showgrid\": true, \"showline\": false, \"showticklabels\": false, \"ticks\": \"\"}, \"yaxis\": {\"anchor\": \"x\", \"domain\": [0.0, 0.7326], \"title\": {\"text\": \"Total Cases\"}}, \"yaxis2\": {\"anchor\": \"x2\", \"domain\": [0.0, 0.7326], \"matches\": \"y\", \"showgrid\": true, \"showticklabels\": false}, \"yaxis3\": {\"anchor\": \"x3\", \"domain\": [0.7426, 1.0], \"matches\": \"y3\", \"showgrid\": true, \"showline\": false, \"showticklabels\": false, \"ticks\": \"\"}, \"yaxis4\": {\"anchor\": \"x4\", \"domain\": [0.7426, 1.0], \"matches\": \"y3\", \"showgrid\": true, \"showline\": false, \"showticklabels\": false, \"ticks\": \"\"}},\n",
              "                        {\"responsive\": true}\n",
              "                    ).then(function(){\n",
              "                            \n",
              "var gd = document.getElementById('4cc06bc1-d672-4668-8212-387581d501f4');\n",
              "var x = new MutationObserver(function (mutations, observer) {{\n",
              "        var display = window.getComputedStyle(gd).display;\n",
              "        if (!display || display === 'none') {{\n",
              "            console.log([gd, 'removed!']);\n",
              "            Plotly.purge(gd);\n",
              "            observer.disconnect();\n",
              "        }}\n",
              "}});\n",
              "\n",
              "// Listen for the removal of the full notebook cells\n",
              "var notebookContainer = gd.closest('#notebook-container');\n",
              "if (notebookContainer) {{\n",
              "    x.observe(notebookContainer, {childList: true});\n",
              "}}\n",
              "\n",
              "// Listen for the clearing of the current output cell\n",
              "var outputEl = gd.closest('.output');\n",
              "if (outputEl) {{\n",
              "    x.observe(outputEl, {childList: true});\n",
              "}}\n",
              "\n",
              "                        })\n",
              "                };\n",
              "                \n",
              "            </script>\n",
              "        </div>\n",
              "</body>\n",
              "</html>"
            ]
          },
          "metadata": {}
        }
      ]
    },
    {
      "cell_type": "code",
      "metadata": {
        "execution": {
          "iopub.execute_input": "2021-09-05T05:32:34.466253Z",
          "iopub.status.busy": "2021-09-05T05:32:34.464717Z",
          "iopub.status.idle": "2021-09-05T05:32:37.167652Z",
          "shell.execute_reply": "2021-09-05T05:32:37.168377Z",
          "shell.execute_reply.started": "2021-09-05T05:29:48.853875Z"
        },
        "papermill": {
          "duration": 2.832198,
          "end_time": "2021-09-05T05:32:37.168572",
          "exception": false,
          "start_time": "2021-09-05T05:32:34.336374",
          "status": "completed"
        },
        "tags": [],
        "colab": {
          "base_uri": "https://localhost:8080/",
          "height": 607
        },
        "id": "05cb584d",
        "outputId": "d87f5a39-16ae-41e1-be31-9a63dcf2ce0f"
      },
      "source": [
        "sns.relplot(x = 'Total Cases', y ='Discharged', hue = 'State/UTs', data = df)"
      ],
      "id": "05cb584d",
      "execution_count": 38,
      "outputs": [
        {
          "output_type": "execute_result",
          "data": {
            "text/plain": [
              "<seaborn.axisgrid.FacetGrid at 0x7f7baaf70c50>"
            ]
          },
          "metadata": {},
          "execution_count": 38
        },
        {
          "output_type": "display_data",
          "data": {
            "image/png": "[encoded data removed]",
            "text/plain": [
              "<Figure size 507.375x360 with 1 Axes>"
            ]
          },
          "metadata": {
            "needs_background": "light"
          }
        }
      ]
    },
    {
      "cell_type": "code",
      "metadata": {
        "execution": {
          "iopub.execute_input": "2021-09-05T05:32:37.317830Z",
          "iopub.status.busy": "2021-09-05T05:32:37.311304Z",
          "iopub.status.idle": "2021-09-05T05:32:37.576136Z",
          "shell.execute_reply": "2021-09-05T05:32:37.575220Z",
          "shell.execute_reply.started": "2021-09-05T05:29:51.271523Z"
        },
        "papermill": {
          "duration": 0.341843,
          "end_time": "2021-09-05T05:32:37.576316",
          "exception": false,
          "start_time": "2021-09-05T05:32:37.234473",
          "status": "completed"
        },
        "tags": [],
        "colab": {
          "base_uri": "https://localhost:8080/",
          "height": 542
        },
        "id": "59b969d2",
        "outputId": "18efe89a-d895-4f7c-88f9-d957d56572e9"
      },
      "source": [
        "fig = px.scatter_matrix(df, dimensions=[\"Total Cases\", \"Active\", \"Discharged\", \"Deaths\"], color=df['State/UTs'])\n",
        "fig.show()"
      ],
      "id": "59b969d2",
      "execution_count": 39,
      "outputs": [
        {
          "output_type": "display_data",
          "data": {
            "text/html": [
              "<html>\n",
              "<head><meta charset=\"utf-8\" /></head>\n",
              "<body>\n",
              "    <div>\n",
              "            <script src=\"https://cdnjs.cloudflare.com/ajax/libs/mathjax/2.7.5/MathJax.js?config=TeX-AMS-MML_SVG\"></script><script type=\"text/javascript\">if (window.MathJax) {MathJax.Hub.Config({SVG: {font: \"STIX-Web\"}});}</script>\n",
              "                <script type=\"text/javascript\">window.PlotlyConfig = {MathJaxConfig: 'local'};</script>\n",
              "        <script src=\"https://cdn.plot.ly/plotly-latest.min.js\"></script>    \n",
              "            <div id=\"00bfa73f-c5b4-4f32-8725-c27d998a72f9\" class=\"plotly-graph-div\" style=\"height:525px; width:100%;\"></div>\n",
              "            <script type=\"text/javascript\">\n",
              "                \n",
              "                    window.PLOTLYENV=window.PLOTLYENV || {};\n",
              "                    \n",
              "                if (document.getElementById(\"00bfa73f-c5b4-4f32-8725-c27d998a72f9\")) {\n",
              "                    Plotly.newPlot(\n",
              "                        '00bfa73f-c5b4-4f32-8725-c27d998a72f9',\n",
              "                        [{\"dimensions\": [{\"axis\": {\"matches\": true}, \"label\": \"Total Cases\", \"values\": [7566]}, {\"axis\": {\"matches\": true}, \"label\": \"Active\", \"values\": [6]}, {\"axis\": {\"matches\": true}, \"label\": \"Discharged\", \"values\": [7431]}, {\"axis\": {\"matches\": true}, \"label\": \"Deaths\", \"values\": [129]}], \"hoverlabel\": {\"namelength\": 0}, \"hovertemplate\": \"State/UTs=Andaman and Nicobar<br>%{xaxis.title.text}=%{x}<br>%{yaxis.title.text}=%{y}\", \"legendgroup\": \"State/UTs=Andaman and Nicobar\", \"marker\": {\"color\": \"#636efa\", \"symbol\": \"circle\"}, \"name\": \"State/UTs=Andaman and Nicobar\", \"showlegend\": true, \"type\": \"splom\"}, {\"dimensions\": [{\"axis\": {\"matches\": true}, \"label\": \"Total Cases\", \"values\": [2014116]}, {\"axis\": {\"matches\": true}, \"label\": \"Active\", \"values\": [14693]}, {\"axis\": {\"matches\": true}, \"label\": \"Discharged\", \"values\": [1985566]}, {\"axis\": {\"matches\": true}, \"label\": \"Deaths\", \"values\": [13857]}], \"hoverlabel\": {\"namelength\": 0}, \"hovertemplate\": \"State/UTs=Andhra Pradesh<br>%{xaxis.title.text}=%{x}<br>%{yaxis.title.text}=%{y}\", \"legendgroup\": \"State/UTs=Andhra Pradesh\", \"marker\": {\"color\": \"#EF553B\", \"symbol\": \"circle\"}, \"name\": \"State/UTs=Andhra Pradesh\", \"showlegend\": true, \"type\": \"splom\"}, {\"dimensions\": [{\"axis\": {\"matches\": true}, \"label\": \"Total Cases\", \"values\": [53031]}, {\"axis\": {\"matches\": true}, \"label\": \"Active\", \"values\": [863]}, {\"axis\": {\"matches\": true}, \"label\": \"Discharged\", \"values\": [51908]}, {\"axis\": {\"matches\": true}, \"label\": \"Deaths\", \"values\": [260]}], \"hoverlabel\": {\"namelength\": 0}, \"hovertemplate\": \"State/UTs=Arunachal Pradesh<br>%{xaxis.title.text}=%{x}<br>%{yaxis.title.text}=%{y}\", \"legendgroup\": \"State/UTs=Arunachal Pradesh\", \"marker\": {\"color\": \"#00cc96\", \"symbol\": \"circle\"}, \"name\": \"State/UTs=Arunachal Pradesh\", \"showlegend\": true, \"type\": \"splom\"}, {\"dimensions\": [{\"axis\": {\"matches\": true}, \"label\": \"Total Cases\", \"values\": [589426]}, {\"axis\": {\"matches\": true}, \"label\": \"Active\", \"values\": [6901]}, {\"axis\": {\"matches\": true}, \"label\": \"Discharged\", \"values\": [576865]}, {\"axis\": {\"matches\": true}, \"label\": \"Deaths\", \"values\": [5660]}], \"hoverlabel\": {\"namelength\": 0}, \"hovertemplate\": \"State/UTs=Assam<br>%{xaxis.title.text}=%{x}<br>%{yaxis.title.text}=%{y}\", \"legendgroup\": \"State/UTs=Assam\", \"marker\": {\"color\": \"#ab63fa\", \"symbol\": \"circle\"}, \"name\": \"State/UTs=Assam\", \"showlegend\": true, \"type\": \"splom\"}, {\"dimensions\": [{\"axis\": {\"matches\": true}, \"label\": \"Total Cases\", \"values\": [725708]}, {\"axis\": {\"matches\": true}, \"label\": \"Active\", \"values\": [100]}, {\"axis\": {\"matches\": true}, \"label\": \"Discharged\", \"values\": [715955]}, {\"axis\": {\"matches\": true}, \"label\": \"Deaths\", \"values\": [9653]}], \"hoverlabel\": {\"namelength\": 0}, \"hovertemplate\": \"State/UTs=Bihar<br>%{xaxis.title.text}=%{x}<br>%{yaxis.title.text}=%{y}\", \"legendgroup\": \"State/UTs=Bihar\", \"marker\": {\"color\": \"#FFA15A\", \"symbol\": \"circle\"}, \"name\": \"State/UTs=Bihar\", \"showlegend\": true, \"type\": \"splom\"}, {\"dimensions\": [{\"axis\": {\"matches\": true}, \"label\": \"Total Cases\", \"values\": [65105]}, {\"axis\": {\"matches\": true}, \"label\": \"Active\", \"values\": [40]}, {\"axis\": {\"matches\": true}, \"label\": \"Discharged\", \"values\": [64252]}, {\"axis\": {\"matches\": true}, \"label\": \"Deaths\", \"values\": [813]}], \"hoverlabel\": {\"namelength\": 0}, \"hovertemplate\": \"State/UTs=Chandigarh<br>%{xaxis.title.text}=%{x}<br>%{yaxis.title.text}=%{y}\", \"legendgroup\": \"State/UTs=Chandigarh\", \"marker\": {\"color\": \"#19d3f3\", \"symbol\": \"circle\"}, \"name\": \"State/UTs=Chandigarh\", \"showlegend\": true, \"type\": \"splom\"}, {\"dimensions\": [{\"axis\": {\"matches\": true}, \"label\": \"Total Cases\", \"values\": [1004451]}, {\"axis\": {\"matches\": true}, \"label\": \"Active\", \"values\": [412]}, {\"axis\": {\"matches\": true}, \"label\": \"Discharged\", \"values\": [990484]}, {\"axis\": {\"matches\": true}, \"label\": \"Deaths\", \"values\": [13555]}], \"hoverlabel\": {\"namelength\": 0}, \"hovertemplate\": \"State/UTs=Chhattisgarh<br>%{xaxis.title.text}=%{x}<br>%{yaxis.title.text}=%{y}\", \"legendgroup\": \"State/UTs=Chhattisgarh\", \"marker\": {\"color\": \"#FF6692\", \"symbol\": \"circle\"}, \"name\": \"State/UTs=Chhattisgarh\", \"showlegend\": true, \"type\": \"splom\"}, {\"dimensions\": [{\"axis\": {\"matches\": true}, \"label\": \"Total Cases\", \"values\": [10663]}, {\"axis\": {\"matches\": true}, \"label\": \"Active\", \"values\": [4]}, {\"axis\": {\"matches\": true}, \"label\": \"Discharged\", \"values\": [10655]}, {\"axis\": {\"matches\": true}, \"label\": \"Deaths\", \"values\": [4]}], \"hoverlabel\": {\"namelength\": 0}, \"hovertemplate\": \"State/UTs=Daman and Diu<br>%{xaxis.title.text}=%{x}<br>%{yaxis.title.text}=%{y}\", \"legendgroup\": \"State/UTs=Daman and Diu\", \"marker\": {\"color\": \"#B6E880\", \"symbol\": \"circle\"}, \"name\": \"State/UTs=Daman and Diu\", \"showlegend\": true, \"type\": \"splom\"}, {\"dimensions\": [{\"axis\": {\"matches\": true}, \"label\": \"Total Cases\", \"values\": [1437764]}, {\"axis\": {\"matches\": true}, \"label\": \"Active\", \"values\": [349]}, {\"axis\": {\"matches\": true}, \"label\": \"Discharged\", \"values\": [1412333]}, {\"axis\": {\"matches\": true}, \"label\": \"Deaths\", \"values\": [25082]}], \"hoverlabel\": {\"namelength\": 0}, \"hovertemplate\": \"State/UTs=Delhi<br>%{xaxis.title.text}=%{x}<br>%{yaxis.title.text}=%{y}\", \"legendgroup\": \"State/UTs=Delhi\", \"marker\": {\"color\": \"#FF97FF\", \"symbol\": \"circle\"}, \"name\": \"State/UTs=Delhi\", \"showlegend\": true, \"type\": \"splom\"}, {\"dimensions\": [{\"axis\": {\"matches\": true}, \"label\": \"Total Cases\", \"values\": [173955]}, {\"axis\": {\"matches\": true}, \"label\": \"Active\", \"values\": [877]}, {\"axis\": {\"matches\": true}, \"label\": \"Discharged\", \"values\": [169877]}, {\"axis\": {\"matches\": true}, \"label\": \"Deaths\", \"values\": [3201]}], \"hoverlabel\": {\"namelength\": 0}, \"hovertemplate\": \"State/UTs=Goa<br>%{xaxis.title.text}=%{x}<br>%{yaxis.title.text}=%{y}\", \"legendgroup\": \"State/UTs=Goa\", \"marker\": {\"color\": \"#FECB52\", \"symbol\": \"circle\"}, \"name\": \"State/UTs=Goa\", \"showlegend\": true, \"type\": \"splom\"}, {\"dimensions\": [{\"axis\": {\"matches\": true}, \"label\": \"Total Cases\", \"values\": [825422]}, {\"axis\": {\"matches\": true}, \"label\": \"Active\", \"values\": [150]}, {\"axis\": {\"matches\": true}, \"label\": \"Discharged\", \"values\": [815191]}, {\"axis\": {\"matches\": true}, \"label\": \"Deaths\", \"values\": [10081]}], \"hoverlabel\": {\"namelength\": 0}, \"hovertemplate\": \"State/UTs=Gujarat<br>%{xaxis.title.text}=%{x}<br>%{yaxis.title.text}=%{y}\", \"legendgroup\": \"State/UTs=Gujarat\", \"marker\": {\"color\": \"#636efa\", \"symbol\": \"circle\"}, \"name\": \"State/UTs=Gujarat\", \"showlegend\": true, \"type\": \"splom\"}, {\"dimensions\": [{\"axis\": {\"matches\": true}, \"label\": \"Total Cases\", \"values\": [770486]}, {\"axis\": {\"matches\": true}, \"label\": \"Active\", \"values\": [634]}, {\"axis\": {\"matches\": true}, \"label\": \"Discharged\", \"values\": [760175]}, {\"axis\": {\"matches\": true}, \"label\": \"Deaths\", \"values\": [9677]}], \"hoverlabel\": {\"namelength\": 0}, \"hovertemplate\": \"State/UTs=Haryana<br>%{xaxis.title.text}=%{x}<br>%{yaxis.title.text}=%{y}\", \"legendgroup\": \"State/UTs=Haryana\", \"marker\": {\"color\": \"#EF553B\", \"symbol\": \"circle\"}, \"name\": \"State/UTs=Haryana\", \"showlegend\": true, \"type\": \"splom\"}, {\"dimensions\": [{\"axis\": {\"matches\": true}, \"label\": \"Total Cases\", \"values\": [213548]}, {\"axis\": {\"matches\": true}, \"label\": \"Active\", \"values\": [1642]}, {\"axis\": {\"matches\": true}, \"label\": \"Discharged\", \"values\": [208308]}, {\"axis\": {\"matches\": true}, \"label\": \"Deaths\", \"values\": [3598]}], \"hoverlabel\": {\"namelength\": 0}, \"hovertemplate\": \"State/UTs=Himachal Pradesh<br>%{xaxis.title.text}=%{x}<br>%{yaxis.title.text}=%{y}\", \"legendgroup\": \"State/UTs=Himachal Pradesh\", \"marker\": {\"color\": \"#00cc96\", \"symbol\": \"circle\"}, \"name\": \"State/UTs=Himachal Pradesh\", \"showlegend\": true, \"type\": \"splom\"}, {\"dimensions\": [{\"axis\": {\"matches\": true}, \"label\": \"Total Cases\", \"values\": [325419]}, {\"axis\": {\"matches\": true}, \"label\": \"Active\", \"values\": [1330]}, {\"axis\": {\"matches\": true}, \"label\": \"Discharged\", \"values\": [319681]}, {\"axis\": {\"matches\": true}, \"label\": \"Deaths\", \"values\": [4408]}], \"hoverlabel\": {\"namelength\": 0}, \"hovertemplate\": \"State/UTs=Jammu and Kashmir<br>%{xaxis.title.text}=%{x}<br>%{yaxis.title.text}=%{y}\", \"legendgroup\": \"State/UTs=Jammu and Kashmir\", \"marker\": {\"color\": \"#ab63fa\", \"symbol\": \"circle\"}, \"name\": \"State/UTs=Jammu and Kashmir\", \"showlegend\": true, \"type\": \"splom\"}, {\"dimensions\": [{\"axis\": {\"matches\": true}, \"label\": \"Total Cases\", \"values\": [347867]}, {\"axis\": {\"matches\": true}, \"label\": \"Active\", \"values\": [130]}, {\"axis\": {\"matches\": true}, \"label\": \"Discharged\", \"values\": [342605]}, {\"axis\": {\"matches\": true}, \"label\": \"Deaths\", \"values\": [5132]}], \"hoverlabel\": {\"namelength\": 0}, \"hovertemplate\": \"State/UTs=Jharkhand<br>%{xaxis.title.text}=%{x}<br>%{yaxis.title.text}=%{y}\", \"legendgroup\": \"State/UTs=Jharkhand\", \"marker\": {\"color\": \"#FFA15A\", \"symbol\": \"circle\"}, \"name\": \"State/UTs=Jharkhand\", \"showlegend\": true, \"type\": \"splom\"}, {\"dimensions\": [{\"axis\": {\"matches\": true}, \"label\": \"Total Cases\", \"values\": [2949445]}, {\"axis\": {\"matches\": true}, \"label\": \"Active\", \"values\": [18412]}, {\"axis\": {\"matches\": true}, \"label\": \"Discharged\", \"values\": [2893715]}, {\"axis\": {\"matches\": true}, \"label\": \"Deaths\", \"values\": [37318]}], \"hoverlabel\": {\"namelength\": 0}, \"hovertemplate\": \"State/UTs=Karnataka<br>%{xaxis.title.text}=%{x}<br>%{yaxis.title.text}=%{y}\", \"legendgroup\": \"State/UTs=Karnataka\", \"marker\": {\"color\": \"#19d3f3\", \"symbol\": \"circle\"}, \"name\": \"State/UTs=Karnataka\", \"showlegend\": true, \"type\": \"splom\"}, {\"dimensions\": [{\"axis\": {\"matches\": true}, \"label\": \"Total Cases\", \"values\": [4057233]}, {\"axis\": {\"matches\": true}, \"label\": \"Active\", \"values\": [219441]}, {\"axis\": {\"matches\": true}, \"label\": \"Discharged\", \"values\": [3817004]}, {\"axis\": {\"matches\": true}, \"label\": \"Deaths\", \"values\": [20788]}], \"hoverlabel\": {\"namelength\": 0}, \"hovertemplate\": \"State/UTs=Kerala<br>%{xaxis.title.text}=%{x}<br>%{yaxis.title.text}=%{y}\", \"legendgroup\": \"State/UTs=Kerala\", \"marker\": {\"color\": \"#FF6692\", \"symbol\": \"circle\"}, \"name\": \"State/UTs=Kerala\", \"showlegend\": true, \"type\": \"splom\"}, {\"dimensions\": [{\"axis\": {\"matches\": true}, \"label\": \"Total Cases\", \"values\": [20560]}, {\"axis\": {\"matches\": true}, \"label\": \"Active\", \"values\": [69]}, {\"axis\": {\"matches\": true}, \"label\": \"Discharged\", \"values\": [20284]}, {\"axis\": {\"matches\": true}, \"label\": \"Deaths\", \"values\": [207]}], \"hoverlabel\": {\"namelength\": 0}, \"hovertemplate\": \"State/UTs=Ladakh<br>%{xaxis.title.text}=%{x}<br>%{yaxis.title.text}=%{y}\", \"legendgroup\": \"State/UTs=Ladakh\", \"marker\": {\"color\": \"#B6E880\", \"symbol\": \"circle\"}, \"name\": \"State/UTs=Ladakh\", \"showlegend\": true, \"type\": \"splom\"}, {\"dimensions\": [{\"axis\": {\"matches\": true}, \"label\": \"Total Cases\", \"values\": [10347]}, {\"axis\": {\"matches\": true}, \"label\": \"Active\", \"values\": [31]}, {\"axis\": {\"matches\": true}, \"label\": \"Discharged\", \"values\": [10265]}, {\"axis\": {\"matches\": true}, \"label\": \"Deaths\", \"values\": [51]}], \"hoverlabel\": {\"namelength\": 0}, \"hovertemplate\": \"State/UTs=Lakshadweep<br>%{xaxis.title.text}=%{x}<br>%{yaxis.title.text}=%{y}\", \"legendgroup\": \"State/UTs=Lakshadweep\", \"marker\": {\"color\": \"#FF97FF\", \"symbol\": \"circle\"}, \"name\": \"State/UTs=Lakshadweep\", \"showlegend\": true, \"type\": \"splom\"}, {\"dimensions\": [{\"axis\": {\"matches\": true}, \"label\": \"Total Cases\", \"values\": [792175]}, {\"axis\": {\"matches\": true}, \"label\": \"Active\", \"values\": [79]}, {\"axis\": {\"matches\": true}, \"label\": \"Discharged\", \"values\": [781580]}, {\"axis\": {\"matches\": true}, \"label\": \"Deaths\", \"values\": [10516]}], \"hoverlabel\": {\"namelength\": 0}, \"hovertemplate\": \"State/UTs=Madhya Pradesh<br>%{xaxis.title.text}=%{x}<br>%{yaxis.title.text}=%{y}\", \"legendgroup\": \"State/UTs=Madhya Pradesh\", \"marker\": {\"color\": \"#FECB52\", \"symbol\": \"circle\"}, \"name\": \"State/UTs=Madhya Pradesh\", \"showlegend\": true, \"type\": \"splom\"}, {\"dimensions\": [{\"axis\": {\"matches\": true}, \"label\": \"Total Cases\", \"values\": [6464876]}, {\"axis\": {\"matches\": true}, \"label\": \"Active\", \"values\": [54763]}, {\"axis\": {\"matches\": true}, \"label\": \"Discharged\", \"values\": [6272800]}, {\"axis\": {\"matches\": true}, \"label\": \"Deaths\", \"values\": [137313]}], \"hoverlabel\": {\"namelength\": 0}, \"hovertemplate\": \"State/UTs=Maharashtra<br>%{xaxis.title.text}=%{x}<br>%{yaxis.title.text}=%{y}\", \"legendgroup\": \"State/UTs=Maharashtra\", \"marker\": {\"color\": \"#636efa\", \"symbol\": \"circle\"}, \"name\": \"State/UTs=Maharashtra\", \"showlegend\": true, \"type\": \"splom\"}, {\"dimensions\": [{\"axis\": {\"matches\": true}, \"label\": \"Total Cases\", \"values\": [113933]}, {\"axis\": {\"matches\": true}, \"label\": \"Active\", \"values\": [3397]}, {\"axis\": {\"matches\": true}, \"label\": \"Discharged\", \"values\": [108754]}, {\"axis\": {\"matches\": true}, \"label\": \"Deaths\", \"values\": [1782]}], \"hoverlabel\": {\"namelength\": 0}, \"hovertemplate\": \"State/UTs=Manipur<br>%{xaxis.title.text}=%{x}<br>%{yaxis.title.text}=%{y}\", \"legendgroup\": \"State/UTs=Manipur\", \"marker\": {\"color\": \"#EF553B\", \"symbol\": \"circle\"}, \"name\": \"State/UTs=Manipur\", \"showlegend\": true, \"type\": \"splom\"}, {\"dimensions\": [{\"axis\": {\"matches\": true}, \"label\": \"Total Cases\", \"values\": [75836]}, {\"axis\": {\"matches\": true}, \"label\": \"Active\", \"values\": [2326]}, {\"axis\": {\"matches\": true}, \"label\": \"Discharged\", \"values\": [72199]}, {\"axis\": {\"matches\": true}, \"label\": \"Deaths\", \"values\": [1311]}], \"hoverlabel\": {\"namelength\": 0}, \"hovertemplate\": \"State/UTs=Meghalaya<br>%{xaxis.title.text}=%{x}<br>%{yaxis.title.text}=%{y}\", \"legendgroup\": \"State/UTs=Meghalaya\", \"marker\": {\"color\": \"#00cc96\", \"symbol\": \"circle\"}, \"name\": \"State/UTs=Meghalaya\", \"showlegend\": true, \"type\": \"splom\"}, {\"dimensions\": [{\"axis\": {\"matches\": true}, \"label\": \"Total Cases\", \"values\": [59119]}, {\"axis\": {\"matches\": true}, \"label\": \"Active\", \"values\": [8885]}, {\"axis\": {\"matches\": true}, \"label\": \"Discharged\", \"values\": [50017]}, {\"axis\": {\"matches\": true}, \"label\": \"Deaths\", \"values\": [217]}], \"hoverlabel\": {\"namelength\": 0}, \"hovertemplate\": \"State/UTs=Mizoram<br>%{xaxis.title.text}=%{x}<br>%{yaxis.title.text}=%{y}\", \"legendgroup\": \"State/UTs=Mizoram\", \"marker\": {\"color\": \"#ab63fa\", \"symbol\": \"circle\"}, \"name\": \"State/UTs=Mizoram\", \"showlegend\": true, \"type\": \"splom\"}, {\"dimensions\": [{\"axis\": {\"matches\": true}, \"label\": \"Total Cases\", \"values\": [30083]}, {\"axis\": {\"matches\": true}, \"label\": \"Active\", \"values\": [815]}, {\"axis\": {\"matches\": true}, \"label\": \"Discharged\", \"values\": [28648]}, {\"axis\": {\"matches\": true}, \"label\": \"Deaths\", \"values\": [620]}], \"hoverlabel\": {\"namelength\": 0}, \"hovertemplate\": \"State/UTs=Nagaland<br>%{xaxis.title.text}=%{x}<br>%{yaxis.title.text}=%{y}\", \"legendgroup\": \"State/UTs=Nagaland\", \"marker\": {\"color\": \"#FFA15A\", \"symbol\": \"circle\"}, \"name\": \"State/UTs=Nagaland\", \"showlegend\": true, \"type\": \"splom\"}, {\"dimensions\": [{\"axis\": {\"matches\": true}, \"label\": \"Total Cases\", \"values\": [1007750]}, {\"axis\": {\"matches\": true}, \"label\": \"Active\", \"values\": [6546]}, {\"axis\": {\"matches\": true}, \"label\": \"Discharged\", \"values\": [993235]}, {\"axis\": {\"matches\": true}, \"label\": \"Deaths\", \"values\": [7969]}], \"hoverlabel\": {\"namelength\": 0}, \"hovertemplate\": \"State/UTs=Odisha<br>%{xaxis.title.text}=%{x}<br>%{yaxis.title.text}=%{y}\", \"legendgroup\": \"State/UTs=Odisha\", \"marker\": {\"color\": \"#19d3f3\", \"symbol\": \"circle\"}, \"name\": \"State/UTs=Odisha\", \"showlegend\": true, \"type\": \"splom\"}, {\"dimensions\": [{\"axis\": {\"matches\": true}, \"label\": \"Total Cases\", \"values\": [123572]}, {\"axis\": {\"matches\": true}, \"label\": \"Active\", \"values\": [715]}, {\"axis\": {\"matches\": true}, \"label\": \"Discharged\", \"values\": [121045]}, {\"axis\": {\"matches\": true}, \"label\": \"Deaths\", \"values\": [1812]}], \"hoverlabel\": {\"namelength\": 0}, \"hovertemplate\": \"State/UTs=Puducherry<br>%{xaxis.title.text}=%{x}<br>%{yaxis.title.text}=%{y}\", \"legendgroup\": \"State/UTs=Puducherry\", \"marker\": {\"color\": \"#FF6692\", \"symbol\": \"circle\"}, \"name\": \"State/UTs=Puducherry\", \"showlegend\": true, \"type\": \"splom\"}, {\"dimensions\": [{\"axis\": {\"matches\": true}, \"label\": \"Total Cases\", \"values\": [600614]}, {\"axis\": {\"matches\": true}, \"label\": \"Active\", \"values\": [324]}, {\"axis\": {\"matches\": true}, \"label\": \"Discharged\", \"values\": [583859]}, {\"axis\": {\"matches\": true}, \"label\": \"Deaths\", \"values\": [16431]}], \"hoverlabel\": {\"namelength\": 0}, \"hovertemplate\": \"State/UTs=Punjab<br>%{xaxis.title.text}=%{x}<br>%{yaxis.title.text}=%{y}\", \"legendgroup\": \"State/UTs=Punjab\", \"marker\": {\"color\": \"#B6E880\", \"symbol\": \"circle\"}, \"name\": \"State/UTs=Punjab\", \"showlegend\": true, \"type\": \"splom\"}, {\"dimensions\": [{\"axis\": {\"matches\": true}, \"label\": \"Total Cases\", \"values\": [954095]}, {\"axis\": {\"matches\": true}, \"label\": \"Active\", \"values\": [97]}, {\"axis\": {\"matches\": true}, \"label\": \"Discharged\", \"values\": [945044]}, {\"axis\": {\"matches\": true}, \"label\": \"Deaths\", \"values\": [8954]}], \"hoverlabel\": {\"namelength\": 0}, \"hovertemplate\": \"State/UTs=Rajasthan<br>%{xaxis.title.text}=%{x}<br>%{yaxis.title.text}=%{y}\", \"legendgroup\": \"State/UTs=Rajasthan\", \"marker\": {\"color\": \"#FF97FF\", \"symbol\": \"circle\"}, \"name\": \"State/UTs=Rajasthan\", \"showlegend\": true, \"type\": \"splom\"}, {\"dimensions\": [{\"axis\": {\"matches\": true}, \"label\": \"Total Cases\", \"values\": [29878]}, {\"axis\": {\"matches\": true}, \"label\": \"Active\", \"values\": [1094]}, {\"axis\": {\"matches\": true}, \"label\": \"Discharged\", \"values\": [28414]}, {\"axis\": {\"matches\": true}, \"label\": \"Deaths\", \"values\": [370]}], \"hoverlabel\": {\"namelength\": 0}, \"hovertemplate\": \"State/UTs=Sikkim<br>%{xaxis.title.text}=%{x}<br>%{yaxis.title.text}=%{y}\", \"legendgroup\": \"State/UTs=Sikkim\", \"marker\": {\"color\": \"#FECB52\", \"symbol\": \"circle\"}, \"name\": \"State/UTs=Sikkim\", \"showlegend\": true, \"type\": \"splom\"}, {\"dimensions\": [{\"axis\": {\"matches\": true}, \"label\": \"Total Cases\", \"values\": [2614872]}, {\"axis\": {\"matches\": true}, \"label\": \"Active\", \"values\": [16850]}, {\"axis\": {\"matches\": true}, \"label\": \"Discharged\", \"values\": [2563101]}, {\"axis\": {\"matches\": true}, \"label\": \"Deaths\", \"values\": [34921]}], \"hoverlabel\": {\"namelength\": 0}, \"hovertemplate\": \"State/UTs=Tamil Nadu<br>%{xaxis.title.text}=%{x}<br>%{yaxis.title.text}=%{y}\", \"legendgroup\": \"State/UTs=Tamil Nadu\", \"marker\": {\"color\": \"#636efa\", \"symbol\": \"circle\"}, \"name\": \"State/UTs=Tamil Nadu\", \"showlegend\": true, \"type\": \"splom\"}, {\"dimensions\": [{\"axis\": {\"matches\": true}, \"label\": \"Total Cases\", \"values\": [658054]}, {\"axis\": {\"matches\": true}, \"label\": \"Active\", \"values\": [5864]}, {\"axis\": {\"matches\": true}, \"label\": \"Discharged\", \"values\": [648317]}, {\"axis\": {\"matches\": true}, \"label\": \"Deaths\", \"values\": [3873]}], \"hoverlabel\": {\"namelength\": 0}, \"hovertemplate\": \"State/UTs=Telengana<br>%{xaxis.title.text}=%{x}<br>%{yaxis.title.text}=%{y}\", \"legendgroup\": \"State/UTs=Telengana\", \"marker\": {\"color\": \"#EF553B\", \"symbol\": \"circle\"}, \"name\": \"State/UTs=Telengana\", \"showlegend\": true, \"type\": \"splom\"}, {\"dimensions\": [{\"axis\": {\"matches\": true}, \"label\": \"Total Cases\", \"values\": [82961]}, {\"axis\": {\"matches\": true}, \"label\": \"Active\", \"values\": [917]}, {\"axis\": {\"matches\": true}, \"label\": \"Discharged\", \"values\": [81244]}, {\"axis\": {\"matches\": true}, \"label\": \"Deaths\", \"values\": [800]}], \"hoverlabel\": {\"namelength\": 0}, \"hovertemplate\": \"State/UTs=Tripura<br>%{xaxis.title.text}=%{x}<br>%{yaxis.title.text}=%{y}\", \"legendgroup\": \"State/UTs=Tripura\", \"marker\": {\"color\": \"#00cc96\", \"symbol\": \"circle\"}, \"name\": \"State/UTs=Tripura\", \"showlegend\": true, \"type\": \"splom\"}, {\"dimensions\": [{\"axis\": {\"matches\": true}, \"label\": \"Total Cases\", \"values\": [1709335]}, {\"axis\": {\"matches\": true}, \"label\": \"Active\", \"values\": [256]}, {\"axis\": {\"matches\": true}, \"label\": \"Discharged\", \"values\": [1686256]}, {\"axis\": {\"matches\": true}, \"label\": \"Deaths\", \"values\": [22823]}], \"hoverlabel\": {\"namelength\": 0}, \"hovertemplate\": \"State/UTs=Uttar Pradesh<br>%{xaxis.title.text}=%{x}<br>%{yaxis.title.text}=%{y}\", \"legendgroup\": \"State/UTs=Uttar Pradesh\", \"marker\": {\"color\": \"#ab63fa\", \"symbol\": \"circle\"}, \"name\": \"State/UTs=Uttar Pradesh\", \"showlegend\": true, \"type\": \"splom\"}, {\"dimensions\": [{\"axis\": {\"matches\": true}, \"label\": \"Total Cases\", \"values\": [342976]}, {\"axis\": {\"matches\": true}, \"label\": \"Active\", \"values\": [354]}, {\"axis\": {\"matches\": true}, \"label\": \"Discharged\", \"values\": [335235]}, {\"axis\": {\"matches\": true}, \"label\": \"Deaths\", \"values\": [7387]}], \"hoverlabel\": {\"namelength\": 0}, \"hovertemplate\": \"State/UTs=Uttarakhand<br>%{xaxis.title.text}=%{x}<br>%{yaxis.title.text}=%{y}\", \"legendgroup\": \"State/UTs=Uttarakhand\", \"marker\": {\"color\": \"#FFA15A\", \"symbol\": \"circle\"}, \"name\": \"State/UTs=Uttarakhand\", \"showlegend\": true, \"type\": \"splom\"}, {\"dimensions\": [{\"axis\": {\"matches\": true}, \"label\": \"Total Cases\", \"values\": [1548604]}, {\"axis\": {\"matches\": true}, \"label\": \"Active\", \"values\": [8815]}, {\"axis\": {\"matches\": true}, \"label\": \"Discharged\", \"values\": [1521342]}, {\"axis\": {\"matches\": true}, \"label\": \"Deaths\", \"values\": [18447]}], \"hoverlabel\": {\"namelength\": 0}, \"hovertemplate\": \"State/UTs=West Bengal<br>%{xaxis.title.text}=%{x}<br>%{yaxis.title.text}=%{y}\", \"legendgroup\": \"State/UTs=West Bengal\", \"marker\": {\"color\": \"#19d3f3\", \"symbol\": \"circle\"}, \"name\": \"State/UTs=West Bengal\", \"showlegend\": true, \"type\": \"splom\"}],\n",
              "                        {\"dragmode\": \"select\", \"legend\": {\"tracegroupgap\": 0}, \"margin\": {\"t\": 60}, \"template\": {\"data\": {\"bar\": [{\"error_x\": {\"color\": \"#2a3f5f\"}, \"error_y\": {\"color\": \"#2a3f5f\"}, \"marker\": {\"line\": {\"color\": \"#E5ECF6\", \"width\": 0.5}}, \"type\": \"bar\"}], \"barpolar\": [{\"marker\": {\"line\": {\"color\": \"#E5ECF6\", \"width\": 0.5}}, \"type\": \"barpolar\"}], \"carpet\": [{\"aaxis\": {\"endlinecolor\": \"#2a3f5f\", \"gridcolor\": \"white\", \"linecolor\": \"white\", \"minorgridcolor\": \"white\", \"startlinecolor\": \"#2a3f5f\"}, \"baxis\": {\"endlinecolor\": \"#2a3f5f\", \"gridcolor\": \"white\", \"linecolor\": \"white\", \"minorgridcolor\": \"white\", \"startlinecolor\": \"#2a3f5f\"}, \"type\": \"carpet\"}], \"choropleth\": [{\"colorbar\": {\"outlinewidth\": 0, \"ticks\": \"\"}, \"type\": \"choropleth\"}], \"contour\": [{\"colorbar\": {\"outlinewidth\": 0, \"ticks\": \"\"}, \"colorscale\": [[0.0, \"#0d0887\"], [0.1111111111111111, \"#46039f\"], [0.2222222222222222, \"#7201a8\"], [0.3333333333333333, \"#9c179e\"], [0.4444444444444444, \"#bd3786\"], [0.5555555555555556, \"#d8576b\"], [0.6666666666666666, \"#ed7953\"], [0.7777777777777778, \"#fb9f3a\"], [0.8888888888888888, \"#fdca26\"], [1.0, \"#f0f921\"]], \"type\": \"contour\"}], \"contourcarpet\": [{\"colorbar\": {\"outlinewidth\": 0, \"ticks\": \"\"}, \"type\": \"contourcarpet\"}], \"heatmap\": [{\"colorbar\": {\"outlinewidth\": 0, \"ticks\": \"\"}, \"colorscale\": [[0.0, \"#0d0887\"], [0.1111111111111111, \"#46039f\"], [0.2222222222222222, \"#7201a8\"], [0.3333333333333333, \"#9c179e\"], [0.4444444444444444, \"#bd3786\"], [0.5555555555555556, \"#d8576b\"], [0.6666666666666666, \"#ed7953\"], [0.7777777777777778, \"#fb9f3a\"], [0.8888888888888888, \"#fdca26\"], [1.0, \"#f0f921\"]], \"type\": \"heatmap\"}], \"heatmapgl\": [{\"colorbar\": {\"outlinewidth\": 0, \"ticks\": \"\"}, \"colorscale\": [[0.0, \"#0d0887\"], [0.1111111111111111, \"#46039f\"], [0.2222222222222222, \"#7201a8\"], [0.3333333333333333, \"#9c179e\"], [0.4444444444444444, \"#bd3786\"], [0.5555555555555556, \"#d8576b\"], [0.6666666666666666, \"#ed7953\"], [0.7777777777777778, \"#fb9f3a\"], [0.8888888888888888, \"#fdca26\"], [1.0, \"#f0f921\"]], \"type\": \"heatmapgl\"}], \"histogram\": [{\"marker\": {\"colorbar\": {\"outlinewidth\": 0, \"ticks\": \"\"}}, \"type\": \"histogram\"}], \"histogram2d\": [{\"colorbar\": {\"outlinewidth\": 0, \"ticks\": \"\"}, \"colorscale\": [[0.0, \"#0d0887\"], [0.1111111111111111, \"#46039f\"], [0.2222222222222222, \"#7201a8\"], [0.3333333333333333, \"#9c179e\"], [0.4444444444444444, \"#bd3786\"], [0.5555555555555556, \"#d8576b\"], [0.6666666666666666, \"#ed7953\"], [0.7777777777777778, \"#fb9f3a\"], [0.8888888888888888, \"#fdca26\"], [1.0, \"#f0f921\"]], \"type\": \"histogram2d\"}], \"histogram2dcontour\": [{\"colorbar\": {\"outlinewidth\": 0, \"ticks\": \"\"}, \"colorscale\": [[0.0, \"#0d0887\"], [0.1111111111111111, \"#46039f\"], [0.2222222222222222, \"#7201a8\"], [0.3333333333333333, \"#9c179e\"], [0.4444444444444444, \"#bd3786\"], [0.5555555555555556, \"#d8576b\"], [0.6666666666666666, \"#ed7953\"], [0.7777777777777778, \"#fb9f3a\"], [0.8888888888888888, \"#fdca26\"], [1.0, \"#f0f921\"]], \"type\": \"histogram2dcontour\"}], \"mesh3d\": [{\"colorbar\": {\"outlinewidth\": 0, \"ticks\": \"\"}, \"type\": \"mesh3d\"}], \"parcoords\": [{\"line\": {\"colorbar\": {\"outlinewidth\": 0, \"ticks\": \"\"}}, \"type\": \"parcoords\"}], \"pie\": [{\"automargin\": true, \"type\": \"pie\"}], \"scatter\": [{\"marker\": {\"colorbar\": {\"outlinewidth\": 0, \"ticks\": \"\"}}, \"type\": \"scatter\"}], \"scatter3d\": [{\"line\": {\"colorbar\": {\"outlinewidth\": 0, \"ticks\": \"\"}}, \"marker\": {\"colorbar\": {\"outlinewidth\": 0, \"ticks\": \"\"}}, \"type\": \"scatter3d\"}], \"scattercarpet\": [{\"marker\": {\"colorbar\": {\"outlinewidth\": 0, \"ticks\": \"\"}}, \"type\": \"scattercarpet\"}], \"scattergeo\": [{\"marker\": {\"colorbar\": {\"outlinewidth\": 0, \"ticks\": \"\"}}, \"type\": \"scattergeo\"}], \"scattergl\": [{\"marker\": {\"colorbar\": {\"outlinewidth\": 0, \"ticks\": \"\"}}, \"type\": \"scattergl\"}], \"scattermapbox\": [{\"marker\": {\"colorbar\": {\"outlinewidth\": 0, \"ticks\": \"\"}}, \"type\": \"scattermapbox\"}], \"scatterpolar\": [{\"marker\": {\"colorbar\": {\"outlinewidth\": 0, \"ticks\": \"\"}}, \"type\": \"scatterpolar\"}], \"scatterpolargl\": [{\"marker\": {\"colorbar\": {\"outlinewidth\": 0, \"ticks\": \"\"}}, \"type\": \"scatterpolargl\"}], \"scatterternary\": [{\"marker\": {\"colorbar\": {\"outlinewidth\": 0, \"ticks\": \"\"}}, \"type\": \"scatterternary\"}], \"surface\": [{\"colorbar\": {\"outlinewidth\": 0, \"ticks\": \"\"}, \"colorscale\": [[0.0, \"#0d0887\"], [0.1111111111111111, \"#46039f\"], [0.2222222222222222, \"#7201a8\"], [0.3333333333333333, \"#9c179e\"], [0.4444444444444444, \"#bd3786\"], [0.5555555555555556, \"#d8576b\"], [0.6666666666666666, \"#ed7953\"], [0.7777777777777778, \"#fb9f3a\"], [0.8888888888888888, \"#fdca26\"], [1.0, \"#f0f921\"]], \"type\": \"surface\"}], \"table\": [{\"cells\": {\"fill\": {\"color\": \"#EBF0F8\"}, \"line\": {\"color\": \"white\"}}, \"header\": {\"fill\": {\"color\": \"#C8D4E3\"}, \"line\": {\"color\": \"white\"}}, \"type\": \"table\"}]}, \"layout\": {\"annotationdefaults\": {\"arrowcolor\": \"#2a3f5f\", \"arrowhead\": 0, \"arrowwidth\": 1}, \"coloraxis\": {\"colorbar\": {\"outlinewidth\": 0, \"ticks\": \"\"}}, \"colorscale\": {\"diverging\": [[0, \"#8e0152\"], [0.1, \"#c51b7d\"], [0.2, \"#de77ae\"], [0.3, \"#f1b6da\"], [0.4, \"#fde0ef\"], [0.5, \"#f7f7f7\"], [0.6, \"#e6f5d0\"], [0.7, \"#b8e186\"], [0.8, \"#7fbc41\"], [0.9, \"#4d9221\"], [1, \"#276419\"]], \"sequential\": [[0.0, \"#0d0887\"], [0.1111111111111111, \"#46039f\"], [0.2222222222222222, \"#7201a8\"], [0.3333333333333333, \"#9c179e\"], [0.4444444444444444, \"#bd3786\"], [0.5555555555555556, \"#d8576b\"], [0.6666666666666666, \"#ed7953\"], [0.7777777777777778, \"#fb9f3a\"], [0.8888888888888888, \"#fdca26\"], [1.0, \"#f0f921\"]], \"sequentialminus\": [[0.0, \"#0d0887\"], [0.1111111111111111, \"#46039f\"], [0.2222222222222222, \"#7201a8\"], [0.3333333333333333, \"#9c179e\"], [0.4444444444444444, \"#bd3786\"], [0.5555555555555556, \"#d8576b\"], [0.6666666666666666, \"#ed7953\"], [0.7777777777777778, \"#fb9f3a\"], [0.8888888888888888, \"#fdca26\"], [1.0, \"#f0f921\"]]}, \"colorway\": [\"#636efa\", \"#EF553B\", \"#00cc96\", \"#ab63fa\", \"#FFA15A\", \"#19d3f3\", \"#FF6692\", \"#B6E880\", \"#FF97FF\", \"#FECB52\"], \"font\": {\"color\": \"#2a3f5f\"}, \"geo\": {\"bgcolor\": \"white\", \"lakecolor\": \"white\", \"landcolor\": \"#E5ECF6\", \"showlakes\": true, \"showland\": true, \"subunitcolor\": \"white\"}, \"hoverlabel\": {\"align\": \"left\"}, \"hovermode\": \"closest\", \"mapbox\": {\"style\": \"light\"}, \"paper_bgcolor\": \"white\", \"plot_bgcolor\": \"#E5ECF6\", \"polar\": {\"angularaxis\": {\"gridcolor\": \"white\", \"linecolor\": \"white\", \"ticks\": \"\"}, \"bgcolor\": \"#E5ECF6\", \"radialaxis\": {\"gridcolor\": \"white\", \"linecolor\": \"white\", \"ticks\": \"\"}}, \"scene\": {\"xaxis\": {\"backgroundcolor\": \"#E5ECF6\", \"gridcolor\": \"white\", \"gridwidth\": 2, \"linecolor\": \"white\", \"showbackground\": true, \"ticks\": \"\", \"zerolinecolor\": \"white\"}, \"yaxis\": {\"backgroundcolor\": \"#E5ECF6\", \"gridcolor\": \"white\", \"gridwidth\": 2, \"linecolor\": \"white\", \"showbackground\": true, \"ticks\": \"\", \"zerolinecolor\": \"white\"}, \"zaxis\": {\"backgroundcolor\": \"#E5ECF6\", \"gridcolor\": \"white\", \"gridwidth\": 2, \"linecolor\": \"white\", \"showbackground\": true, \"ticks\": \"\", \"zerolinecolor\": \"white\"}}, \"shapedefaults\": {\"line\": {\"color\": \"#2a3f5f\"}}, \"ternary\": {\"aaxis\": {\"gridcolor\": \"white\", \"linecolor\": \"white\", \"ticks\": \"\"}, \"baxis\": {\"gridcolor\": \"white\", \"linecolor\": \"white\", \"ticks\": \"\"}, \"bgcolor\": \"#E5ECF6\", \"caxis\": {\"gridcolor\": \"white\", \"linecolor\": \"white\", \"ticks\": \"\"}}, \"title\": {\"x\": 0.05}, \"xaxis\": {\"automargin\": true, \"gridcolor\": \"white\", \"linecolor\": \"white\", \"ticks\": \"\", \"title\": {\"standoff\": 15}, \"zerolinecolor\": \"white\", \"zerolinewidth\": 2}, \"yaxis\": {\"automargin\": true, \"gridcolor\": \"white\", \"linecolor\": \"white\", \"ticks\": \"\", \"title\": {\"standoff\": 15}, \"zerolinecolor\": \"white\", \"zerolinewidth\": 2}}}},\n",
              "                        {\"responsive\": true}\n",
              "                    ).then(function(){\n",
              "                            \n",
              "var gd = document.getElementById('00bfa73f-c5b4-4f32-8725-c27d998a72f9');\n",
              "var x = new MutationObserver(function (mutations, observer) {{\n",
              "        var display = window.getComputedStyle(gd).display;\n",
              "        if (!display || display === 'none') {{\n",
              "            console.log([gd, 'removed!']);\n",
              "            Plotly.purge(gd);\n",
              "            observer.disconnect();\n",
              "        }}\n",
              "}});\n",
              "\n",
              "// Listen for the removal of the full notebook cells\n",
              "var notebookContainer = gd.closest('#notebook-container');\n",
              "if (notebookContainer) {{\n",
              "    x.observe(notebookContainer, {childList: true});\n",
              "}}\n",
              "\n",
              "// Listen for the clearing of the current output cell\n",
              "var outputEl = gd.closest('.output');\n",
              "if (outputEl) {{\n",
              "    x.observe(outputEl, {childList: true});\n",
              "}}\n",
              "\n",
              "                        })\n",
              "                };\n",
              "                \n",
              "            </script>\n",
              "        </div>\n",
              "</body>\n",
              "</html>"
            ]
          },
          "metadata": {}
        }
      ]
    },
    {
      "cell_type": "markdown",
      "metadata": {
        "papermill": {
          "duration": 0.068396,
          "end_time": "2021-09-05T05:32:37.716175",
          "exception": false,
          "start_time": "2021-09-05T05:32:37.647779",
          "status": "completed"
        },
        "tags": [],
        "id": "68a858ac"
      },
      "source": [
        "* Above graph shows us the relationship between different variables of all states of India."
      ],
      "id": "68a858ac"
    },
    {
      "cell_type": "code",
      "metadata": {
        "execution": {
          "iopub.execute_input": "2021-09-05T05:32:37.881548Z",
          "iopub.status.busy": "2021-09-05T05:32:37.880875Z",
          "iopub.status.idle": "2021-09-05T05:32:38.113034Z",
          "shell.execute_reply": "2021-09-05T05:32:38.111776Z",
          "shell.execute_reply.started": "2021-09-05T05:29:51.526455Z"
        },
        "papermill": {
          "duration": 0.32824,
          "end_time": "2021-09-05T05:32:38.113210",
          "exception": false,
          "start_time": "2021-09-05T05:32:37.784970",
          "status": "completed"
        },
        "tags": [],
        "colab": {
          "base_uri": "https://localhost:8080/",
          "height": 542
        },
        "id": "e054d635",
        "outputId": "fa93ae92-4c60-4818-d248-a5351353273f"
      },
      "source": [
        "fig = px.scatter(df, x=\"Total Cases\", y=\"Active\", size=\"Deaths\", color=df['State/UTs'], log_x=True, size_max=50)\n",
        "fig.show()"
      ],
      "id": "e054d635",
      "execution_count": 40,
      "outputs": [
        {
          "output_type": "display_data",
          "data": {
            "text/html": [
              "<html>\n",
              "<head><meta charset=\"utf-8\" /></head>\n",
              "<body>\n",
              "    <div>\n",
              "            <script src=\"https://cdnjs.cloudflare.com/ajax/libs/mathjax/2.7.5/MathJax.js?config=TeX-AMS-MML_SVG\"></script><script type=\"text/javascript\">if (window.MathJax) {MathJax.Hub.Config({SVG: {font: \"STIX-Web\"}});}</script>\n",
              "                <script type=\"text/javascript\">window.PlotlyConfig = {MathJaxConfig: 'local'};</script>\n",
              "        <script src=\"https://cdn.plot.ly/plotly-latest.min.js\"></script>    \n",
              "            <div id=\"71ad4ac5-d1a0-42dd-8872-d8f327617d20\" class=\"plotly-graph-div\" style=\"height:525px; width:100%;\"></div>\n",
              "            <script type=\"text/javascript\">\n",
              "                \n",
              "                    window.PLOTLYENV=window.PLOTLYENV || {};\n",
              "                    \n",
              "                if (document.getElementById(\"71ad4ac5-d1a0-42dd-8872-d8f327617d20\")) {\n",
              "                    Plotly.newPlot(\n",
              "                        '71ad4ac5-d1a0-42dd-8872-d8f327617d20',\n",
              "                        [{\"hoverlabel\": {\"namelength\": 0}, \"hovertemplate\": \"State/UTs=Andaman and Nicobar<br>Total Cases=%{x}<br>Active=%{y}<br>Deaths=%{marker.size}\", \"legendgroup\": \"State/UTs=Andaman and Nicobar\", \"marker\": {\"color\": \"#636efa\", \"size\": [129], \"sizemode\": \"area\", \"sizeref\": 54.9252, \"symbol\": \"circle\"}, \"mode\": \"markers\", \"name\": \"State/UTs=Andaman and Nicobar\", \"showlegend\": true, \"type\": \"scatter\", \"x\": [7566], \"xaxis\": \"x\", \"y\": [6], \"yaxis\": \"y\"}, {\"hoverlabel\": {\"namelength\": 0}, \"hovertemplate\": \"State/UTs=Andhra Pradesh<br>Total Cases=%{x}<br>Active=%{y}<br>Deaths=%{marker.size}\", \"legendgroup\": \"State/UTs=Andhra Pradesh\", \"marker\": {\"color\": \"#EF553B\", \"size\": [13857], \"sizemode\": \"area\", \"sizeref\": 54.9252, \"symbol\": \"circle\"}, \"mode\": \"markers\", \"name\": \"State/UTs=Andhra Pradesh\", \"showlegend\": true, \"type\": \"scatter\", \"x\": [2014116], \"xaxis\": \"x\", \"y\": [14693], \"yaxis\": \"y\"}, {\"hoverlabel\": {\"namelength\": 0}, \"hovertemplate\": \"State/UTs=Arunachal Pradesh<br>Total Cases=%{x}<br>Active=%{y}<br>Deaths=%{marker.size}\", \"legendgroup\": \"State/UTs=Arunachal Pradesh\", \"marker\": {\"color\": \"#00cc96\", \"size\": [260], \"sizemode\": \"area\", \"sizeref\": 54.9252, \"symbol\": \"circle\"}, \"mode\": \"markers\", \"name\": \"State/UTs=Arunachal Pradesh\", \"showlegend\": true, \"type\": \"scatter\", \"x\": [53031], \"xaxis\": \"x\", \"y\": [863], \"yaxis\": \"y\"}, {\"hoverlabel\": {\"namelength\": 0}, \"hovertemplate\": \"State/UTs=Assam<br>Total Cases=%{x}<br>Active=%{y}<br>Deaths=%{marker.size}\", \"legendgroup\": \"State/UTs=Assam\", \"marker\": {\"color\": \"#ab63fa\", \"size\": [5660], \"sizemode\": \"area\", \"sizeref\": 54.9252, \"symbol\": \"circle\"}, \"mode\": \"markers\", \"name\": \"State/UTs=Assam\", \"showlegend\": true, \"type\": \"scatter\", \"x\": [589426], \"xaxis\": \"x\", \"y\": [6901], \"yaxis\": \"y\"}, {\"hoverlabel\": {\"namelength\": 0}, \"hovertemplate\": \"State/UTs=Bihar<br>Total Cases=%{x}<br>Active=%{y}<br>Deaths=%{marker.size}\", \"legendgroup\": \"State/UTs=Bihar\", \"marker\": {\"color\": \"#FFA15A\", \"size\": [9653], \"sizemode\": \"area\", \"sizeref\": 54.9252, \"symbol\": \"circle\"}, \"mode\": \"markers\", \"name\": \"State/UTs=Bihar\", \"showlegend\": true, \"type\": \"scatter\", \"x\": [725708], \"xaxis\": \"x\", \"y\": [100], \"yaxis\": \"y\"}, {\"hoverlabel\": {\"namelength\": 0}, \"hovertemplate\": \"State/UTs=Chandigarh<br>Total Cases=%{x}<br>Active=%{y}<br>Deaths=%{marker.size}\", \"legendgroup\": \"State/UTs=Chandigarh\", \"marker\": {\"color\": \"#19d3f3\", \"size\": [813], \"sizemode\": \"area\", \"sizeref\": 54.9252, \"symbol\": \"circle\"}, \"mode\": \"markers\", \"name\": \"State/UTs=Chandigarh\", \"showlegend\": true, \"type\": \"scatter\", \"x\": [65105], \"xaxis\": \"x\", \"y\": [40], \"yaxis\": \"y\"}, {\"hoverlabel\": {\"namelength\": 0}, \"hovertemplate\": \"State/UTs=Chhattisgarh<br>Total Cases=%{x}<br>Active=%{y}<br>Deaths=%{marker.size}\", \"legendgroup\": \"State/UTs=Chhattisgarh\", \"marker\": {\"color\": \"#FF6692\", \"size\": [13555], \"sizemode\": \"area\", \"sizeref\": 54.9252, \"symbol\": \"circle\"}, \"mode\": \"markers\", \"name\": \"State/UTs=Chhattisgarh\", \"showlegend\": true, \"type\": \"scatter\", \"x\": [1004451], \"xaxis\": \"x\", \"y\": [412], \"yaxis\": \"y\"}, {\"hoverlabel\": {\"namelength\": 0}, \"hovertemplate\": \"State/UTs=Daman and Diu<br>Total Cases=%{x}<br>Active=%{y}<br>Deaths=%{marker.size}\", \"legendgroup\": \"State/UTs=Daman and Diu\", \"marker\": {\"color\": \"#B6E880\", \"size\": [4], \"sizemode\": \"area\", \"sizeref\": 54.9252, \"symbol\": \"circle\"}, \"mode\": \"markers\", \"name\": \"State/UTs=Daman and Diu\", \"showlegend\": true, \"type\": \"scatter\", \"x\": [10663], \"xaxis\": \"x\", \"y\": [4], \"yaxis\": \"y\"}, {\"hoverlabel\": {\"namelength\": 0}, \"hovertemplate\": \"State/UTs=Delhi<br>Total Cases=%{x}<br>Active=%{y}<br>Deaths=%{marker.size}\", \"legendgroup\": \"State/UTs=Delhi\", \"marker\": {\"color\": \"#FF97FF\", \"size\": [25082], \"sizemode\": \"area\", \"sizeref\": 54.9252, \"symbol\": \"circle\"}, \"mode\": \"markers\", \"name\": \"State/UTs=Delhi\", \"showlegend\": true, \"type\": \"scatter\", \"x\": [1437764], \"xaxis\": \"x\", \"y\": [349], \"yaxis\": \"y\"}, {\"hoverlabel\": {\"namelength\": 0}, \"hovertemplate\": \"State/UTs=Goa<br>Total Cases=%{x}<br>Active=%{y}<br>Deaths=%{marker.size}\", \"legendgroup\": \"State/UTs=Goa\", \"marker\": {\"color\": \"#FECB52\", \"size\": [3201], \"sizemode\": \"area\", \"sizeref\": 54.9252, \"symbol\": \"circle\"}, \"mode\": \"markers\", \"name\": \"State/UTs=Goa\", \"showlegend\": true, \"type\": \"scatter\", \"x\": [173955], \"xaxis\": \"x\", \"y\": [877], \"yaxis\": \"y\"}, {\"hoverlabel\": {\"namelength\": 0}, \"hovertemplate\": \"State/UTs=Gujarat<br>Total Cases=%{x}<br>Active=%{y}<br>Deaths=%{marker.size}\", \"legendgroup\": \"State/UTs=Gujarat\", \"marker\": {\"color\": \"#636efa\", \"size\": [10081], \"sizemode\": \"area\", \"sizeref\": 54.9252, \"symbol\": \"circle\"}, \"mode\": \"markers\", \"name\": \"State/UTs=Gujarat\", \"showlegend\": true, \"type\": \"scatter\", \"x\": [825422], \"xaxis\": \"x\", \"y\": [150], \"yaxis\": \"y\"}, {\"hoverlabel\": {\"namelength\": 0}, \"hovertemplate\": \"State/UTs=Haryana<br>Total Cases=%{x}<br>Active=%{y}<br>Deaths=%{marker.size}\", \"legendgroup\": \"State/UTs=Haryana\", \"marker\": {\"color\": \"#EF553B\", \"size\": [9677], \"sizemode\": \"area\", \"sizeref\": 54.9252, \"symbol\": \"circle\"}, \"mode\": \"markers\", \"name\": \"State/UTs=Haryana\", \"showlegend\": true, \"type\": \"scatter\", \"x\": [770486], \"xaxis\": \"x\", \"y\": [634], \"yaxis\": \"y\"}, {\"hoverlabel\": {\"namelength\": 0}, \"hovertemplate\": \"State/UTs=Himachal Pradesh<br>Total Cases=%{x}<br>Active=%{y}<br>Deaths=%{marker.size}\", \"legendgroup\": \"State/UTs=Himachal Pradesh\", \"marker\": {\"color\": \"#00cc96\", \"size\": [3598], \"sizemode\": \"area\", \"sizeref\": 54.9252, \"symbol\": \"circle\"}, \"mode\": \"markers\", \"name\": \"State/UTs=Himachal Pradesh\", \"showlegend\": true, \"type\": \"scatter\", \"x\": [213548], \"xaxis\": \"x\", \"y\": [1642], \"yaxis\": \"y\"}, {\"hoverlabel\": {\"namelength\": 0}, \"hovertemplate\": \"State/UTs=Jammu and Kashmir<br>Total Cases=%{x}<br>Active=%{y}<br>Deaths=%{marker.size}\", \"legendgroup\": \"State/UTs=Jammu and Kashmir\", \"marker\": {\"color\": \"#ab63fa\", \"size\": [4408], \"sizemode\": \"area\", \"sizeref\": 54.9252, \"symbol\": \"circle\"}, \"mode\": \"markers\", \"name\": \"State/UTs=Jammu and Kashmir\", \"showlegend\": true, \"type\": \"scatter\", \"x\": [325419], \"xaxis\": \"x\", \"y\": [1330], \"yaxis\": \"y\"}, {\"hoverlabel\": {\"namelength\": 0}, \"hovertemplate\": \"State/UTs=Jharkhand<br>Total Cases=%{x}<br>Active=%{y}<br>Deaths=%{marker.size}\", \"legendgroup\": \"State/UTs=Jharkhand\", \"marker\": {\"color\": \"#FFA15A\", \"size\": [5132], \"sizemode\": \"area\", \"sizeref\": 54.9252, \"symbol\": \"circle\"}, \"mode\": \"markers\", \"name\": \"State/UTs=Jharkhand\", \"showlegend\": true, \"type\": \"scatter\", \"x\": [347867], \"xaxis\": \"x\", \"y\": [130], \"yaxis\": \"y\"}, {\"hoverlabel\": {\"namelength\": 0}, \"hovertemplate\": \"State/UTs=Karnataka<br>Total Cases=%{x}<br>Active=%{y}<br>Deaths=%{marker.size}\", \"legendgroup\": \"State/UTs=Karnataka\", \"marker\": {\"color\": \"#19d3f3\", \"size\": [37318], \"sizemode\": \"area\", \"sizeref\": 54.9252, \"symbol\": \"circle\"}, \"mode\": \"markers\", \"name\": \"State/UTs=Karnataka\", \"showlegend\": true, \"type\": \"scatter\", \"x\": [2949445], \"xaxis\": \"x\", \"y\": [18412], \"yaxis\": \"y\"}, {\"hoverlabel\": {\"namelength\": 0}, \"hovertemplate\": \"State/UTs=Kerala<br>Total Cases=%{x}<br>Active=%{y}<br>Deaths=%{marker.size}\", \"legendgroup\": \"State/UTs=Kerala\", \"marker\": {\"color\": \"#FF6692\", \"size\": [20788], \"sizemode\": \"area\", \"sizeref\": 54.9252, \"symbol\": \"circle\"}, \"mode\": \"markers\", \"name\": \"State/UTs=Kerala\", \"showlegend\": true, \"type\": \"scatter\", \"x\": [4057233], \"xaxis\": \"x\", \"y\": [219441], \"yaxis\": \"y\"}, {\"hoverlabel\": {\"namelength\": 0}, \"hovertemplate\": \"State/UTs=Ladakh<br>Total Cases=%{x}<br>Active=%{y}<br>Deaths=%{marker.size}\", \"legendgroup\": \"State/UTs=Ladakh\", \"marker\": {\"color\": \"#B6E880\", \"size\": [207], \"sizemode\": \"area\", \"sizeref\": 54.9252, \"symbol\": \"circle\"}, \"mode\": \"markers\", \"name\": \"State/UTs=Ladakh\", \"showlegend\": true, \"type\": \"scatter\", \"x\": [20560], \"xaxis\": \"x\", \"y\": [69], \"yaxis\": \"y\"}, {\"hoverlabel\": {\"namelength\": 0}, \"hovertemplate\": \"State/UTs=Lakshadweep<br>Total Cases=%{x}<br>Active=%{y}<br>Deaths=%{marker.size}\", \"legendgroup\": \"State/UTs=Lakshadweep\", \"marker\": {\"color\": \"#FF97FF\", \"size\": [51], \"sizemode\": \"area\", \"sizeref\": 54.9252, \"symbol\": \"circle\"}, \"mode\": \"markers\", \"name\": \"State/UTs=Lakshadweep\", \"showlegend\": true, \"type\": \"scatter\", \"x\": [10347], \"xaxis\": \"x\", \"y\": [31], \"yaxis\": \"y\"}, {\"hoverlabel\": {\"namelength\": 0}, \"hovertemplate\": \"State/UTs=Madhya Pradesh<br>Total Cases=%{x}<br>Active=%{y}<br>Deaths=%{marker.size}\", \"legendgroup\": \"State/UTs=Madhya Pradesh\", \"marker\": {\"color\": \"#FECB52\", \"size\": [10516], \"sizemode\": \"area\", \"sizeref\": 54.9252, \"symbol\": \"circle\"}, \"mode\": \"markers\", \"name\": \"State/UTs=Madhya Pradesh\", \"showlegend\": true, \"type\": \"scatter\", \"x\": [792175], \"xaxis\": \"x\", \"y\": [79], \"yaxis\": \"y\"}, {\"hoverlabel\": {\"namelength\": 0}, \"hovertemplate\": \"State/UTs=Maharashtra<br>Total Cases=%{x}<br>Active=%{y}<br>Deaths=%{marker.size}\", \"legendgroup\": \"State/UTs=Maharashtra\", \"marker\": {\"color\": \"#636efa\", \"size\": [137313], \"sizemode\": \"area\", \"sizeref\": 54.9252, \"symbol\": \"circle\"}, \"mode\": \"markers\", \"name\": \"State/UTs=Maharashtra\", \"showlegend\": true, \"type\": \"scatter\", \"x\": [6464876], \"xaxis\": \"x\", \"y\": [54763], \"yaxis\": \"y\"}, {\"hoverlabel\": {\"namelength\": 0}, \"hovertemplate\": \"State/UTs=Manipur<br>Total Cases=%{x}<br>Active=%{y}<br>Deaths=%{marker.size}\", \"legendgroup\": \"State/UTs=Manipur\", \"marker\": {\"color\": \"#EF553B\", \"size\": [1782], \"sizemode\": \"area\", \"sizeref\": 54.9252, \"symbol\": \"circle\"}, \"mode\": \"markers\", \"name\": \"State/UTs=Manipur\", \"showlegend\": true, \"type\": \"scatter\", \"x\": [113933], \"xaxis\": \"x\", \"y\": [3397], \"yaxis\": \"y\"}, {\"hoverlabel\": {\"namelength\": 0}, \"hovertemplate\": \"State/UTs=Meghalaya<br>Total Cases=%{x}<br>Active=%{y}<br>Deaths=%{marker.size}\", \"legendgroup\": \"State/UTs=Meghalaya\", \"marker\": {\"color\": \"#00cc96\", \"size\": [1311], \"sizemode\": \"area\", \"sizeref\": 54.9252, \"symbol\": \"circle\"}, \"mode\": \"markers\", \"name\": \"State/UTs=Meghalaya\", \"showlegend\": true, \"type\": \"scatter\", \"x\": [75836], \"xaxis\": \"x\", \"y\": [2326], \"yaxis\": \"y\"}, {\"hoverlabel\": {\"namelength\": 0}, \"hovertemplate\": \"State/UTs=Mizoram<br>Total Cases=%{x}<br>Active=%{y}<br>Deaths=%{marker.size}\", \"legendgroup\": \"State/UTs=Mizoram\", \"marker\": {\"color\": \"#ab63fa\", \"size\": [217], \"sizemode\": \"area\", \"sizeref\": 54.9252, \"symbol\": \"circle\"}, \"mode\": \"markers\", \"name\": \"State/UTs=Mizoram\", \"showlegend\": true, \"type\": \"scatter\", \"x\": [59119], \"xaxis\": \"x\", \"y\": [8885], \"yaxis\": \"y\"}, {\"hoverlabel\": {\"namelength\": 0}, \"hovertemplate\": \"State/UTs=Nagaland<br>Total Cases=%{x}<br>Active=%{y}<br>Deaths=%{marker.size}\", \"legendgroup\": \"State/UTs=Nagaland\", \"marker\": {\"color\": \"#FFA15A\", \"size\": [620], \"sizemode\": \"area\", \"sizeref\": 54.9252, \"symbol\": \"circle\"}, \"mode\": \"markers\", \"name\": \"State/UTs=Nagaland\", \"showlegend\": true, \"type\": \"scatter\", \"x\": [30083], \"xaxis\": \"x\", \"y\": [815], \"yaxis\": \"y\"}, {\"hoverlabel\": {\"namelength\": 0}, \"hovertemplate\": \"State/UTs=Odisha<br>Total Cases=%{x}<br>Active=%{y}<br>Deaths=%{marker.size}\", \"legendgroup\": \"State/UTs=Odisha\", \"marker\": {\"color\": \"#19d3f3\", \"size\": [7969], \"sizemode\": \"area\", \"sizeref\": 54.9252, \"symbol\": \"circle\"}, \"mode\": \"markers\", \"name\": \"State/UTs=Odisha\", \"showlegend\": true, \"type\": \"scatter\", \"x\": [1007750], \"xaxis\": \"x\", \"y\": [6546], \"yaxis\": \"y\"}, {\"hoverlabel\": {\"namelength\": 0}, \"hovertemplate\": \"State/UTs=Puducherry<br>Total Cases=%{x}<br>Active=%{y}<br>Deaths=%{marker.size}\", \"legendgroup\": \"State/UTs=Puducherry\", \"marker\": {\"color\": \"#FF6692\", \"size\": [1812], \"sizemode\": \"area\", \"sizeref\": 54.9252, \"symbol\": \"circle\"}, \"mode\": \"markers\", \"name\": \"State/UTs=Puducherry\", \"showlegend\": true, \"type\": \"scatter\", \"x\": [123572], \"xaxis\": \"x\", \"y\": [715], \"yaxis\": \"y\"}, {\"hoverlabel\": {\"namelength\": 0}, \"hovertemplate\": \"State/UTs=Punjab<br>Total Cases=%{x}<br>Active=%{y}<br>Deaths=%{marker.size}\", \"legendgroup\": \"State/UTs=Punjab\", \"marker\": {\"color\": \"#B6E880\", \"size\": [16431], \"sizemode\": \"area\", \"sizeref\": 54.9252, \"symbol\": \"circle\"}, \"mode\": \"markers\", \"name\": \"State/UTs=Punjab\", \"showlegend\": true, \"type\": \"scatter\", \"x\": [600614], \"xaxis\": \"x\", \"y\": [324], \"yaxis\": \"y\"}, {\"hoverlabel\": {\"namelength\": 0}, \"hovertemplate\": \"State/UTs=Rajasthan<br>Total Cases=%{x}<br>Active=%{y}<br>Deaths=%{marker.size}\", \"legendgroup\": \"State/UTs=Rajasthan\", \"marker\": {\"color\": \"#FF97FF\", \"size\": [8954], \"sizemode\": \"area\", \"sizeref\": 54.9252, \"symbol\": \"circle\"}, \"mode\": \"markers\", \"name\": \"State/UTs=Rajasthan\", \"showlegend\": true, \"type\": \"scatter\", \"x\": [954095], \"xaxis\": \"x\", \"y\": [97], \"yaxis\": \"y\"}, {\"hoverlabel\": {\"namelength\": 0}, \"hovertemplate\": \"State/UTs=Sikkim<br>Total Cases=%{x}<br>Active=%{y}<br>Deaths=%{marker.size}\", \"legendgroup\": \"State/UTs=Sikkim\", \"marker\": {\"color\": \"#FECB52\", \"size\": [370], \"sizemode\": \"area\", \"sizeref\": 54.9252, \"symbol\": \"circle\"}, \"mode\": \"markers\", \"name\": \"State/UTs=Sikkim\", \"showlegend\": true, \"type\": \"scatter\", \"x\": [29878], \"xaxis\": \"x\", \"y\": [1094], \"yaxis\": \"y\"}, {\"hoverlabel\": {\"namelength\": 0}, \"hovertemplate\": \"State/UTs=Tamil Nadu<br>Total Cases=%{x}<br>Active=%{y}<br>Deaths=%{marker.size}\", \"legendgroup\": \"State/UTs=Tamil Nadu\", \"marker\": {\"color\": \"#636efa\", \"size\": [34921], \"sizemode\": \"area\", \"sizeref\": 54.9252, \"symbol\": \"circle\"}, \"mode\": \"markers\", \"name\": \"State/UTs=Tamil Nadu\", \"showlegend\": true, \"type\": \"scatter\", \"x\": [2614872], \"xaxis\": \"x\", \"y\": [16850], \"yaxis\": \"y\"}, {\"hoverlabel\": {\"namelength\": 0}, \"hovertemplate\": \"State/UTs=Telengana<br>Total Cases=%{x}<br>Active=%{y}<br>Deaths=%{marker.size}\", \"legendgroup\": \"State/UTs=Telengana\", \"marker\": {\"color\": \"#EF553B\", \"size\": [3873], \"sizemode\": \"area\", \"sizeref\": 54.9252, \"symbol\": \"circle\"}, \"mode\": \"markers\", \"name\": \"State/UTs=Telengana\", \"showlegend\": true, \"type\": \"scatter\", \"x\": [658054], \"xaxis\": \"x\", \"y\": [5864], \"yaxis\": \"y\"}, {\"hoverlabel\": {\"namelength\": 0}, \"hovertemplate\": \"State/UTs=Tripura<br>Total Cases=%{x}<br>Active=%{y}<br>Deaths=%{marker.size}\", \"legendgroup\": \"State/UTs=Tripura\", \"marker\": {\"color\": \"#00cc96\", \"size\": [800], \"sizemode\": \"area\", \"sizeref\": 54.9252, \"symbol\": \"circle\"}, \"mode\": \"markers\", \"name\": \"State/UTs=Tripura\", \"showlegend\": true, \"type\": \"scatter\", \"x\": [82961], \"xaxis\": \"x\", \"y\": [917], \"yaxis\": \"y\"}, {\"hoverlabel\": {\"namelength\": 0}, \"hovertemplate\": \"State/UTs=Uttar Pradesh<br>Total Cases=%{x}<br>Active=%{y}<br>Deaths=%{marker.size}\", \"legendgroup\": \"State/UTs=Uttar Pradesh\", \"marker\": {\"color\": \"#ab63fa\", \"size\": [22823], \"sizemode\": \"area\", \"sizeref\": 54.9252, \"symbol\": \"circle\"}, \"mode\": \"markers\", \"name\": \"State/UTs=Uttar Pradesh\", \"showlegend\": true, \"type\": \"scatter\", \"x\": [1709335], \"xaxis\": \"x\", \"y\": [256], \"yaxis\": \"y\"}, {\"hoverlabel\": {\"namelength\": 0}, \"hovertemplate\": \"State/UTs=Uttarakhand<br>Total Cases=%{x}<br>Active=%{y}<br>Deaths=%{marker.size}\", \"legendgroup\": \"State/UTs=Uttarakhand\", \"marker\": {\"color\": \"#FFA15A\", \"size\": [7387], \"sizemode\": \"area\", \"sizeref\": 54.9252, \"symbol\": \"circle\"}, \"mode\": \"markers\", \"name\": \"State/UTs=Uttarakhand\", \"showlegend\": true, \"type\": \"scatter\", \"x\": [342976], \"xaxis\": \"x\", \"y\": [354], \"yaxis\": \"y\"}, {\"hoverlabel\": {\"namelength\": 0}, \"hovertemplate\": \"State/UTs=West Bengal<br>Total Cases=%{x}<br>Active=%{y}<br>Deaths=%{marker.size}\", \"legendgroup\": \"State/UTs=West Bengal\", \"marker\": {\"color\": \"#19d3f3\", \"size\": [18447], \"sizemode\": \"area\", \"sizeref\": 54.9252, \"symbol\": \"circle\"}, \"mode\": \"markers\", \"name\": \"State/UTs=West Bengal\", \"showlegend\": true, \"type\": \"scatter\", \"x\": [1548604], \"xaxis\": \"x\", \"y\": [8815], \"yaxis\": \"y\"}],\n",
              "                        {\"legend\": {\"itemsizing\": \"constant\", \"tracegroupgap\": 0}, \"margin\": {\"t\": 60}, \"template\": {\"data\": {\"bar\": [{\"error_x\": {\"color\": \"#2a3f5f\"}, \"error_y\": {\"color\": \"#2a3f5f\"}, \"marker\": {\"line\": {\"color\": \"#E5ECF6\", \"width\": 0.5}}, \"type\": \"bar\"}], \"barpolar\": [{\"marker\": {\"line\": {\"color\": \"#E5ECF6\", \"width\": 0.5}}, \"type\": \"barpolar\"}], \"carpet\": [{\"aaxis\": {\"endlinecolor\": \"#2a3f5f\", \"gridcolor\": \"white\", \"linecolor\": \"white\", \"minorgridcolor\": \"white\", \"startlinecolor\": \"#2a3f5f\"}, \"baxis\": {\"endlinecolor\": \"#2a3f5f\", \"gridcolor\": \"white\", \"linecolor\": \"white\", \"minorgridcolor\": \"white\", \"startlinecolor\": \"#2a3f5f\"}, \"type\": \"carpet\"}], \"choropleth\": [{\"colorbar\": {\"outlinewidth\": 0, \"ticks\": \"\"}, \"type\": \"choropleth\"}], \"contour\": [{\"colorbar\": {\"outlinewidth\": 0, \"ticks\": \"\"}, \"colorscale\": [[0.0, \"#0d0887\"], [0.1111111111111111, \"#46039f\"], [0.2222222222222222, \"#7201a8\"], [0.3333333333333333, \"#9c179e\"], [0.4444444444444444, \"#bd3786\"], [0.5555555555555556, \"#d8576b\"], [0.6666666666666666, \"#ed7953\"], [0.7777777777777778, \"#fb9f3a\"], [0.8888888888888888, \"#fdca26\"], [1.0, \"#f0f921\"]], \"type\": \"contour\"}], \"contourcarpet\": [{\"colorbar\": {\"outlinewidth\": 0, \"ticks\": \"\"}, \"type\": \"contourcarpet\"}], \"heatmap\": [{\"colorbar\": {\"outlinewidth\": 0, \"ticks\": \"\"}, \"colorscale\": [[0.0, \"#0d0887\"], [0.1111111111111111, \"#46039f\"], [0.2222222222222222, \"#7201a8\"], [0.3333333333333333, \"#9c179e\"], [0.4444444444444444, \"#bd3786\"], [0.5555555555555556, \"#d8576b\"], [0.6666666666666666, \"#ed7953\"], [0.7777777777777778, \"#fb9f3a\"], [0.8888888888888888, \"#fdca26\"], [1.0, \"#f0f921\"]], \"type\": \"heatmap\"}], \"heatmapgl\": [{\"colorbar\": {\"outlinewidth\": 0, \"ticks\": \"\"}, \"colorscale\": [[0.0, \"#0d0887\"], [0.1111111111111111, \"#46039f\"], [0.2222222222222222, \"#7201a8\"], [0.3333333333333333, \"#9c179e\"], [0.4444444444444444, \"#bd3786\"], [0.5555555555555556, \"#d8576b\"], [0.6666666666666666, \"#ed7953\"], [0.7777777777777778, \"#fb9f3a\"], [0.8888888888888888, \"#fdca26\"], [1.0, \"#f0f921\"]], \"type\": \"heatmapgl\"}], \"histogram\": [{\"marker\": {\"colorbar\": {\"outlinewidth\": 0, \"ticks\": \"\"}}, \"type\": \"histogram\"}], \"histogram2d\": [{\"colorbar\": {\"outlinewidth\": 0, \"ticks\": \"\"}, \"colorscale\": [[0.0, \"#0d0887\"], [0.1111111111111111, \"#46039f\"], [0.2222222222222222, \"#7201a8\"], [0.3333333333333333, \"#9c179e\"], [0.4444444444444444, \"#bd3786\"], [0.5555555555555556, \"#d8576b\"], [0.6666666666666666, \"#ed7953\"], [0.7777777777777778, \"#fb9f3a\"], [0.8888888888888888, \"#fdca26\"], [1.0, \"#f0f921\"]], \"type\": \"histogram2d\"}], \"histogram2dcontour\": [{\"colorbar\": {\"outlinewidth\": 0, \"ticks\": \"\"}, \"colorscale\": [[0.0, \"#0d0887\"], [0.1111111111111111, \"#46039f\"], [0.2222222222222222, \"#7201a8\"], [0.3333333333333333, \"#9c179e\"], [0.4444444444444444, \"#bd3786\"], [0.5555555555555556, \"#d8576b\"], [0.6666666666666666, \"#ed7953\"], [0.7777777777777778, \"#fb9f3a\"], [0.8888888888888888, \"#fdca26\"], [1.0, \"#f0f921\"]], \"type\": \"histogram2dcontour\"}], \"mesh3d\": [{\"colorbar\": {\"outlinewidth\": 0, \"ticks\": \"\"}, \"type\": \"mesh3d\"}], \"parcoords\": [{\"line\": {\"colorbar\": {\"outlinewidth\": 0, \"ticks\": \"\"}}, \"type\": \"parcoords\"}], \"pie\": [{\"automargin\": true, \"type\": \"pie\"}], \"scatter\": [{\"marker\": {\"colorbar\": {\"outlinewidth\": 0, \"ticks\": \"\"}}, \"type\": \"scatter\"}], \"scatter3d\": [{\"line\": {\"colorbar\": {\"outlinewidth\": 0, \"ticks\": \"\"}}, \"marker\": {\"colorbar\": {\"outlinewidth\": 0, \"ticks\": \"\"}}, \"type\": \"scatter3d\"}], \"scattercarpet\": [{\"marker\": {\"colorbar\": {\"outlinewidth\": 0, \"ticks\": \"\"}}, \"type\": \"scattercarpet\"}], \"scattergeo\": [{\"marker\": {\"colorbar\": {\"outlinewidth\": 0, \"ticks\": \"\"}}, \"type\": \"scattergeo\"}], \"scattergl\": [{\"marker\": {\"colorbar\": {\"outlinewidth\": 0, \"ticks\": \"\"}}, \"type\": \"scattergl\"}], \"scattermapbox\": [{\"marker\": {\"colorbar\": {\"outlinewidth\": 0, \"ticks\": \"\"}}, \"type\": \"scattermapbox\"}], \"scatterpolar\": [{\"marker\": {\"colorbar\": {\"outlinewidth\": 0, \"ticks\": \"\"}}, \"type\": \"scatterpolar\"}], \"scatterpolargl\": [{\"marker\": {\"colorbar\": {\"outlinewidth\": 0, \"ticks\": \"\"}}, \"type\": \"scatterpolargl\"}], \"scatterternary\": [{\"marker\": {\"colorbar\": {\"outlinewidth\": 0, \"ticks\": \"\"}}, \"type\": \"scatterternary\"}], \"surface\": [{\"colorbar\": {\"outlinewidth\": 0, \"ticks\": \"\"}, \"colorscale\": [[0.0, \"#0d0887\"], [0.1111111111111111, \"#46039f\"], [0.2222222222222222, \"#7201a8\"], [0.3333333333333333, \"#9c179e\"], [0.4444444444444444, \"#bd3786\"], [0.5555555555555556, \"#d8576b\"], [0.6666666666666666, \"#ed7953\"], [0.7777777777777778, \"#fb9f3a\"], [0.8888888888888888, \"#fdca26\"], [1.0, \"#f0f921\"]], \"type\": \"surface\"}], \"table\": [{\"cells\": {\"fill\": {\"color\": \"#EBF0F8\"}, \"line\": {\"color\": \"white\"}}, \"header\": {\"fill\": {\"color\": \"#C8D4E3\"}, \"line\": {\"color\": \"white\"}}, \"type\": \"table\"}]}, \"layout\": {\"annotationdefaults\": {\"arrowcolor\": \"#2a3f5f\", \"arrowhead\": 0, \"arrowwidth\": 1}, \"coloraxis\": {\"colorbar\": {\"outlinewidth\": 0, \"ticks\": \"\"}}, \"colorscale\": {\"diverging\": [[0, \"#8e0152\"], [0.1, \"#c51b7d\"], [0.2, \"#de77ae\"], [0.3, \"#f1b6da\"], [0.4, \"#fde0ef\"], [0.5, \"#f7f7f7\"], [0.6, \"#e6f5d0\"], [0.7, \"#b8e186\"], [0.8, \"#7fbc41\"], [0.9, \"#4d9221\"], [1, \"#276419\"]], \"sequential\": [[0.0, \"#0d0887\"], [0.1111111111111111, \"#46039f\"], [0.2222222222222222, \"#7201a8\"], [0.3333333333333333, \"#9c179e\"], [0.4444444444444444, \"#bd3786\"], [0.5555555555555556, \"#d8576b\"], [0.6666666666666666, \"#ed7953\"], [0.7777777777777778, \"#fb9f3a\"], [0.8888888888888888, \"#fdca26\"], [1.0, \"#f0f921\"]], \"sequentialminus\": [[0.0, \"#0d0887\"], [0.1111111111111111, \"#46039f\"], [0.2222222222222222, \"#7201a8\"], [0.3333333333333333, \"#9c179e\"], [0.4444444444444444, \"#bd3786\"], [0.5555555555555556, \"#d8576b\"], [0.6666666666666666, \"#ed7953\"], [0.7777777777777778, \"#fb9f3a\"], [0.8888888888888888, \"#fdca26\"], [1.0, \"#f0f921\"]]}, \"colorway\": [\"#636efa\", \"#EF553B\", \"#00cc96\", \"#ab63fa\", \"#FFA15A\", \"#19d3f3\", \"#FF6692\", \"#B6E880\", \"#FF97FF\", \"#FECB52\"], \"font\": {\"color\": \"#2a3f5f\"}, \"geo\": {\"bgcolor\": \"white\", \"lakecolor\": \"white\", \"landcolor\": \"#E5ECF6\", \"showlakes\": true, \"showland\": true, \"subunitcolor\": \"white\"}, \"hoverlabel\": {\"align\": \"left\"}, \"hovermode\": \"closest\", \"mapbox\": {\"style\": \"light\"}, \"paper_bgcolor\": \"white\", \"plot_bgcolor\": \"#E5ECF6\", \"polar\": {\"angularaxis\": {\"gridcolor\": \"white\", \"linecolor\": \"white\", \"ticks\": \"\"}, \"bgcolor\": \"#E5ECF6\", \"radialaxis\": {\"gridcolor\": \"white\", \"linecolor\": \"white\", \"ticks\": \"\"}}, \"scene\": {\"xaxis\": {\"backgroundcolor\": \"#E5ECF6\", \"gridcolor\": \"white\", \"gridwidth\": 2, \"linecolor\": \"white\", \"showbackground\": true, \"ticks\": \"\", \"zerolinecolor\": \"white\"}, \"yaxis\": {\"backgroundcolor\": \"#E5ECF6\", \"gridcolor\": \"white\", \"gridwidth\": 2, \"linecolor\": \"white\", \"showbackground\": true, \"ticks\": \"\", \"zerolinecolor\": \"white\"}, \"zaxis\": {\"backgroundcolor\": \"#E5ECF6\", \"gridcolor\": \"white\", \"gridwidth\": 2, \"linecolor\": \"white\", \"showbackground\": true, \"ticks\": \"\", \"zerolinecolor\": \"white\"}}, \"shapedefaults\": {\"line\": {\"color\": \"#2a3f5f\"}}, \"ternary\": {\"aaxis\": {\"gridcolor\": \"white\", \"linecolor\": \"white\", \"ticks\": \"\"}, \"baxis\": {\"gridcolor\": \"white\", \"linecolor\": \"white\", \"ticks\": \"\"}, \"bgcolor\": \"#E5ECF6\", \"caxis\": {\"gridcolor\": \"white\", \"linecolor\": \"white\", \"ticks\": \"\"}}, \"title\": {\"x\": 0.05}, \"xaxis\": {\"automargin\": true, \"gridcolor\": \"white\", \"linecolor\": \"white\", \"ticks\": \"\", \"title\": {\"standoff\": 15}, \"zerolinecolor\": \"white\", \"zerolinewidth\": 2}, \"yaxis\": {\"automargin\": true, \"gridcolor\": \"white\", \"linecolor\": \"white\", \"ticks\": \"\", \"title\": {\"standoff\": 15}, \"zerolinecolor\": \"white\", \"zerolinewidth\": 2}}}, \"xaxis\": {\"anchor\": \"y\", \"domain\": [0.0, 1.0], \"title\": {\"text\": \"Total Cases\"}, \"type\": \"log\"}, \"yaxis\": {\"anchor\": \"x\", \"domain\": [0.0, 1.0], \"title\": {\"text\": \"Active\"}}},\n",
              "                        {\"responsive\": true}\n",
              "                    ).then(function(){\n",
              "                            \n",
              "var gd = document.getElementById('71ad4ac5-d1a0-42dd-8872-d8f327617d20');\n",
              "var x = new MutationObserver(function (mutations, observer) {{\n",
              "        var display = window.getComputedStyle(gd).display;\n",
              "        if (!display || display === 'none') {{\n",
              "            console.log([gd, 'removed!']);\n",
              "            Plotly.purge(gd);\n",
              "            observer.disconnect();\n",
              "        }}\n",
              "}});\n",
              "\n",
              "// Listen for the removal of the full notebook cells\n",
              "var notebookContainer = gd.closest('#notebook-container');\n",
              "if (notebookContainer) {{\n",
              "    x.observe(notebookContainer, {childList: true});\n",
              "}}\n",
              "\n",
              "// Listen for the clearing of the current output cell\n",
              "var outputEl = gd.closest('.output');\n",
              "if (outputEl) {{\n",
              "    x.observe(outputEl, {childList: true});\n",
              "}}\n",
              "\n",
              "                        })\n",
              "                };\n",
              "                \n",
              "            </script>\n",
              "        </div>\n",
              "</body>\n",
              "</html>"
            ]
          },
          "metadata": {}
        }
      ]
    },
    {
      "cell_type": "markdown",
      "metadata": {
        "papermill": {
          "duration": 0.066363,
          "end_time": "2021-09-05T05:32:38.247068",
          "exception": false,
          "start_time": "2021-09-05T05:32:38.180705",
          "status": "completed"
        },
        "tags": [],
        "id": "41226448"
      },
      "source": [
        "* Above graph shows us that Maharastra have highest number of death.\n",
        "* While Daman and Diu have lowest number of death."
      ],
      "id": "41226448"
    },
    {
      "cell_type": "code",
      "metadata": {
        "execution": {
          "iopub.execute_input": "2021-09-05T05:32:38.402324Z",
          "iopub.status.busy": "2021-09-05T05:32:38.401626Z",
          "iopub.status.idle": "2021-09-05T05:32:38.475579Z",
          "shell.execute_reply": "2021-09-05T05:32:38.475040Z",
          "shell.execute_reply.started": "2021-09-05T05:29:51.762373Z"
        },
        "papermill": {
          "duration": 0.1601,
          "end_time": "2021-09-05T05:32:38.475732",
          "exception": false,
          "start_time": "2021-09-05T05:32:38.315632",
          "status": "completed"
        },
        "tags": [],
        "colab": {
          "base_uri": "https://localhost:8080/",
          "height": 542
        },
        "id": "00e20fb3",
        "outputId": "ae64d3f1-6383-4be9-e5b7-e7be12f2838b"
      },
      "source": [
        "px.scatter(df, x=\"Total Cases\", y=\"Active\",size=\"Active Ratio (%)\", color=\"Active Ratio (%)\",hover_name=\"State/UTs\", log_x=True, size_max=60)"
      ],
      "id": "00e20fb3",
      "execution_count": 41,
      "outputs": [
        {
          "output_type": "display_data",
          "data": {
            "text/html": [
              "<html>\n",
              "<head><meta charset=\"utf-8\" /></head>\n",
              "<body>\n",
              "    <div>\n",
              "            <script src=\"https://cdnjs.cloudflare.com/ajax/libs/mathjax/2.7.5/MathJax.js?config=TeX-AMS-MML_SVG\"></script><script type=\"text/javascript\">if (window.MathJax) {MathJax.Hub.Config({SVG: {font: \"STIX-Web\"}});}</script>\n",
              "                <script type=\"text/javascript\">window.PlotlyConfig = {MathJaxConfig: 'local'};</script>\n",
              "        <script src=\"https://cdn.plot.ly/plotly-latest.min.js\"></script>    \n",
              "            <div id=\"b2b8986f-2ac8-4a6e-8cb7-a5b662bdc71a\" class=\"plotly-graph-div\" style=\"height:525px; width:100%;\"></div>\n",
              "            <script type=\"text/javascript\">\n",
              "                \n",
              "                    window.PLOTLYENV=window.PLOTLYENV || {};\n",
              "                    \n",
              "                if (document.getElementById(\"b2b8986f-2ac8-4a6e-8cb7-a5b662bdc71a\")) {\n",
              "                    Plotly.newPlot(\n",
              "                        'b2b8986f-2ac8-4a6e-8cb7-a5b662bdc71a',\n",
              "                        [{\"hoverlabel\": {\"namelength\": 0}, \"hovertemplate\": \"<b>%{hovertext}</b><br><br>Total Cases=%{x}<br>Active=%{y}<br>Active Ratio (%)=%{marker.color}\", \"hovertext\": [\"Andaman and Nicobar\", \"Andhra Pradesh\", \"Arunachal Pradesh\", \"Assam\", \"Bihar\", \"Chandigarh\", \"Chhattisgarh\", \"Daman and Diu\", \"Delhi\", \"Goa\", \"Gujarat\", \"Haryana\", \"Himachal Pradesh\", \"Jammu and Kashmir\", \"Jharkhand\", \"Karnataka\", \"Kerala\", \"Ladakh\", \"Lakshadweep\", \"Madhya Pradesh\", \"Maharashtra\", \"Manipur\", \"Meghalaya\", \"Mizoram\", \"Nagaland\", \"Odisha\", \"Puducherry\", \"Punjab\", \"Rajasthan\", \"Sikkim\", \"Tamil Nadu\", \"Telengana\", \"Tripura\", \"Uttar Pradesh\", \"Uttarakhand\", \"West Bengal\"], \"legendgroup\": \"\", \"marker\": {\"color\": [0.08, 0.73, 1.63, 1.17, 0.01, 0.06, 0.04, 0.04, 0.02, 0.5, 0.02, 0.08, 0.77, 0.41, 0.04, 0.62, 5.41, 0.34, 0.3, 0.01, 0.85, 2.98, 3.07, 15.03, 2.71, 0.65, 0.58, 0.05, 0.01, 3.66, 0.64, 0.89, 1.11, 0.01, 0.1, 0.57], \"coloraxis\": \"coloraxis\", \"size\": [0.08, 0.73, 1.63, 1.17, 0.01, 0.06, 0.04, 0.04, 0.02, 0.5, 0.02, 0.08, 0.77, 0.41, 0.04, 0.62, 5.41, 0.34, 0.3, 0.01, 0.85, 2.98, 3.07, 15.03, 2.71, 0.65, 0.58, 0.05, 0.01, 3.66, 0.64, 0.89, 1.11, 0.01, 0.1, 0.57], \"sizemode\": \"area\", \"sizeref\": 0.004175, \"symbol\": \"circle\"}, \"mode\": \"markers\", \"name\": \"\", \"showlegend\": false, \"type\": \"scatter\", \"x\": [7566, 2014116, 53031, 589426, 725708, 65105, 1004451, 10663, 1437764, 173955, 825422, 770486, 213548, 325419, 347867, 2949445, 4057233, 20560, 10347, 792175, 6464876, 113933, 75836, 59119, 30083, 1007750, 123572, 600614, 954095, 29878, 2614872, 658054, 82961, 1709335, 342976, 1548604], \"xaxis\": \"x\", \"y\": [6, 14693, 863, 6901, 100, 40, 412, 4, 349, 877, 150, 634, 1642, 1330, 130, 18412, 219441, 69, 31, 79, 54763, 3397, 2326, 8885, 815, 6546, 715, 324, 97, 1094, 16850, 5864, 917, 256, 354, 8815], \"yaxis\": \"y\"}],\n",
              "                        {\"coloraxis\": {\"colorbar\": {\"title\": {\"text\": \"Active Ratio (%)\"}}, \"colorscale\": [[0.0, \"#0d0887\"], [0.1111111111111111, \"#46039f\"], [0.2222222222222222, \"#7201a8\"], [0.3333333333333333, \"#9c179e\"], [0.4444444444444444, \"#bd3786\"], [0.5555555555555556, \"#d8576b\"], [0.6666666666666666, \"#ed7953\"], [0.7777777777777778, \"#fb9f3a\"], [0.8888888888888888, \"#fdca26\"], [1.0, \"#f0f921\"]]}, \"legend\": {\"itemsizing\": \"constant\", \"tracegroupgap\": 0}, \"margin\": {\"t\": 60}, \"template\": {\"data\": {\"bar\": [{\"error_x\": {\"color\": \"#2a3f5f\"}, \"error_y\": {\"color\": \"#2a3f5f\"}, \"marker\": {\"line\": {\"color\": \"#E5ECF6\", \"width\": 0.5}}, \"type\": \"bar\"}], \"barpolar\": [{\"marker\": {\"line\": {\"color\": \"#E5ECF6\", \"width\": 0.5}}, \"type\": \"barpolar\"}], \"carpet\": [{\"aaxis\": {\"endlinecolor\": \"#2a3f5f\", \"gridcolor\": \"white\", \"linecolor\": \"white\", \"minorgridcolor\": \"white\", \"startlinecolor\": \"#2a3f5f\"}, \"baxis\": {\"endlinecolor\": \"#2a3f5f\", \"gridcolor\": \"white\", \"linecolor\": \"white\", \"minorgridcolor\": \"white\", \"startlinecolor\": \"#2a3f5f\"}, \"type\": \"carpet\"}], \"choropleth\": [{\"colorbar\": {\"outlinewidth\": 0, \"ticks\": \"\"}, \"type\": \"choropleth\"}], \"contour\": [{\"colorbar\": {\"outlinewidth\": 0, \"ticks\": \"\"}, \"colorscale\": [[0.0, \"#0d0887\"], [0.1111111111111111, \"#46039f\"], [0.2222222222222222, \"#7201a8\"], [0.3333333333333333, \"#9c179e\"], [0.4444444444444444, \"#bd3786\"], [0.5555555555555556, \"#d8576b\"], [0.6666666666666666, \"#ed7953\"], [0.7777777777777778, \"#fb9f3a\"], [0.8888888888888888, \"#fdca26\"], [1.0, \"#f0f921\"]], \"type\": \"contour\"}], \"contourcarpet\": [{\"colorbar\": {\"outlinewidth\": 0, \"ticks\": \"\"}, \"type\": \"contourcarpet\"}], \"heatmap\": [{\"colorbar\": {\"outlinewidth\": 0, \"ticks\": \"\"}, \"colorscale\": [[0.0, \"#0d0887\"], [0.1111111111111111, \"#46039f\"], [0.2222222222222222, \"#7201a8\"], [0.3333333333333333, \"#9c179e\"], [0.4444444444444444, \"#bd3786\"], [0.5555555555555556, \"#d8576b\"], [0.6666666666666666, \"#ed7953\"], [0.7777777777777778, \"#fb9f3a\"], [0.8888888888888888, \"#fdca26\"], [1.0, \"#f0f921\"]], \"type\": \"heatmap\"}], \"heatmapgl\": [{\"colorbar\": {\"outlinewidth\": 0, \"ticks\": \"\"}, \"colorscale\": [[0.0, \"#0d0887\"], [0.1111111111111111, \"#46039f\"], [0.2222222222222222, \"#7201a8\"], [0.3333333333333333, \"#9c179e\"], [0.4444444444444444, \"#bd3786\"], [0.5555555555555556, \"#d8576b\"], [0.6666666666666666, \"#ed7953\"], [0.7777777777777778, \"#fb9f3a\"], [0.8888888888888888, \"#fdca26\"], [1.0, \"#f0f921\"]], \"type\": \"heatmapgl\"}], \"histogram\": [{\"marker\": {\"colorbar\": {\"outlinewidth\": 0, \"ticks\": \"\"}}, \"type\": \"histogram\"}], \"histogram2d\": [{\"colorbar\": {\"outlinewidth\": 0, \"ticks\": \"\"}, \"colorscale\": [[0.0, \"#0d0887\"], [0.1111111111111111, \"#46039f\"], [0.2222222222222222, \"#7201a8\"], [0.3333333333333333, \"#9c179e\"], [0.4444444444444444, \"#bd3786\"], [0.5555555555555556, \"#d8576b\"], [0.6666666666666666, \"#ed7953\"], [0.7777777777777778, \"#fb9f3a\"], [0.8888888888888888, \"#fdca26\"], [1.0, \"#f0f921\"]], \"type\": \"histogram2d\"}], \"histogram2dcontour\": [{\"colorbar\": {\"outlinewidth\": 0, \"ticks\": \"\"}, \"colorscale\": [[0.0, \"#0d0887\"], [0.1111111111111111, \"#46039f\"], [0.2222222222222222, \"#7201a8\"], [0.3333333333333333, \"#9c179e\"], [0.4444444444444444, \"#bd3786\"], [0.5555555555555556, \"#d8576b\"], [0.6666666666666666, \"#ed7953\"], [0.7777777777777778, \"#fb9f3a\"], [0.8888888888888888, \"#fdca26\"], [1.0, \"#f0f921\"]], \"type\": \"histogram2dcontour\"}], \"mesh3d\": [{\"colorbar\": {\"outlinewidth\": 0, \"ticks\": \"\"}, \"type\": \"mesh3d\"}], \"parcoords\": [{\"line\": {\"colorbar\": {\"outlinewidth\": 0, \"ticks\": \"\"}}, \"type\": \"parcoords\"}], \"pie\": [{\"automargin\": true, \"type\": \"pie\"}], \"scatter\": [{\"marker\": {\"colorbar\": {\"outlinewidth\": 0, \"ticks\": \"\"}}, \"type\": \"scatter\"}], \"scatter3d\": [{\"line\": {\"colorbar\": {\"outlinewidth\": 0, \"ticks\": \"\"}}, \"marker\": {\"colorbar\": {\"outlinewidth\": 0, \"ticks\": \"\"}}, \"type\": \"scatter3d\"}], \"scattercarpet\": [{\"marker\": {\"colorbar\": {\"outlinewidth\": 0, \"ticks\": \"\"}}, \"type\": \"scattercarpet\"}], \"scattergeo\": [{\"marker\": {\"colorbar\": {\"outlinewidth\": 0, \"ticks\": \"\"}}, \"type\": \"scattergeo\"}], \"scattergl\": [{\"marker\": {\"colorbar\": {\"outlinewidth\": 0, \"ticks\": \"\"}}, \"type\": \"scattergl\"}], \"scattermapbox\": [{\"marker\": {\"colorbar\": {\"outlinewidth\": 0, \"ticks\": \"\"}}, \"type\": \"scattermapbox\"}], \"scatterpolar\": [{\"marker\": {\"colorbar\": {\"outlinewidth\": 0, \"ticks\": \"\"}}, \"type\": \"scatterpolar\"}], \"scatterpolargl\": [{\"marker\": {\"colorbar\": {\"outlinewidth\": 0, \"ticks\": \"\"}}, \"type\": \"scatterpolargl\"}], \"scatterternary\": [{\"marker\": {\"colorbar\": {\"outlinewidth\": 0, \"ticks\": \"\"}}, \"type\": \"scatterternary\"}], \"surface\": [{\"colorbar\": {\"outlinewidth\": 0, \"ticks\": \"\"}, \"colorscale\": [[0.0, \"#0d0887\"], [0.1111111111111111, \"#46039f\"], [0.2222222222222222, \"#7201a8\"], [0.3333333333333333, \"#9c179e\"], [0.4444444444444444, \"#bd3786\"], [0.5555555555555556, \"#d8576b\"], [0.6666666666666666, \"#ed7953\"], [0.7777777777777778, \"#fb9f3a\"], [0.8888888888888888, \"#fdca26\"], [1.0, \"#f0f921\"]], \"type\": \"surface\"}], \"table\": [{\"cells\": {\"fill\": {\"color\": \"#EBF0F8\"}, \"line\": {\"color\": \"white\"}}, \"header\": {\"fill\": {\"color\": \"#C8D4E3\"}, \"line\": {\"color\": \"white\"}}, \"type\": \"table\"}]}, \"layout\": {\"annotationdefaults\": {\"arrowcolor\": \"#2a3f5f\", \"arrowhead\": 0, \"arrowwidth\": 1}, \"coloraxis\": {\"colorbar\": {\"outlinewidth\": 0, \"ticks\": \"\"}}, \"colorscale\": {\"diverging\": [[0, \"#8e0152\"], [0.1, \"#c51b7d\"], [0.2, \"#de77ae\"], [0.3, \"#f1b6da\"], [0.4, \"#fde0ef\"], [0.5, \"#f7f7f7\"], [0.6, \"#e6f5d0\"], [0.7, \"#b8e186\"], [0.8, \"#7fbc41\"], [0.9, \"#4d9221\"], [1, \"#276419\"]], \"sequential\": [[0.0, \"#0d0887\"], [0.1111111111111111, \"#46039f\"], [0.2222222222222222, \"#7201a8\"], [0.3333333333333333, \"#9c179e\"], [0.4444444444444444, \"#bd3786\"], [0.5555555555555556, \"#d8576b\"], [0.6666666666666666, \"#ed7953\"], [0.7777777777777778, \"#fb9f3a\"], [0.8888888888888888, \"#fdca26\"], [1.0, \"#f0f921\"]], \"sequentialminus\": [[0.0, \"#0d0887\"], [0.1111111111111111, \"#46039f\"], [0.2222222222222222, \"#7201a8\"], [0.3333333333333333, \"#9c179e\"], [0.4444444444444444, \"#bd3786\"], [0.5555555555555556, \"#d8576b\"], [0.6666666666666666, \"#ed7953\"], [0.7777777777777778, \"#fb9f3a\"], [0.8888888888888888, \"#fdca26\"], [1.0, \"#f0f921\"]]}, \"colorway\": [\"#636efa\", \"#EF553B\", \"#00cc96\", \"#ab63fa\", \"#FFA15A\", \"#19d3f3\", \"#FF6692\", \"#B6E880\", \"#FF97FF\", \"#FECB52\"], \"font\": {\"color\": \"#2a3f5f\"}, \"geo\": {\"bgcolor\": \"white\", \"lakecolor\": \"white\", \"landcolor\": \"#E5ECF6\", \"showlakes\": true, \"showland\": true, \"subunitcolor\": \"white\"}, \"hoverlabel\": {\"align\": \"left\"}, \"hovermode\": \"closest\", \"mapbox\": {\"style\": \"light\"}, \"paper_bgcolor\": \"white\", \"plot_bgcolor\": \"#E5ECF6\", \"polar\": {\"angularaxis\": {\"gridcolor\": \"white\", \"linecolor\": \"white\", \"ticks\": \"\"}, \"bgcolor\": \"#E5ECF6\", \"radialaxis\": {\"gridcolor\": \"white\", \"linecolor\": \"white\", \"ticks\": \"\"}}, \"scene\": {\"xaxis\": {\"backgroundcolor\": \"#E5ECF6\", \"gridcolor\": \"white\", \"gridwidth\": 2, \"linecolor\": \"white\", \"showbackground\": true, \"ticks\": \"\", \"zerolinecolor\": \"white\"}, \"yaxis\": {\"backgroundcolor\": \"#E5ECF6\", \"gridcolor\": \"white\", \"gridwidth\": 2, \"linecolor\": \"white\", \"showbackground\": true, \"ticks\": \"\", \"zerolinecolor\": \"white\"}, \"zaxis\": {\"backgroundcolor\": \"#E5ECF6\", \"gridcolor\": \"white\", \"gridwidth\": 2, \"linecolor\": \"white\", \"showbackground\": true, \"ticks\": \"\", \"zerolinecolor\": \"white\"}}, \"shapedefaults\": {\"line\": {\"color\": \"#2a3f5f\"}}, \"ternary\": {\"aaxis\": {\"gridcolor\": \"white\", \"linecolor\": \"white\", \"ticks\": \"\"}, \"baxis\": {\"gridcolor\": \"white\", \"linecolor\": \"white\", \"ticks\": \"\"}, \"bgcolor\": \"#E5ECF6\", \"caxis\": {\"gridcolor\": \"white\", \"linecolor\": \"white\", \"ticks\": \"\"}}, \"title\": {\"x\": 0.05}, \"xaxis\": {\"automargin\": true, \"gridcolor\": \"white\", \"linecolor\": \"white\", \"ticks\": \"\", \"title\": {\"standoff\": 15}, \"zerolinecolor\": \"white\", \"zerolinewidth\": 2}, \"yaxis\": {\"automargin\": true, \"gridcolor\": \"white\", \"linecolor\": \"white\", \"ticks\": \"\", \"title\": {\"standoff\": 15}, \"zerolinecolor\": \"white\", \"zerolinewidth\": 2}}}, \"xaxis\": {\"anchor\": \"y\", \"domain\": [0.0, 1.0], \"title\": {\"text\": \"Total Cases\"}, \"type\": \"log\"}, \"yaxis\": {\"anchor\": \"x\", \"domain\": [0.0, 1.0], \"title\": {\"text\": \"Active\"}}},\n",
              "                        {\"responsive\": true}\n",
              "                    ).then(function(){\n",
              "                            \n",
              "var gd = document.getElementById('b2b8986f-2ac8-4a6e-8cb7-a5b662bdc71a');\n",
              "var x = new MutationObserver(function (mutations, observer) {{\n",
              "        var display = window.getComputedStyle(gd).display;\n",
              "        if (!display || display === 'none') {{\n",
              "            console.log([gd, 'removed!']);\n",
              "            Plotly.purge(gd);\n",
              "            observer.disconnect();\n",
              "        }}\n",
              "}});\n",
              "\n",
              "// Listen for the removal of the full notebook cells\n",
              "var notebookContainer = gd.closest('#notebook-container');\n",
              "if (notebookContainer) {{\n",
              "    x.observe(notebookContainer, {childList: true});\n",
              "}}\n",
              "\n",
              "// Listen for the clearing of the current output cell\n",
              "var outputEl = gd.closest('.output');\n",
              "if (outputEl) {{\n",
              "    x.observe(outputEl, {childList: true});\n",
              "}}\n",
              "\n",
              "                        })\n",
              "                };\n",
              "                \n",
              "            </script>\n",
              "        </div>\n",
              "</body>\n",
              "</html>"
            ]
          },
          "metadata": {}
        }
      ]
    },
    {
      "cell_type": "markdown",
      "metadata": {
        "papermill": {
          "duration": 0.067584,
          "end_time": "2021-09-05T05:32:38.613074",
          "exception": false,
          "start_time": "2021-09-05T05:32:38.545490",
          "status": "completed"
        },
        "tags": [],
        "id": "c96cc3d5"
      },
      "source": [
        "* Above graph shows us that Mizoram have highest number of Active Ratio."
      ],
      "id": "c96cc3d5"
    },
    {
      "cell_type": "code",
      "metadata": {
        "execution": {
          "iopub.execute_input": "2021-09-05T05:32:38.766277Z",
          "iopub.status.busy": "2021-09-05T05:32:38.765186Z",
          "iopub.status.idle": "2021-09-05T05:32:38.836664Z",
          "shell.execute_reply": "2021-09-05T05:32:38.837256Z",
          "shell.execute_reply.started": "2021-09-05T05:29:51.846231Z"
        },
        "papermill": {
          "duration": 0.155782,
          "end_time": "2021-09-05T05:32:38.837433",
          "exception": false,
          "start_time": "2021-09-05T05:32:38.681651",
          "status": "completed"
        },
        "tags": [],
        "colab": {
          "base_uri": "https://localhost:8080/",
          "height": 542
        },
        "id": "2cb7ec73",
        "outputId": "43000e9a-3780-47d1-d6bb-062586f397b3"
      },
      "source": [
        "fig = px.pie(df, values='Total Cases', names=df['State/UTs'], title='Covid cases (%) in all states of India')\n",
        "fig.show()"
      ],
      "id": "2cb7ec73",
      "execution_count": 42,
      "outputs": [
        {
          "output_type": "display_data",
          "data": {
            "text/html": [
              "<html>\n",
              "<head><meta charset=\"utf-8\" /></head>\n",
              "<body>\n",
              "    <div>\n",
              "            <script src=\"https://cdnjs.cloudflare.com/ajax/libs/mathjax/2.7.5/MathJax.js?config=TeX-AMS-MML_SVG\"></script><script type=\"text/javascript\">if (window.MathJax) {MathJax.Hub.Config({SVG: {font: \"STIX-Web\"}});}</script>\n",
              "                <script type=\"text/javascript\">window.PlotlyConfig = {MathJaxConfig: 'local'};</script>\n",
              "        <script src=\"https://cdn.plot.ly/plotly-latest.min.js\"></script>    \n",
              "            <div id=\"1a16fd3e-866b-407d-8229-b63251345deb\" class=\"plotly-graph-div\" style=\"height:525px; width:100%;\"></div>\n",
              "            <script type=\"text/javascript\">\n",
              "                \n",
              "                    window.PLOTLYENV=window.PLOTLYENV || {};\n",
              "                    \n",
              "                if (document.getElementById(\"1a16fd3e-866b-407d-8229-b63251345deb\")) {\n",
              "                    Plotly.newPlot(\n",
              "                        '1a16fd3e-866b-407d-8229-b63251345deb',\n",
              "                        [{\"domain\": {\"x\": [0.0, 1.0], \"y\": [0.0, 1.0]}, \"hoverlabel\": {\"namelength\": 0}, \"hovertemplate\": \"State/UTs=%{label}<br>Total Cases=%{value}\", \"labels\": [\"Andaman and Nicobar\", \"Andhra Pradesh\", \"Arunachal Pradesh\", \"Assam\", \"Bihar\", \"Chandigarh\", \"Chhattisgarh\", \"Daman and Diu\", \"Delhi\", \"Goa\", \"Gujarat\", \"Haryana\", \"Himachal Pradesh\", \"Jammu and Kashmir\", \"Jharkhand\", \"Karnataka\", \"Kerala\", \"Ladakh\", \"Lakshadweep\", \"Madhya Pradesh\", \"Maharashtra\", \"Manipur\", \"Meghalaya\", \"Mizoram\", \"Nagaland\", \"Odisha\", \"Puducherry\", \"Punjab\", \"Rajasthan\", \"Sikkim\", \"Tamil Nadu\", \"Telengana\", \"Tripura\", \"Uttar Pradesh\", \"Uttarakhand\", \"West Bengal\"], \"legendgroup\": \"\", \"name\": \"\", \"showlegend\": true, \"type\": \"pie\", \"values\": [7566, 2014116, 53031, 589426, 725708, 65105, 1004451, 10663, 1437764, 173955, 825422, 770486, 213548, 325419, 347867, 2949445, 4057233, 20560, 10347, 792175, 6464876, 113933, 75836, 59119, 30083, 1007750, 123572, 600614, 954095, 29878, 2614872, 658054, 82961, 1709335, 342976, 1548604]}],\n",
              "                        {\"legend\": {\"tracegroupgap\": 0}, \"template\": {\"data\": {\"bar\": [{\"error_x\": {\"color\": \"#2a3f5f\"}, \"error_y\": {\"color\": \"#2a3f5f\"}, \"marker\": {\"line\": {\"color\": \"#E5ECF6\", \"width\": 0.5}}, \"type\": \"bar\"}], \"barpolar\": [{\"marker\": {\"line\": {\"color\": \"#E5ECF6\", \"width\": 0.5}}, \"type\": \"barpolar\"}], \"carpet\": [{\"aaxis\": {\"endlinecolor\": \"#2a3f5f\", \"gridcolor\": \"white\", \"linecolor\": \"white\", \"minorgridcolor\": \"white\", \"startlinecolor\": \"#2a3f5f\"}, \"baxis\": {\"endlinecolor\": \"#2a3f5f\", \"gridcolor\": \"white\", \"linecolor\": \"white\", \"minorgridcolor\": \"white\", \"startlinecolor\": \"#2a3f5f\"}, \"type\": \"carpet\"}], \"choropleth\": [{\"colorbar\": {\"outlinewidth\": 0, \"ticks\": \"\"}, \"type\": \"choropleth\"}], \"contour\": [{\"colorbar\": {\"outlinewidth\": 0, \"ticks\": \"\"}, \"colorscale\": [[0.0, \"#0d0887\"], [0.1111111111111111, \"#46039f\"], [0.2222222222222222, \"#7201a8\"], [0.3333333333333333, \"#9c179e\"], [0.4444444444444444, \"#bd3786\"], [0.5555555555555556, \"#d8576b\"], [0.6666666666666666, \"#ed7953\"], [0.7777777777777778, \"#fb9f3a\"], [0.8888888888888888, \"#fdca26\"], [1.0, \"#f0f921\"]], \"type\": \"contour\"}], \"contourcarpet\": [{\"colorbar\": {\"outlinewidth\": 0, \"ticks\": \"\"}, \"type\": \"contourcarpet\"}], \"heatmap\": [{\"colorbar\": {\"outlinewidth\": 0, \"ticks\": \"\"}, \"colorscale\": [[0.0, \"#0d0887\"], [0.1111111111111111, \"#46039f\"], [0.2222222222222222, \"#7201a8\"], [0.3333333333333333, \"#9c179e\"], [0.4444444444444444, \"#bd3786\"], [0.5555555555555556, \"#d8576b\"], [0.6666666666666666, \"#ed7953\"], [0.7777777777777778, \"#fb9f3a\"], [0.8888888888888888, \"#fdca26\"], [1.0, \"#f0f921\"]], \"type\": \"heatmap\"}], \"heatmapgl\": [{\"colorbar\": {\"outlinewidth\": 0, \"ticks\": \"\"}, \"colorscale\": [[0.0, \"#0d0887\"], [0.1111111111111111, \"#46039f\"], [0.2222222222222222, \"#7201a8\"], [0.3333333333333333, \"#9c179e\"], [0.4444444444444444, \"#bd3786\"], [0.5555555555555556, \"#d8576b\"], [0.6666666666666666, \"#ed7953\"], [0.7777777777777778, \"#fb9f3a\"], [0.8888888888888888, \"#fdca26\"], [1.0, \"#f0f921\"]], \"type\": \"heatmapgl\"}], \"histogram\": [{\"marker\": {\"colorbar\": {\"outlinewidth\": 0, \"ticks\": \"\"}}, \"type\": \"histogram\"}], \"histogram2d\": [{\"colorbar\": {\"outlinewidth\": 0, \"ticks\": \"\"}, \"colorscale\": [[0.0, \"#0d0887\"], [0.1111111111111111, \"#46039f\"], [0.2222222222222222, \"#7201a8\"], [0.3333333333333333, \"#9c179e\"], [0.4444444444444444, \"#bd3786\"], [0.5555555555555556, \"#d8576b\"], [0.6666666666666666, \"#ed7953\"], [0.7777777777777778, \"#fb9f3a\"], [0.8888888888888888, \"#fdca26\"], [1.0, \"#f0f921\"]], \"type\": \"histogram2d\"}], \"histogram2dcontour\": [{\"colorbar\": {\"outlinewidth\": 0, \"ticks\": \"\"}, \"colorscale\": [[0.0, \"#0d0887\"], [0.1111111111111111, \"#46039f\"], [0.2222222222222222, \"#7201a8\"], [0.3333333333333333, \"#9c179e\"], [0.4444444444444444, \"#bd3786\"], [0.5555555555555556, \"#d8576b\"], [0.6666666666666666, \"#ed7953\"], [0.7777777777777778, \"#fb9f3a\"], [0.8888888888888888, \"#fdca26\"], [1.0, \"#f0f921\"]], \"type\": \"histogram2dcontour\"}], \"mesh3d\": [{\"colorbar\": {\"outlinewidth\": 0, \"ticks\": \"\"}, \"type\": \"mesh3d\"}], \"parcoords\": [{\"line\": {\"colorbar\": {\"outlinewidth\": 0, \"ticks\": \"\"}}, \"type\": \"parcoords\"}], \"pie\": [{\"automargin\": true, \"type\": \"pie\"}], \"scatter\": [{\"marker\": {\"colorbar\": {\"outlinewidth\": 0, \"ticks\": \"\"}}, \"type\": \"scatter\"}], \"scatter3d\": [{\"line\": {\"colorbar\": {\"outlinewidth\": 0, \"ticks\": \"\"}}, \"marker\": {\"colorbar\": {\"outlinewidth\": 0, \"ticks\": \"\"}}, \"type\": \"scatter3d\"}], \"scattercarpet\": [{\"marker\": {\"colorbar\": {\"outlinewidth\": 0, \"ticks\": \"\"}}, \"type\": \"scattercarpet\"}], \"scattergeo\": [{\"marker\": {\"colorbar\": {\"outlinewidth\": 0, \"ticks\": \"\"}}, \"type\": \"scattergeo\"}], \"scattergl\": [{\"marker\": {\"colorbar\": {\"outlinewidth\": 0, \"ticks\": \"\"}}, \"type\": \"scattergl\"}], \"scattermapbox\": [{\"marker\": {\"colorbar\": {\"outlinewidth\": 0, \"ticks\": \"\"}}, \"type\": \"scattermapbox\"}], \"scatterpolar\": [{\"marker\": {\"colorbar\": {\"outlinewidth\": 0, \"ticks\": \"\"}}, \"type\": \"scatterpolar\"}], \"scatterpolargl\": [{\"marker\": {\"colorbar\": {\"outlinewidth\": 0, \"ticks\": \"\"}}, \"type\": \"scatterpolargl\"}], \"scatterternary\": [{\"marker\": {\"colorbar\": {\"outlinewidth\": 0, \"ticks\": \"\"}}, \"type\": \"scatterternary\"}], \"surface\": [{\"colorbar\": {\"outlinewidth\": 0, \"ticks\": \"\"}, \"colorscale\": [[0.0, \"#0d0887\"], [0.1111111111111111, \"#46039f\"], [0.2222222222222222, \"#7201a8\"], [0.3333333333333333, \"#9c179e\"], [0.4444444444444444, \"#bd3786\"], [0.5555555555555556, \"#d8576b\"], [0.6666666666666666, \"#ed7953\"], [0.7777777777777778, \"#fb9f3a\"], [0.8888888888888888, \"#fdca26\"], [1.0, \"#f0f921\"]], \"type\": \"surface\"}], \"table\": [{\"cells\": {\"fill\": {\"color\": \"#EBF0F8\"}, \"line\": {\"color\": \"white\"}}, \"header\": {\"fill\": {\"color\": \"#C8D4E3\"}, \"line\": {\"color\": \"white\"}}, \"type\": \"table\"}]}, \"layout\": {\"annotationdefaults\": {\"arrowcolor\": \"#2a3f5f\", \"arrowhead\": 0, \"arrowwidth\": 1}, \"coloraxis\": {\"colorbar\": {\"outlinewidth\": 0, \"ticks\": \"\"}}, \"colorscale\": {\"diverging\": [[0, \"#8e0152\"], [0.1, \"#c51b7d\"], [0.2, \"#de77ae\"], [0.3, \"#f1b6da\"], [0.4, \"#fde0ef\"], [0.5, \"#f7f7f7\"], [0.6, \"#e6f5d0\"], [0.7, \"#b8e186\"], [0.8, \"#7fbc41\"], [0.9, \"#4d9221\"], [1, \"#276419\"]], \"sequential\": [[0.0, \"#0d0887\"], [0.1111111111111111, \"#46039f\"], [0.2222222222222222, \"#7201a8\"], [0.3333333333333333, \"#9c179e\"], [0.4444444444444444, \"#bd3786\"], [0.5555555555555556, \"#d8576b\"], [0.6666666666666666, \"#ed7953\"], [0.7777777777777778, \"#fb9f3a\"], [0.8888888888888888, \"#fdca26\"], [1.0, \"#f0f921\"]], \"sequentialminus\": [[0.0, \"#0d0887\"], [0.1111111111111111, \"#46039f\"], [0.2222222222222222, \"#7201a8\"], [0.3333333333333333, \"#9c179e\"], [0.4444444444444444, \"#bd3786\"], [0.5555555555555556, \"#d8576b\"], [0.6666666666666666, \"#ed7953\"], [0.7777777777777778, \"#fb9f3a\"], [0.8888888888888888, \"#fdca26\"], [1.0, \"#f0f921\"]]}, \"colorway\": [\"#636efa\", \"#EF553B\", \"#00cc96\", \"#ab63fa\", \"#FFA15A\", \"#19d3f3\", \"#FF6692\", \"#B6E880\", \"#FF97FF\", \"#FECB52\"], \"font\": {\"color\": \"#2a3f5f\"}, \"geo\": {\"bgcolor\": \"white\", \"lakecolor\": \"white\", \"landcolor\": \"#E5ECF6\", \"showlakes\": true, \"showland\": true, \"subunitcolor\": \"white\"}, \"hoverlabel\": {\"align\": \"left\"}, \"hovermode\": \"closest\", \"mapbox\": {\"style\": \"light\"}, \"paper_bgcolor\": \"white\", \"plot_bgcolor\": \"#E5ECF6\", \"polar\": {\"angularaxis\": {\"gridcolor\": \"white\", \"linecolor\": \"white\", \"ticks\": \"\"}, \"bgcolor\": \"#E5ECF6\", \"radialaxis\": {\"gridcolor\": \"white\", \"linecolor\": \"white\", \"ticks\": \"\"}}, \"scene\": {\"xaxis\": {\"backgroundcolor\": \"#E5ECF6\", \"gridcolor\": \"white\", \"gridwidth\": 2, \"linecolor\": \"white\", \"showbackground\": true, \"ticks\": \"\", \"zerolinecolor\": \"white\"}, \"yaxis\": {\"backgroundcolor\": \"#E5ECF6\", \"gridcolor\": \"white\", \"gridwidth\": 2, \"linecolor\": \"white\", \"showbackground\": true, \"ticks\": \"\", \"zerolinecolor\": \"white\"}, \"zaxis\": {\"backgroundcolor\": \"#E5ECF6\", \"gridcolor\": \"white\", \"gridwidth\": 2, \"linecolor\": \"white\", \"showbackground\": true, \"ticks\": \"\", \"zerolinecolor\": \"white\"}}, \"shapedefaults\": {\"line\": {\"color\": \"#2a3f5f\"}}, \"ternary\": {\"aaxis\": {\"gridcolor\": \"white\", \"linecolor\": \"white\", \"ticks\": \"\"}, \"baxis\": {\"gridcolor\": \"white\", \"linecolor\": \"white\", \"ticks\": \"\"}, \"bgcolor\": \"#E5ECF6\", \"caxis\": {\"gridcolor\": \"white\", \"linecolor\": \"white\", \"ticks\": \"\"}}, \"title\": {\"x\": 0.05}, \"xaxis\": {\"automargin\": true, \"gridcolor\": \"white\", \"linecolor\": \"white\", \"ticks\": \"\", \"title\": {\"standoff\": 15}, \"zerolinecolor\": \"white\", \"zerolinewidth\": 2}, \"yaxis\": {\"automargin\": true, \"gridcolor\": \"white\", \"linecolor\": \"white\", \"ticks\": \"\", \"title\": {\"standoff\": 15}, \"zerolinecolor\": \"white\", \"zerolinewidth\": 2}}}, \"title\": {\"text\": \"Covid cases (%) in all states of India\"}},\n",
              "                        {\"responsive\": true}\n",
              "                    ).then(function(){\n",
              "                            \n",
              "var gd = document.getElementById('1a16fd3e-866b-407d-8229-b63251345deb');\n",
              "var x = new MutationObserver(function (mutations, observer) {{\n",
              "        var display = window.getComputedStyle(gd).display;\n",
              "        if (!display || display === 'none') {{\n",
              "            console.log([gd, 'removed!']);\n",
              "            Plotly.purge(gd);\n",
              "            observer.disconnect();\n",
              "        }}\n",
              "}});\n",
              "\n",
              "// Listen for the removal of the full notebook cells\n",
              "var notebookContainer = gd.closest('#notebook-container');\n",
              "if (notebookContainer) {{\n",
              "    x.observe(notebookContainer, {childList: true});\n",
              "}}\n",
              "\n",
              "// Listen for the clearing of the current output cell\n",
              "var outputEl = gd.closest('.output');\n",
              "if (outputEl) {{\n",
              "    x.observe(outputEl, {childList: true});\n",
              "}}\n",
              "\n",
              "                        })\n",
              "                };\n",
              "                \n",
              "            </script>\n",
              "        </div>\n",
              "</body>\n",
              "</html>"
            ]
          },
          "metadata": {}
        }
      ]
    },
    {
      "cell_type": "markdown",
      "metadata": {
        "papermill": {
          "duration": 0.072371,
          "end_time": "2021-09-05T05:32:38.981488",
          "exception": false,
          "start_time": "2021-09-05T05:32:38.909117",
          "status": "completed"
        },
        "tags": [],
        "id": "796b25e6"
      },
      "source": [
        "* Above graph shows us that **more than 50%** of covid cases in india are coming only from 4 to 5 states."
      ],
      "id": "796b25e6"
    },
    {
      "cell_type": "code",
      "metadata": {
        "execution": {
          "iopub.execute_input": "2021-09-05T05:32:39.128831Z",
          "iopub.status.busy": "2021-09-05T05:32:39.127844Z",
          "iopub.status.idle": "2021-09-05T05:32:39.140365Z",
          "shell.execute_reply": "2021-09-05T05:32:39.140943Z",
          "shell.execute_reply.started": "2021-09-05T05:29:51.922716Z"
        },
        "papermill": {
          "duration": 0.086756,
          "end_time": "2021-09-05T05:32:39.141132",
          "exception": false,
          "start_time": "2021-09-05T05:32:39.054376",
          "status": "completed"
        },
        "tags": [],
        "colab": {
          "base_uri": "https://localhost:8080/"
        },
        "id": "43525170",
        "outputId": "0f894559-e476-4b57-eec6-8e55b308616a"
      },
      "source": [
        "df.nunique()"
      ],
      "id": "43525170",
      "execution_count": 43,
      "outputs": [
        {
          "output_type": "execute_result",
          "data": {
            "text/plain": [
              "State/UTs              36\n",
              "Total Cases            36\n",
              "Active                 36\n",
              "Discharged             36\n",
              "Deaths                 36\n",
              "Active Ratio (%)       29\n",
              "Discharge Ratio (%)    32\n",
              "Death Ratio (%)        31\n",
              "dtype: int64"
            ]
          },
          "metadata": {},
          "execution_count": 43
        }
      ]
    },
    {
      "cell_type": "code",
      "metadata": {
        "execution": {
          "iopub.execute_input": "2021-09-05T05:32:39.287978Z",
          "iopub.status.busy": "2021-09-05T05:32:39.286976Z",
          "iopub.status.idle": "2021-09-05T05:32:39.339278Z",
          "shell.execute_reply": "2021-09-05T05:32:39.339985Z",
          "shell.execute_reply.started": "2021-09-05T05:29:51.937413Z"
        },
        "papermill": {
          "duration": 0.125319,
          "end_time": "2021-09-05T05:32:39.340450",
          "exception": false,
          "start_time": "2021-09-05T05:32:39.215131",
          "status": "completed"
        },
        "tags": [],
        "colab": {
          "base_uri": "https://localhost:8080/",
          "height": 542
        },
        "id": "e4a8736d",
        "outputId": "ad2e205a-4954-4c11-9c9c-f63e152d5c66"
      },
      "source": [
        "fig = px.pie(df, values='Discharge Ratio (%)', names=df['State/UTs'], title='Covid cases (%) in all states of India')\n",
        "fig.show()"
      ],
      "id": "e4a8736d",
      "execution_count": 44,
      "outputs": [
        {
          "output_type": "display_data",
          "data": {
            "text/html": [
              "<html>\n",
              "<head><meta charset=\"utf-8\" /></head>\n",
              "<body>\n",
              "    <div>\n",
              "            <script src=\"https://cdnjs.cloudflare.com/ajax/libs/mathjax/2.7.5/MathJax.js?config=TeX-AMS-MML_SVG\"></script><script type=\"text/javascript\">if (window.MathJax) {MathJax.Hub.Config({SVG: {font: \"STIX-Web\"}});}</script>\n",
              "                <script type=\"text/javascript\">window.PlotlyConfig = {MathJaxConfig: 'local'};</script>\n",
              "        <script src=\"https://cdn.plot.ly/plotly-latest.min.js\"></script>    \n",
              "            <div id=\"568da627-6f1d-41a4-8c85-8e4356e9d608\" class=\"plotly-graph-div\" style=\"height:525px; width:100%;\"></div>\n",
              "            <script type=\"text/javascript\">\n",
              "                \n",
              "                    window.PLOTLYENV=window.PLOTLYENV || {};\n",
              "                    \n",
              "                if (document.getElementById(\"568da627-6f1d-41a4-8c85-8e4356e9d608\")) {\n",
              "                    Plotly.newPlot(\n",
              "                        '568da627-6f1d-41a4-8c85-8e4356e9d608',\n",
              "                        [{\"domain\": {\"x\": [0.0, 1.0], \"y\": [0.0, 1.0]}, \"hoverlabel\": {\"namelength\": 0}, \"hovertemplate\": \"State/UTs=%{label}<br>Discharge Ratio (%)=%{value}\", \"labels\": [\"Andaman and Nicobar\", \"Andhra Pradesh\", \"Arunachal Pradesh\", \"Assam\", \"Bihar\", \"Chandigarh\", \"Chhattisgarh\", \"Daman and Diu\", \"Delhi\", \"Goa\", \"Gujarat\", \"Haryana\", \"Himachal Pradesh\", \"Jammu and Kashmir\", \"Jharkhand\", \"Karnataka\", \"Kerala\", \"Ladakh\", \"Lakshadweep\", \"Madhya Pradesh\", \"Maharashtra\", \"Manipur\", \"Meghalaya\", \"Mizoram\", \"Nagaland\", \"Odisha\", \"Puducherry\", \"Punjab\", \"Rajasthan\", \"Sikkim\", \"Tamil Nadu\", \"Telengana\", \"Tripura\", \"Uttar Pradesh\", \"Uttarakhand\", \"West Bengal\"], \"legendgroup\": \"\", \"name\": \"\", \"showlegend\": true, \"type\": \"pie\", \"values\": [98.22, 98.58, 97.88, 97.87, 98.66, 98.69, 98.61, 99.92, 98.23, 97.66, 98.76, 98.66, 97.55, 98.24, 98.49, 98.11, 94.08, 98.66, 99.21, 98.66, 97.03, 95.45, 95.2, 84.6, 95.23, 98.56, 97.96, 97.21, 99.05, 95.1, 98.02, 98.52, 97.93, 98.65, 97.74, 98.24]}],\n",
              "                        {\"legend\": {\"tracegroupgap\": 0}, \"template\": {\"data\": {\"bar\": [{\"error_x\": {\"color\": \"#2a3f5f\"}, \"error_y\": {\"color\": \"#2a3f5f\"}, \"marker\": {\"line\": {\"color\": \"#E5ECF6\", \"width\": 0.5}}, \"type\": \"bar\"}], \"barpolar\": [{\"marker\": {\"line\": {\"color\": \"#E5ECF6\", \"width\": 0.5}}, \"type\": \"barpolar\"}], \"carpet\": [{\"aaxis\": {\"endlinecolor\": \"#2a3f5f\", \"gridcolor\": \"white\", \"linecolor\": \"white\", \"minorgridcolor\": \"white\", \"startlinecolor\": \"#2a3f5f\"}, \"baxis\": {\"endlinecolor\": \"#2a3f5f\", \"gridcolor\": \"white\", \"linecolor\": \"white\", \"minorgridcolor\": \"white\", \"startlinecolor\": \"#2a3f5f\"}, \"type\": \"carpet\"}], \"choropleth\": [{\"colorbar\": {\"outlinewidth\": 0, \"ticks\": \"\"}, \"type\": \"choropleth\"}], \"contour\": [{\"colorbar\": {\"outlinewidth\": 0, \"ticks\": \"\"}, \"colorscale\": [[0.0, \"#0d0887\"], [0.1111111111111111, \"#46039f\"], [0.2222222222222222, \"#7201a8\"], [0.3333333333333333, \"#9c179e\"], [0.4444444444444444, \"#bd3786\"], [0.5555555555555556, \"#d8576b\"], [0.6666666666666666, \"#ed7953\"], [0.7777777777777778, \"#fb9f3a\"], [0.8888888888888888, \"#fdca26\"], [1.0, \"#f0f921\"]], \"type\": \"contour\"}], \"contourcarpet\": [{\"colorbar\": {\"outlinewidth\": 0, \"ticks\": \"\"}, \"type\": \"contourcarpet\"}], \"heatmap\": [{\"colorbar\": {\"outlinewidth\": 0, \"ticks\": \"\"}, \"colorscale\": [[0.0, \"#0d0887\"], [0.1111111111111111, \"#46039f\"], [0.2222222222222222, \"#7201a8\"], [0.3333333333333333, \"#9c179e\"], [0.4444444444444444, \"#bd3786\"], [0.5555555555555556, \"#d8576b\"], [0.6666666666666666, \"#ed7953\"], [0.7777777777777778, \"#fb9f3a\"], [0.8888888888888888, \"#fdca26\"], [1.0, \"#f0f921\"]], \"type\": \"heatmap\"}], \"heatmapgl\": [{\"colorbar\": {\"outlinewidth\": 0, \"ticks\": \"\"}, \"colorscale\": [[0.0, \"#0d0887\"], [0.1111111111111111, \"#46039f\"], [0.2222222222222222, \"#7201a8\"], [0.3333333333333333, \"#9c179e\"], [0.4444444444444444, \"#bd3786\"], [0.5555555555555556, \"#d8576b\"], [0.6666666666666666, \"#ed7953\"], [0.7777777777777778, \"#fb9f3a\"], [0.8888888888888888, \"#fdca26\"], [1.0, \"#f0f921\"]], \"type\": \"heatmapgl\"}], \"histogram\": [{\"marker\": {\"colorbar\": {\"outlinewidth\": 0, \"ticks\": \"\"}}, \"type\": \"histogram\"}], \"histogram2d\": [{\"colorbar\": {\"outlinewidth\": 0, \"ticks\": \"\"}, \"colorscale\": [[0.0, \"#0d0887\"], [0.1111111111111111, \"#46039f\"], [0.2222222222222222, \"#7201a8\"], [0.3333333333333333, \"#9c179e\"], [0.4444444444444444, \"#bd3786\"], [0.5555555555555556, \"#d8576b\"], [0.6666666666666666, \"#ed7953\"], [0.7777777777777778, \"#fb9f3a\"], [0.8888888888888888, \"#fdca26\"], [1.0, \"#f0f921\"]], \"type\": \"histogram2d\"}], \"histogram2dcontour\": [{\"colorbar\": {\"outlinewidth\": 0, \"ticks\": \"\"}, \"colorscale\": [[0.0, \"#0d0887\"], [0.1111111111111111, \"#46039f\"], [0.2222222222222222, \"#7201a8\"], [0.3333333333333333, \"#9c179e\"], [0.4444444444444444, \"#bd3786\"], [0.5555555555555556, \"#d8576b\"], [0.6666666666666666, \"#ed7953\"], [0.7777777777777778, \"#fb9f3a\"], [0.8888888888888888, \"#fdca26\"], [1.0, \"#f0f921\"]], \"type\": \"histogram2dcontour\"}], \"mesh3d\": [{\"colorbar\": {\"outlinewidth\": 0, \"ticks\": \"\"}, \"type\": \"mesh3d\"}], \"parcoords\": [{\"line\": {\"colorbar\": {\"outlinewidth\": 0, \"ticks\": \"\"}}, \"type\": \"parcoords\"}], \"pie\": [{\"automargin\": true, \"type\": \"pie\"}], \"scatter\": [{\"marker\": {\"colorbar\": {\"outlinewidth\": 0, \"ticks\": \"\"}}, \"type\": \"scatter\"}], \"scatter3d\": [{\"line\": {\"colorbar\": {\"outlinewidth\": 0, \"ticks\": \"\"}}, \"marker\": {\"colorbar\": {\"outlinewidth\": 0, \"ticks\": \"\"}}, \"type\": \"scatter3d\"}], \"scattercarpet\": [{\"marker\": {\"colorbar\": {\"outlinewidth\": 0, \"ticks\": \"\"}}, \"type\": \"scattercarpet\"}], \"scattergeo\": [{\"marker\": {\"colorbar\": {\"outlinewidth\": 0, \"ticks\": \"\"}}, \"type\": \"scattergeo\"}], \"scattergl\": [{\"marker\": {\"colorbar\": {\"outlinewidth\": 0, \"ticks\": \"\"}}, \"type\": \"scattergl\"}], \"scattermapbox\": [{\"marker\": {\"colorbar\": {\"outlinewidth\": 0, \"ticks\": \"\"}}, \"type\": \"scattermapbox\"}], \"scatterpolar\": [{\"marker\": {\"colorbar\": {\"outlinewidth\": 0, \"ticks\": \"\"}}, \"type\": \"scatterpolar\"}], \"scatterpolargl\": [{\"marker\": {\"colorbar\": {\"outlinewidth\": 0, \"ticks\": \"\"}}, \"type\": \"scatterpolargl\"}], \"scatterternary\": [{\"marker\": {\"colorbar\": {\"outlinewidth\": 0, \"ticks\": \"\"}}, \"type\": \"scatterternary\"}], \"surface\": [{\"colorbar\": {\"outlinewidth\": 0, \"ticks\": \"\"}, \"colorscale\": [[0.0, \"#0d0887\"], [0.1111111111111111, \"#46039f\"], [0.2222222222222222, \"#7201a8\"], [0.3333333333333333, \"#9c179e\"], [0.4444444444444444, \"#bd3786\"], [0.5555555555555556, \"#d8576b\"], [0.6666666666666666, \"#ed7953\"], [0.7777777777777778, \"#fb9f3a\"], [0.8888888888888888, \"#fdca26\"], [1.0, \"#f0f921\"]], \"type\": \"surface\"}], \"table\": [{\"cells\": {\"fill\": {\"color\": \"#EBF0F8\"}, \"line\": {\"color\": \"white\"}}, \"header\": {\"fill\": {\"color\": \"#C8D4E3\"}, \"line\": {\"color\": \"white\"}}, \"type\": \"table\"}]}, \"layout\": {\"annotationdefaults\": {\"arrowcolor\": \"#2a3f5f\", \"arrowhead\": 0, \"arrowwidth\": 1}, \"coloraxis\": {\"colorbar\": {\"outlinewidth\": 0, \"ticks\": \"\"}}, \"colorscale\": {\"diverging\": [[0, \"#8e0152\"], [0.1, \"#c51b7d\"], [0.2, \"#de77ae\"], [0.3, \"#f1b6da\"], [0.4, \"#fde0ef\"], [0.5, \"#f7f7f7\"], [0.6, \"#e6f5d0\"], [0.7, \"#b8e186\"], [0.8, \"#7fbc41\"], [0.9, \"#4d9221\"], [1, \"#276419\"]], \"sequential\": [[0.0, \"#0d0887\"], [0.1111111111111111, \"#46039f\"], [0.2222222222222222, \"#7201a8\"], [0.3333333333333333, \"#9c179e\"], [0.4444444444444444, \"#bd3786\"], [0.5555555555555556, \"#d8576b\"], [0.6666666666666666, \"#ed7953\"], [0.7777777777777778, \"#fb9f3a\"], [0.8888888888888888, \"#fdca26\"], [1.0, \"#f0f921\"]], \"sequentialminus\": [[0.0, \"#0d0887\"], [0.1111111111111111, \"#46039f\"], [0.2222222222222222, \"#7201a8\"], [0.3333333333333333, \"#9c179e\"], [0.4444444444444444, \"#bd3786\"], [0.5555555555555556, \"#d8576b\"], [0.6666666666666666, \"#ed7953\"], [0.7777777777777778, \"#fb9f3a\"], [0.8888888888888888, \"#fdca26\"], [1.0, \"#f0f921\"]]}, \"colorway\": [\"#636efa\", \"#EF553B\", \"#00cc96\", \"#ab63fa\", \"#FFA15A\", \"#19d3f3\", \"#FF6692\", \"#B6E880\", \"#FF97FF\", \"#FECB52\"], \"font\": {\"color\": \"#2a3f5f\"}, \"geo\": {\"bgcolor\": \"white\", \"lakecolor\": \"white\", \"landcolor\": \"#E5ECF6\", \"showlakes\": true, \"showland\": true, \"subunitcolor\": \"white\"}, \"hoverlabel\": {\"align\": \"left\"}, \"hovermode\": \"closest\", \"mapbox\": {\"style\": \"light\"}, \"paper_bgcolor\": \"white\", \"plot_bgcolor\": \"#E5ECF6\", \"polar\": {\"angularaxis\": {\"gridcolor\": \"white\", \"linecolor\": \"white\", \"ticks\": \"\"}, \"bgcolor\": \"#E5ECF6\", \"radialaxis\": {\"gridcolor\": \"white\", \"linecolor\": \"white\", \"ticks\": \"\"}}, \"scene\": {\"xaxis\": {\"backgroundcolor\": \"#E5ECF6\", \"gridcolor\": \"white\", \"gridwidth\": 2, \"linecolor\": \"white\", \"showbackground\": true, \"ticks\": \"\", \"zerolinecolor\": \"white\"}, \"yaxis\": {\"backgroundcolor\": \"#E5ECF6\", \"gridcolor\": \"white\", \"gridwidth\": 2, \"linecolor\": \"white\", \"showbackground\": true, \"ticks\": \"\", \"zerolinecolor\": \"white\"}, \"zaxis\": {\"backgroundcolor\": \"#E5ECF6\", \"gridcolor\": \"white\", \"gridwidth\": 2, \"linecolor\": \"white\", \"showbackground\": true, \"ticks\": \"\", \"zerolinecolor\": \"white\"}}, \"shapedefaults\": {\"line\": {\"color\": \"#2a3f5f\"}}, \"ternary\": {\"aaxis\": {\"gridcolor\": \"white\", \"linecolor\": \"white\", \"ticks\": \"\"}, \"baxis\": {\"gridcolor\": \"white\", \"linecolor\": \"white\", \"ticks\": \"\"}, \"bgcolor\": \"#E5ECF6\", \"caxis\": {\"gridcolor\": \"white\", \"linecolor\": \"white\", \"ticks\": \"\"}}, \"title\": {\"x\": 0.05}, \"xaxis\": {\"automargin\": true, \"gridcolor\": \"white\", \"linecolor\": \"white\", \"ticks\": \"\", \"title\": {\"standoff\": 15}, \"zerolinecolor\": \"white\", \"zerolinewidth\": 2}, \"yaxis\": {\"automargin\": true, \"gridcolor\": \"white\", \"linecolor\": \"white\", \"ticks\": \"\", \"title\": {\"standoff\": 15}, \"zerolinecolor\": \"white\", \"zerolinewidth\": 2}}}, \"title\": {\"text\": \"Covid cases (%) in all states of India\"}},\n",
              "                        {\"responsive\": true}\n",
              "                    ).then(function(){\n",
              "                            \n",
              "var gd = document.getElementById('568da627-6f1d-41a4-8c85-8e4356e9d608');\n",
              "var x = new MutationObserver(function (mutations, observer) {{\n",
              "        var display = window.getComputedStyle(gd).display;\n",
              "        if (!display || display === 'none') {{\n",
              "            console.log([gd, 'removed!']);\n",
              "            Plotly.purge(gd);\n",
              "            observer.disconnect();\n",
              "        }}\n",
              "}});\n",
              "\n",
              "// Listen for the removal of the full notebook cells\n",
              "var notebookContainer = gd.closest('#notebook-container');\n",
              "if (notebookContainer) {{\n",
              "    x.observe(notebookContainer, {childList: true});\n",
              "}}\n",
              "\n",
              "// Listen for the clearing of the current output cell\n",
              "var outputEl = gd.closest('.output');\n",
              "if (outputEl) {{\n",
              "    x.observe(outputEl, {childList: true});\n",
              "}}\n",
              "\n",
              "                        })\n",
              "                };\n",
              "                \n",
              "            </script>\n",
              "        </div>\n",
              "</body>\n",
              "</html>"
            ]
          },
          "metadata": {}
        }
      ]
    },
    {
      "cell_type": "markdown",
      "metadata": {
        "papermill": {
          "duration": 0.067704,
          "end_time": "2021-09-05T05:32:39.475823",
          "exception": false,
          "start_time": "2021-09-05T05:32:39.408119",
          "status": "completed"
        },
        "tags": [],
        "id": "2045e809"
      },
      "source": [
        "* Discharge ratio of each state is different as we can also see it from data."
      ],
      "id": "2045e809"
    },
    {
      "cell_type": "code",
      "metadata": {
        "execution": {
          "iopub.execute_input": "2021-09-05T05:32:39.618399Z",
          "iopub.status.busy": "2021-09-05T05:32:39.617356Z",
          "iopub.status.idle": "2021-09-05T05:32:39.674236Z",
          "shell.execute_reply": "2021-09-05T05:32:39.673525Z",
          "shell.execute_reply.started": "2021-09-05T05:29:51.992494Z"
        },
        "papermill": {
          "duration": 0.130345,
          "end_time": "2021-09-05T05:32:39.674391",
          "exception": false,
          "start_time": "2021-09-05T05:32:39.544046",
          "status": "completed"
        },
        "tags": [],
        "colab": {
          "base_uri": "https://localhost:8080/",
          "height": 542
        },
        "id": "02728d73",
        "outputId": "cd771144-0e38-422b-cc1a-d6e466b98f24"
      },
      "source": [
        "fig = px.pie(df, values='Death Ratio (%)', names=df['State/UTs'], title='Covid cases (%) in all states of India')\n",
        "fig.show()"
      ],
      "id": "02728d73",
      "execution_count": 45,
      "outputs": [
        {
          "output_type": "display_data",
          "data": {
            "text/html": [
              "<html>\n",
              "<head><meta charset=\"utf-8\" /></head>\n",
              "<body>\n",
              "    <div>\n",
              "            <script src=\"https://cdnjs.cloudflare.com/ajax/libs/mathjax/2.7.5/MathJax.js?config=TeX-AMS-MML_SVG\"></script><script type=\"text/javascript\">if (window.MathJax) {MathJax.Hub.Config({SVG: {font: \"STIX-Web\"}});}</script>\n",
              "                <script type=\"text/javascript\">window.PlotlyConfig = {MathJaxConfig: 'local'};</script>\n",
              "        <script src=\"https://cdn.plot.ly/plotly-latest.min.js\"></script>    \n",
              "            <div id=\"66198c2b-c096-43a5-b46a-89cc37ec122a\" class=\"plotly-graph-div\" style=\"height:525px; width:100%;\"></div>\n",
              "            <script type=\"text/javascript\">\n",
              "                \n",
              "                    window.PLOTLYENV=window.PLOTLYENV || {};\n",
              "                    \n",
              "                if (document.getElementById(\"66198c2b-c096-43a5-b46a-89cc37ec122a\")) {\n",
              "                    Plotly.newPlot(\n",
              "                        '66198c2b-c096-43a5-b46a-89cc37ec122a',\n",
              "                        [{\"domain\": {\"x\": [0.0, 1.0], \"y\": [0.0, 1.0]}, \"hoverlabel\": {\"namelength\": 0}, \"hovertemplate\": \"State/UTs=%{label}<br>Death Ratio (%)=%{value}\", \"labels\": [\"Andaman and Nicobar\", \"Andhra Pradesh\", \"Arunachal Pradesh\", \"Assam\", \"Bihar\", \"Chandigarh\", \"Chhattisgarh\", \"Daman and Diu\", \"Delhi\", \"Goa\", \"Gujarat\", \"Haryana\", \"Himachal Pradesh\", \"Jammu and Kashmir\", \"Jharkhand\", \"Karnataka\", \"Kerala\", \"Ladakh\", \"Lakshadweep\", \"Madhya Pradesh\", \"Maharashtra\", \"Manipur\", \"Meghalaya\", \"Mizoram\", \"Nagaland\", \"Odisha\", \"Puducherry\", \"Punjab\", \"Rajasthan\", \"Sikkim\", \"Tamil Nadu\", \"Telengana\", \"Tripura\", \"Uttar Pradesh\", \"Uttarakhand\", \"West Bengal\"], \"legendgroup\": \"\", \"name\": \"\", \"showlegend\": true, \"type\": \"pie\", \"values\": [1.7, 0.69, 0.49, 0.96, 1.33, 1.25, 1.35, 0.04, 1.74, 1.84, 1.22, 1.26, 1.68, 1.35, 1.48, 1.27, 0.51, 1.01, 0.49, 1.33, 2.12, 1.56, 1.73, 0.37, 2.06, 0.79, 1.47, 2.74, 0.94, 1.24, 1.34, 0.59, 0.96, 1.34, 2.15, 1.19]}],\n",
              "                        {\"legend\": {\"tracegroupgap\": 0}, \"template\": {\"data\": {\"bar\": [{\"error_x\": {\"color\": \"#2a3f5f\"}, \"error_y\": {\"color\": \"#2a3f5f\"}, \"marker\": {\"line\": {\"color\": \"#E5ECF6\", \"width\": 0.5}}, \"type\": \"bar\"}], \"barpolar\": [{\"marker\": {\"line\": {\"color\": \"#E5ECF6\", \"width\": 0.5}}, \"type\": \"barpolar\"}], \"carpet\": [{\"aaxis\": {\"endlinecolor\": \"#2a3f5f\", \"gridcolor\": \"white\", \"linecolor\": \"white\", \"minorgridcolor\": \"white\", \"startlinecolor\": \"#2a3f5f\"}, \"baxis\": {\"endlinecolor\": \"#2a3f5f\", \"gridcolor\": \"white\", \"linecolor\": \"white\", \"minorgridcolor\": \"white\", \"startlinecolor\": \"#2a3f5f\"}, \"type\": \"carpet\"}], \"choropleth\": [{\"colorbar\": {\"outlinewidth\": 0, \"ticks\": \"\"}, \"type\": \"choropleth\"}], \"contour\": [{\"colorbar\": {\"outlinewidth\": 0, \"ticks\": \"\"}, \"colorscale\": [[0.0, \"#0d0887\"], [0.1111111111111111, \"#46039f\"], [0.2222222222222222, \"#7201a8\"], [0.3333333333333333, \"#9c179e\"], [0.4444444444444444, \"#bd3786\"], [0.5555555555555556, \"#d8576b\"], [0.6666666666666666, \"#ed7953\"], [0.7777777777777778, \"#fb9f3a\"], [0.8888888888888888, \"#fdca26\"], [1.0, \"#f0f921\"]], \"type\": \"contour\"}], \"contourcarpet\": [{\"colorbar\": {\"outlinewidth\": 0, \"ticks\": \"\"}, \"type\": \"contourcarpet\"}], \"heatmap\": [{\"colorbar\": {\"outlinewidth\": 0, \"ticks\": \"\"}, \"colorscale\": [[0.0, \"#0d0887\"], [0.1111111111111111, \"#46039f\"], [0.2222222222222222, \"#7201a8\"], [0.3333333333333333, \"#9c179e\"], [0.4444444444444444, \"#bd3786\"], [0.5555555555555556, \"#d8576b\"], [0.6666666666666666, \"#ed7953\"], [0.7777777777777778, \"#fb9f3a\"], [0.8888888888888888, \"#fdca26\"], [1.0, \"#f0f921\"]], \"type\": \"heatmap\"}], \"heatmapgl\": [{\"colorbar\": {\"outlinewidth\": 0, \"ticks\": \"\"}, \"colorscale\": [[0.0, \"#0d0887\"], [0.1111111111111111, \"#46039f\"], [0.2222222222222222, \"#7201a8\"], [0.3333333333333333, \"#9c179e\"], [0.4444444444444444, \"#bd3786\"], [0.5555555555555556, \"#d8576b\"], [0.6666666666666666, \"#ed7953\"], [0.7777777777777778, \"#fb9f3a\"], [0.8888888888888888, \"#fdca26\"], [1.0, \"#f0f921\"]], \"type\": \"heatmapgl\"}], \"histogram\": [{\"marker\": {\"colorbar\": {\"outlinewidth\": 0, \"ticks\": \"\"}}, \"type\": \"histogram\"}], \"histogram2d\": [{\"colorbar\": {\"outlinewidth\": 0, \"ticks\": \"\"}, \"colorscale\": [[0.0, \"#0d0887\"], [0.1111111111111111, \"#46039f\"], [0.2222222222222222, \"#7201a8\"], [0.3333333333333333, \"#9c179e\"], [0.4444444444444444, \"#bd3786\"], [0.5555555555555556, \"#d8576b\"], [0.6666666666666666, \"#ed7953\"], [0.7777777777777778, \"#fb9f3a\"], [0.8888888888888888, \"#fdca26\"], [1.0, \"#f0f921\"]], \"type\": \"histogram2d\"}], \"histogram2dcontour\": [{\"colorbar\": {\"outlinewidth\": 0, \"ticks\": \"\"}, \"colorscale\": [[0.0, \"#0d0887\"], [0.1111111111111111, \"#46039f\"], [0.2222222222222222, \"#7201a8\"], [0.3333333333333333, \"#9c179e\"], [0.4444444444444444, \"#bd3786\"], [0.5555555555555556, \"#d8576b\"], [0.6666666666666666, \"#ed7953\"], [0.7777777777777778, \"#fb9f3a\"], [0.8888888888888888, \"#fdca26\"], [1.0, \"#f0f921\"]], \"type\": \"histogram2dcontour\"}], \"mesh3d\": [{\"colorbar\": {\"outlinewidth\": 0, \"ticks\": \"\"}, \"type\": \"mesh3d\"}], \"parcoords\": [{\"line\": {\"colorbar\": {\"outlinewidth\": 0, \"ticks\": \"\"}}, \"type\": \"parcoords\"}], \"pie\": [{\"automargin\": true, \"type\": \"pie\"}], \"scatter\": [{\"marker\": {\"colorbar\": {\"outlinewidth\": 0, \"ticks\": \"\"}}, \"type\": \"scatter\"}], \"scatter3d\": [{\"line\": {\"colorbar\": {\"outlinewidth\": 0, \"ticks\": \"\"}}, \"marker\": {\"colorbar\": {\"outlinewidth\": 0, \"ticks\": \"\"}}, \"type\": \"scatter3d\"}], \"scattercarpet\": [{\"marker\": {\"colorbar\": {\"outlinewidth\": 0, \"ticks\": \"\"}}, \"type\": \"scattercarpet\"}], \"scattergeo\": [{\"marker\": {\"colorbar\": {\"outlinewidth\": 0, \"ticks\": \"\"}}, \"type\": \"scattergeo\"}], \"scattergl\": [{\"marker\": {\"colorbar\": {\"outlinewidth\": 0, \"ticks\": \"\"}}, \"type\": \"scattergl\"}], \"scattermapbox\": [{\"marker\": {\"colorbar\": {\"outlinewidth\": 0, \"ticks\": \"\"}}, \"type\": \"scattermapbox\"}], \"scatterpolar\": [{\"marker\": {\"colorbar\": {\"outlinewidth\": 0, \"ticks\": \"\"}}, \"type\": \"scatterpolar\"}], \"scatterpolargl\": [{\"marker\": {\"colorbar\": {\"outlinewidth\": 0, \"ticks\": \"\"}}, \"type\": \"scatterpolargl\"}], \"scatterternary\": [{\"marker\": {\"colorbar\": {\"outlinewidth\": 0, \"ticks\": \"\"}}, \"type\": \"scatterternary\"}], \"surface\": [{\"colorbar\": {\"outlinewidth\": 0, \"ticks\": \"\"}, \"colorscale\": [[0.0, \"#0d0887\"], [0.1111111111111111, \"#46039f\"], [0.2222222222222222, \"#7201a8\"], [0.3333333333333333, \"#9c179e\"], [0.4444444444444444, \"#bd3786\"], [0.5555555555555556, \"#d8576b\"], [0.6666666666666666, \"#ed7953\"], [0.7777777777777778, \"#fb9f3a\"], [0.8888888888888888, \"#fdca26\"], [1.0, \"#f0f921\"]], \"type\": \"surface\"}], \"table\": [{\"cells\": {\"fill\": {\"color\": \"#EBF0F8\"}, \"line\": {\"color\": \"white\"}}, \"header\": {\"fill\": {\"color\": \"#C8D4E3\"}, \"line\": {\"color\": \"white\"}}, \"type\": \"table\"}]}, \"layout\": {\"annotationdefaults\": {\"arrowcolor\": \"#2a3f5f\", \"arrowhead\": 0, \"arrowwidth\": 1}, \"coloraxis\": {\"colorbar\": {\"outlinewidth\": 0, \"ticks\": \"\"}}, \"colorscale\": {\"diverging\": [[0, \"#8e0152\"], [0.1, \"#c51b7d\"], [0.2, \"#de77ae\"], [0.3, \"#f1b6da\"], [0.4, \"#fde0ef\"], [0.5, \"#f7f7f7\"], [0.6, \"#e6f5d0\"], [0.7, \"#b8e186\"], [0.8, \"#7fbc41\"], [0.9, \"#4d9221\"], [1, \"#276419\"]], \"sequential\": [[0.0, \"#0d0887\"], [0.1111111111111111, \"#46039f\"], [0.2222222222222222, \"#7201a8\"], [0.3333333333333333, \"#9c179e\"], [0.4444444444444444, \"#bd3786\"], [0.5555555555555556, \"#d8576b\"], [0.6666666666666666, \"#ed7953\"], [0.7777777777777778, \"#fb9f3a\"], [0.8888888888888888, \"#fdca26\"], [1.0, \"#f0f921\"]], \"sequentialminus\": [[0.0, \"#0d0887\"], [0.1111111111111111, \"#46039f\"], [0.2222222222222222, \"#7201a8\"], [0.3333333333333333, \"#9c179e\"], [0.4444444444444444, \"#bd3786\"], [0.5555555555555556, \"#d8576b\"], [0.6666666666666666, \"#ed7953\"], [0.7777777777777778, \"#fb9f3a\"], [0.8888888888888888, \"#fdca26\"], [1.0, \"#f0f921\"]]}, \"colorway\": [\"#636efa\", \"#EF553B\", \"#00cc96\", \"#ab63fa\", \"#FFA15A\", \"#19d3f3\", \"#FF6692\", \"#B6E880\", \"#FF97FF\", \"#FECB52\"], \"font\": {\"color\": \"#2a3f5f\"}, \"geo\": {\"bgcolor\": \"white\", \"lakecolor\": \"white\", \"landcolor\": \"#E5ECF6\", \"showlakes\": true, \"showland\": true, \"subunitcolor\": \"white\"}, \"hoverlabel\": {\"align\": \"left\"}, \"hovermode\": \"closest\", \"mapbox\": {\"style\": \"light\"}, \"paper_bgcolor\": \"white\", \"plot_bgcolor\": \"#E5ECF6\", \"polar\": {\"angularaxis\": {\"gridcolor\": \"white\", \"linecolor\": \"white\", \"ticks\": \"\"}, \"bgcolor\": \"#E5ECF6\", \"radialaxis\": {\"gridcolor\": \"white\", \"linecolor\": \"white\", \"ticks\": \"\"}}, \"scene\": {\"xaxis\": {\"backgroundcolor\": \"#E5ECF6\", \"gridcolor\": \"white\", \"gridwidth\": 2, \"linecolor\": \"white\", \"showbackground\": true, \"ticks\": \"\", \"zerolinecolor\": \"white\"}, \"yaxis\": {\"backgroundcolor\": \"#E5ECF6\", \"gridcolor\": \"white\", \"gridwidth\": 2, \"linecolor\": \"white\", \"showbackground\": true, \"ticks\": \"\", \"zerolinecolor\": \"white\"}, \"zaxis\": {\"backgroundcolor\": \"#E5ECF6\", \"gridcolor\": \"white\", \"gridwidth\": 2, \"linecolor\": \"white\", \"showbackground\": true, \"ticks\": \"\", \"zerolinecolor\": \"white\"}}, \"shapedefaults\": {\"line\": {\"color\": \"#2a3f5f\"}}, \"ternary\": {\"aaxis\": {\"gridcolor\": \"white\", \"linecolor\": \"white\", \"ticks\": \"\"}, \"baxis\": {\"gridcolor\": \"white\", \"linecolor\": \"white\", \"ticks\": \"\"}, \"bgcolor\": \"#E5ECF6\", \"caxis\": {\"gridcolor\": \"white\", \"linecolor\": \"white\", \"ticks\": \"\"}}, \"title\": {\"x\": 0.05}, \"xaxis\": {\"automargin\": true, \"gridcolor\": \"white\", \"linecolor\": \"white\", \"ticks\": \"\", \"title\": {\"standoff\": 15}, \"zerolinecolor\": \"white\", \"zerolinewidth\": 2}, \"yaxis\": {\"automargin\": true, \"gridcolor\": \"white\", \"linecolor\": \"white\", \"ticks\": \"\", \"title\": {\"standoff\": 15}, \"zerolinecolor\": \"white\", \"zerolinewidth\": 2}}}, \"title\": {\"text\": \"Covid cases (%) in all states of India\"}},\n",
              "                        {\"responsive\": true}\n",
              "                    ).then(function(){\n",
              "                            \n",
              "var gd = document.getElementById('66198c2b-c096-43a5-b46a-89cc37ec122a');\n",
              "var x = new MutationObserver(function (mutations, observer) {{\n",
              "        var display = window.getComputedStyle(gd).display;\n",
              "        if (!display || display === 'none') {{\n",
              "            console.log([gd, 'removed!']);\n",
              "            Plotly.purge(gd);\n",
              "            observer.disconnect();\n",
              "        }}\n",
              "}});\n",
              "\n",
              "// Listen for the removal of the full notebook cells\n",
              "var notebookContainer = gd.closest('#notebook-container');\n",
              "if (notebookContainer) {{\n",
              "    x.observe(notebookContainer, {childList: true});\n",
              "}}\n",
              "\n",
              "// Listen for the clearing of the current output cell\n",
              "var outputEl = gd.closest('.output');\n",
              "if (outputEl) {{\n",
              "    x.observe(outputEl, {childList: true});\n",
              "}}\n",
              "\n",
              "                        })\n",
              "                };\n",
              "                \n",
              "            </script>\n",
              "        </div>\n",
              "</body>\n",
              "</html>"
            ]
          },
          "metadata": {}
        }
      ]
    },
    {
      "cell_type": "code",
      "metadata": {
        "execution": {
          "iopub.execute_input": "2021-09-05T05:32:39.819961Z",
          "iopub.status.busy": "2021-09-05T05:32:39.818914Z",
          "iopub.status.idle": "2021-09-05T05:32:41.039090Z",
          "shell.execute_reply": "2021-09-05T05:32:41.038518Z",
          "shell.execute_reply.started": "2021-09-05T05:29:52.057457Z"
        },
        "papermill": {
          "duration": 1.295118,
          "end_time": "2021-09-05T05:32:41.039253",
          "exception": false,
          "start_time": "2021-09-05T05:32:39.744135",
          "status": "completed"
        },
        "tags": [],
        "colab": {
          "base_uri": "https://localhost:8080/",
          "height": 542
        },
        "id": "2ae52f5f",
        "outputId": "aed86b84-3e3f-45be-f4ad-812ad9aa27bd"
      },
      "source": [
        "fig = px.scatter (df, x = \"Active\", y = \"Deaths\", template = \"plotly_dark\",  trendline=\"ols\")\n",
        "fig.show ()"
      ],
      "id": "2ae52f5f",
      "execution_count": 46,
      "outputs": [
        {
          "output_type": "display_data",
          "data": {
            "text/html": [
              "<html>\n",
              "<head><meta charset=\"utf-8\" /></head>\n",
              "<body>\n",
              "    <div>\n",
              "            <script src=\"https://cdnjs.cloudflare.com/ajax/libs/mathjax/2.7.5/MathJax.js?config=TeX-AMS-MML_SVG\"></script><script type=\"text/javascript\">if (window.MathJax) {MathJax.Hub.Config({SVG: {font: \"STIX-Web\"}});}</script>\n",
              "                <script type=\"text/javascript\">window.PlotlyConfig = {MathJaxConfig: 'local'};</script>\n",
              "        <script src=\"https://cdn.plot.ly/plotly-latest.min.js\"></script>    \n",
              "            <div id=\"fdf2c58d-9679-4972-83f5-1e4c9139dfbf\" class=\"plotly-graph-div\" style=\"height:525px; width:100%;\"></div>\n",
              "            <script type=\"text/javascript\">\n",
              "                \n",
              "                    window.PLOTLYENV=window.PLOTLYENV || {};\n",
              "                    \n",
              "                if (document.getElementById(\"fdf2c58d-9679-4972-83f5-1e4c9139dfbf\")) {\n",
              "                    Plotly.newPlot(\n",
              "                        'fdf2c58d-9679-4972-83f5-1e4c9139dfbf',\n",
              "                        [{\"hoverlabel\": {\"namelength\": 0}, \"hovertemplate\": \"Active=%{x}<br>Deaths=%{y}\", \"legendgroup\": \"\", \"marker\": {\"color\": \"#636efa\", \"symbol\": \"circle\"}, \"mode\": \"markers\", \"name\": \"\", \"showlegend\": false, \"type\": \"scatter\", \"x\": [6, 14693, 863, 6901, 100, 40, 412, 4, 349, 877, 150, 634, 1642, 1330, 130, 18412, 219441, 69, 31, 79, 54763, 3397, 2326, 8885, 815, 6546, 715, 324, 97, 1094, 16850, 5864, 917, 256, 354, 8815], \"xaxis\": \"x\", \"y\": [129, 13857, 260, 5660, 9653, 813, 13555, 4, 25082, 3201, 10081, 9677, 3598, 4408, 5132, 37318, 20788, 207, 51, 10516, 137313, 1782, 1311, 217, 620, 7969, 1812, 16431, 8954, 370, 34921, 3873, 800, 22823, 7387, 18447], \"yaxis\": \"y\"}, {\"hoverlabel\": {\"namelength\": 0}, \"hovertemplate\": \"<b>OLS trendline</b><br>Deaths = 0.192292 * Active + 10174.971401<br>R<sup>2</sup>=0.092090<br><br>Active=%{x}<br>Deaths=%{y} <b>(trend)</b>\", \"legendgroup\": \"\", \"marker\": {\"color\": \"#636efa\", \"symbol\": \"circle\"}, \"mode\": \"lines\", \"name\": \"\", \"showlegend\": false, \"type\": \"scatter\", \"x\": [4, 6, 31, 40, 69, 79, 97, 100, 130, 150, 256, 324, 349, 354, 412, 634, 715, 815, 863, 877, 917, 1094, 1330, 1642, 2326, 3397, 5864, 6546, 6901, 8815, 8885, 14693, 16850, 18412, 54763, 219441], \"xaxis\": \"x\", \"y\": [10175.740567099263, 10176.125150299236, 10180.93244029892, 10182.663064698807, 10188.239521098441, 10190.162437098315, 10193.623685898088, 10194.20056069805, 10199.969308697671, 10203.81514069742, 10224.19805029608, 10237.27387909522, 10242.081169094905, 10243.042627094843, 10254.19553989411, 10296.884275091306, 10312.459894690284, 10331.68905468902, 10340.919051488416, 10343.611133888238, 10351.302797887733, 10385.338411085499, 10430.71922868252, 10490.714207878578, 10622.241662269942, 10828.185965856417, 11302.569343025267, 11433.712214216655, 11501.975732212173, 11870.021854588003, 11883.48226658712, 13000.31187931378, 13415.084860486544, 13715.444339666821, 20705.436290807807, 52371.63239352839], \"yaxis\": \"y\"}],\n",
              "                        {\"legend\": {\"tracegroupgap\": 0}, \"margin\": {\"t\": 60}, \"template\": {\"data\": {\"bar\": [{\"error_x\": {\"color\": \"#f2f5fa\"}, \"error_y\": {\"color\": \"#f2f5fa\"}, \"marker\": {\"line\": {\"color\": \"rgb(17,17,17)\", \"width\": 0.5}}, \"type\": \"bar\"}], \"barpolar\": [{\"marker\": {\"line\": {\"color\": \"rgb(17,17,17)\", \"width\": 0.5}}, \"type\": \"barpolar\"}], \"carpet\": [{\"aaxis\": {\"endlinecolor\": \"#A2B1C6\", \"gridcolor\": \"#506784\", \"linecolor\": \"#506784\", \"minorgridcolor\": \"#506784\", \"startlinecolor\": \"#A2B1C6\"}, \"baxis\": {\"endlinecolor\": \"#A2B1C6\", \"gridcolor\": \"#506784\", \"linecolor\": \"#506784\", \"minorgridcolor\": \"#506784\", \"startlinecolor\": \"#A2B1C6\"}, \"type\": \"carpet\"}], \"choropleth\": [{\"colorbar\": {\"outlinewidth\": 0, \"ticks\": \"\"}, \"type\": \"choropleth\"}], \"contour\": [{\"colorbar\": {\"outlinewidth\": 0, \"ticks\": \"\"}, \"colorscale\": [[0.0, \"#0d0887\"], [0.1111111111111111, \"#46039f\"], [0.2222222222222222, \"#7201a8\"], [0.3333333333333333, \"#9c179e\"], [0.4444444444444444, \"#bd3786\"], [0.5555555555555556, \"#d8576b\"], [0.6666666666666666, \"#ed7953\"], [0.7777777777777778, \"#fb9f3a\"], [0.8888888888888888, \"#fdca26\"], [1.0, \"#f0f921\"]], \"type\": \"contour\"}], \"contourcarpet\": [{\"colorbar\": {\"outlinewidth\": 0, \"ticks\": \"\"}, \"type\": \"contourcarpet\"}], \"heatmap\": [{\"colorbar\": {\"outlinewidth\": 0, \"ticks\": \"\"}, \"colorscale\": [[0.0, \"#0d0887\"], [0.1111111111111111, \"#46039f\"], [0.2222222222222222, \"#7201a8\"], [0.3333333333333333, \"#9c179e\"], [0.4444444444444444, \"#bd3786\"], [0.5555555555555556, \"#d8576b\"], [0.6666666666666666, \"#ed7953\"], [0.7777777777777778, \"#fb9f3a\"], [0.8888888888888888, \"#fdca26\"], [1.0, \"#f0f921\"]], \"type\": \"heatmap\"}], \"heatmapgl\": [{\"colorbar\": {\"outlinewidth\": 0, \"ticks\": \"\"}, \"colorscale\": [[0.0, \"#0d0887\"], [0.1111111111111111, \"#46039f\"], [0.2222222222222222, \"#7201a8\"], [0.3333333333333333, \"#9c179e\"], [0.4444444444444444, \"#bd3786\"], [0.5555555555555556, \"#d8576b\"], [0.6666666666666666, \"#ed7953\"], [0.7777777777777778, \"#fb9f3a\"], [0.8888888888888888, \"#fdca26\"], [1.0, \"#f0f921\"]], \"type\": \"heatmapgl\"}], \"histogram\": [{\"marker\": {\"colorbar\": {\"outlinewidth\": 0, \"ticks\": \"\"}}, \"type\": \"histogram\"}], \"histogram2d\": [{\"colorbar\": {\"outlinewidth\": 0, \"ticks\": \"\"}, \"colorscale\": [[0.0, \"#0d0887\"], [0.1111111111111111, \"#46039f\"], [0.2222222222222222, \"#7201a8\"], [0.3333333333333333, \"#9c179e\"], [0.4444444444444444, \"#bd3786\"], [0.5555555555555556, \"#d8576b\"], [0.6666666666666666, \"#ed7953\"], [0.7777777777777778, \"#fb9f3a\"], [0.8888888888888888, \"#fdca26\"], [1.0, \"#f0f921\"]], \"type\": \"histogram2d\"}], \"histogram2dcontour\": [{\"colorbar\": {\"outlinewidth\": 0, \"ticks\": \"\"}, \"colorscale\": [[0.0, \"#0d0887\"], [0.1111111111111111, \"#46039f\"], [0.2222222222222222, \"#7201a8\"], [0.3333333333333333, \"#9c179e\"], [0.4444444444444444, \"#bd3786\"], [0.5555555555555556, \"#d8576b\"], [0.6666666666666666, \"#ed7953\"], [0.7777777777777778, \"#fb9f3a\"], [0.8888888888888888, \"#fdca26\"], [1.0, \"#f0f921\"]], \"type\": \"histogram2dcontour\"}], \"mesh3d\": [{\"colorbar\": {\"outlinewidth\": 0, \"ticks\": \"\"}, \"type\": \"mesh3d\"}], \"parcoords\": [{\"line\": {\"colorbar\": {\"outlinewidth\": 0, \"ticks\": \"\"}}, \"type\": \"parcoords\"}], \"pie\": [{\"automargin\": true, \"type\": \"pie\"}], \"scatter\": [{\"marker\": {\"line\": {\"color\": \"#283442\"}}, \"type\": \"scatter\"}], \"scatter3d\": [{\"line\": {\"colorbar\": {\"outlinewidth\": 0, \"ticks\": \"\"}}, \"marker\": {\"colorbar\": {\"outlinewidth\": 0, \"ticks\": \"\"}}, \"type\": \"scatter3d\"}], \"scattercarpet\": [{\"marker\": {\"colorbar\": {\"outlinewidth\": 0, \"ticks\": \"\"}}, \"type\": \"scattercarpet\"}], \"scattergeo\": [{\"marker\": {\"colorbar\": {\"outlinewidth\": 0, \"ticks\": \"\"}}, \"type\": \"scattergeo\"}], \"scattergl\": [{\"marker\": {\"line\": {\"color\": \"#283442\"}}, \"type\": \"scattergl\"}], \"scattermapbox\": [{\"marker\": {\"colorbar\": {\"outlinewidth\": 0, \"ticks\": \"\"}}, \"type\": \"scattermapbox\"}], \"scatterpolar\": [{\"marker\": {\"colorbar\": {\"outlinewidth\": 0, \"ticks\": \"\"}}, \"type\": \"scatterpolar\"}], \"scatterpolargl\": [{\"marker\": {\"colorbar\": {\"outlinewidth\": 0, \"ticks\": \"\"}}, \"type\": \"scatterpolargl\"}], \"scatterternary\": [{\"marker\": {\"colorbar\": {\"outlinewidth\": 0, \"ticks\": \"\"}}, \"type\": \"scatterternary\"}], \"surface\": [{\"colorbar\": {\"outlinewidth\": 0, \"ticks\": \"\"}, \"colorscale\": [[0.0, \"#0d0887\"], [0.1111111111111111, \"#46039f\"], [0.2222222222222222, \"#7201a8\"], [0.3333333333333333, \"#9c179e\"], [0.4444444444444444, \"#bd3786\"], [0.5555555555555556, \"#d8576b\"], [0.6666666666666666, \"#ed7953\"], [0.7777777777777778, \"#fb9f3a\"], [0.8888888888888888, \"#fdca26\"], [1.0, \"#f0f921\"]], \"type\": \"surface\"}], \"table\": [{\"cells\": {\"fill\": {\"color\": \"#506784\"}, \"line\": {\"color\": \"rgb(17,17,17)\"}}, \"header\": {\"fill\": {\"color\": \"#2a3f5f\"}, \"line\": {\"color\": \"rgb(17,17,17)\"}}, \"type\": \"table\"}]}, \"layout\": {\"annotationdefaults\": {\"arrowcolor\": \"#f2f5fa\", \"arrowhead\": 0, \"arrowwidth\": 1}, \"coloraxis\": {\"colorbar\": {\"outlinewidth\": 0, \"ticks\": \"\"}}, \"colorscale\": {\"diverging\": [[0, \"#8e0152\"], [0.1, \"#c51b7d\"], [0.2, \"#de77ae\"], [0.3, \"#f1b6da\"], [0.4, \"#fde0ef\"], [0.5, \"#f7f7f7\"], [0.6, \"#e6f5d0\"], [0.7, \"#b8e186\"], [0.8, \"#7fbc41\"], [0.9, \"#4d9221\"], [1, \"#276419\"]], \"sequential\": [[0.0, \"#0d0887\"], [0.1111111111111111, \"#46039f\"], [0.2222222222222222, \"#7201a8\"], [0.3333333333333333, \"#9c179e\"], [0.4444444444444444, \"#bd3786\"], [0.5555555555555556, \"#d8576b\"], [0.6666666666666666, \"#ed7953\"], [0.7777777777777778, \"#fb9f3a\"], [0.8888888888888888, \"#fdca26\"], [1.0, \"#f0f921\"]], \"sequentialminus\": [[0.0, \"#0d0887\"], [0.1111111111111111, \"#46039f\"], [0.2222222222222222, \"#7201a8\"], [0.3333333333333333, \"#9c179e\"], [0.4444444444444444, \"#bd3786\"], [0.5555555555555556, \"#d8576b\"], [0.6666666666666666, \"#ed7953\"], [0.7777777777777778, \"#fb9f3a\"], [0.8888888888888888, \"#fdca26\"], [1.0, \"#f0f921\"]]}, \"colorway\": [\"#636efa\", \"#EF553B\", \"#00cc96\", \"#ab63fa\", \"#FFA15A\", \"#19d3f3\", \"#FF6692\", \"#B6E880\", \"#FF97FF\", \"#FECB52\"], \"font\": {\"color\": \"#f2f5fa\"}, \"geo\": {\"bgcolor\": \"rgb(17,17,17)\", \"lakecolor\": \"rgb(17,17,17)\", \"landcolor\": \"rgb(17,17,17)\", \"showlakes\": true, \"showland\": true, \"subunitcolor\": \"#506784\"}, \"hoverlabel\": {\"align\": \"left\"}, \"hovermode\": \"closest\", \"mapbox\": {\"style\": \"dark\"}, \"paper_bgcolor\": \"rgb(17,17,17)\", \"plot_bgcolor\": \"rgb(17,17,17)\", \"polar\": {\"angularaxis\": {\"gridcolor\": \"#506784\", \"linecolor\": \"#506784\", \"ticks\": \"\"}, \"bgcolor\": \"rgb(17,17,17)\", \"radialaxis\": {\"gridcolor\": \"#506784\", \"linecolor\": \"#506784\", \"ticks\": \"\"}}, \"scene\": {\"xaxis\": {\"backgroundcolor\": \"rgb(17,17,17)\", \"gridcolor\": \"#506784\", \"gridwidth\": 2, \"linecolor\": \"#506784\", \"showbackground\": true, \"ticks\": \"\", \"zerolinecolor\": \"#C8D4E3\"}, \"yaxis\": {\"backgroundcolor\": \"rgb(17,17,17)\", \"gridcolor\": \"#506784\", \"gridwidth\": 2, \"linecolor\": \"#506784\", \"showbackground\": true, \"ticks\": \"\", \"zerolinecolor\": \"#C8D4E3\"}, \"zaxis\": {\"backgroundcolor\": \"rgb(17,17,17)\", \"gridcolor\": \"#506784\", \"gridwidth\": 2, \"linecolor\": \"#506784\", \"showbackground\": true, \"ticks\": \"\", \"zerolinecolor\": \"#C8D4E3\"}}, \"shapedefaults\": {\"line\": {\"color\": \"#f2f5fa\"}}, \"sliderdefaults\": {\"bgcolor\": \"#C8D4E3\", \"bordercolor\": \"rgb(17,17,17)\", \"borderwidth\": 1, \"tickwidth\": 0}, \"ternary\": {\"aaxis\": {\"gridcolor\": \"#506784\", \"linecolor\": \"#506784\", \"ticks\": \"\"}, \"baxis\": {\"gridcolor\": \"#506784\", \"linecolor\": \"#506784\", \"ticks\": \"\"}, \"bgcolor\": \"rgb(17,17,17)\", \"caxis\": {\"gridcolor\": \"#506784\", \"linecolor\": \"#506784\", \"ticks\": \"\"}}, \"title\": {\"x\": 0.05}, \"updatemenudefaults\": {\"bgcolor\": \"#506784\", \"borderwidth\": 0}, \"xaxis\": {\"automargin\": true, \"gridcolor\": \"#283442\", \"linecolor\": \"#506784\", \"ticks\": \"\", \"title\": {\"standoff\": 15}, \"zerolinecolor\": \"#283442\", \"zerolinewidth\": 2}, \"yaxis\": {\"automargin\": true, \"gridcolor\": \"#283442\", \"linecolor\": \"#506784\", \"ticks\": \"\", \"title\": {\"standoff\": 15}, \"zerolinecolor\": \"#283442\", \"zerolinewidth\": 2}}}, \"xaxis\": {\"anchor\": \"y\", \"domain\": [0.0, 1.0], \"title\": {\"text\": \"Active\"}}, \"yaxis\": {\"anchor\": \"x\", \"domain\": [0.0, 1.0], \"title\": {\"text\": \"Deaths\"}}},\n",
              "                        {\"responsive\": true}\n",
              "                    ).then(function(){\n",
              "                            \n",
              "var gd = document.getElementById('fdf2c58d-9679-4972-83f5-1e4c9139dfbf');\n",
              "var x = new MutationObserver(function (mutations, observer) {{\n",
              "        var display = window.getComputedStyle(gd).display;\n",
              "        if (!display || display === 'none') {{\n",
              "            console.log([gd, 'removed!']);\n",
              "            Plotly.purge(gd);\n",
              "            observer.disconnect();\n",
              "        }}\n",
              "}});\n",
              "\n",
              "// Listen for the removal of the full notebook cells\n",
              "var notebookContainer = gd.closest('#notebook-container');\n",
              "if (notebookContainer) {{\n",
              "    x.observe(notebookContainer, {childList: true});\n",
              "}}\n",
              "\n",
              "// Listen for the clearing of the current output cell\n",
              "var outputEl = gd.closest('.output');\n",
              "if (outputEl) {{\n",
              "    x.observe(outputEl, {childList: true});\n",
              "}}\n",
              "\n",
              "                        })\n",
              "                };\n",
              "                \n",
              "            </script>\n",
              "        </div>\n",
              "</body>\n",
              "</html>"
            ]
          },
          "metadata": {}
        }
      ]
    },
    {
      "cell_type": "markdown",
      "metadata": {
        "papermill": {
          "duration": 0.07025,
          "end_time": "2021-09-05T05:32:41.181918",
          "exception": false,
          "start_time": "2021-09-05T05:32:41.111668",
          "status": "completed"
        },
        "tags": [],
        "id": "8b7c93c1"
      },
      "source": [
        "### Report"
      ],
      "id": "8b7c93c1"
    },
    {
      "cell_type": "markdown",
      "metadata": {
        "papermill": {
          "duration": 0.068688,
          "end_time": "2021-09-05T05:32:41.324569",
          "exception": false,
          "start_time": "2021-09-05T05:32:41.255881",
          "status": "completed"
        },
        "tags": [],
        "id": "50237337"
      },
      "source": [
        "#### Creating Report using Mathematical Calculations"
      ],
      "id": "50237337"
    },
    {
      "cell_type": "code",
      "metadata": {
        "execution": {
          "iopub.execute_input": "2021-09-05T05:32:41.491293Z",
          "iopub.status.busy": "2021-09-05T05:32:41.490363Z",
          "iopub.status.idle": "2021-09-05T05:32:41.496187Z",
          "shell.execute_reply": "2021-09-05T05:32:41.495578Z",
          "shell.execute_reply.started": "2021-09-05T05:29:53.206955Z"
        },
        "papermill": {
          "duration": 0.097403,
          "end_time": "2021-09-05T05:32:41.496346",
          "exception": false,
          "start_time": "2021-09-05T05:32:41.398943",
          "status": "completed"
        },
        "tags": [],
        "colab": {
          "base_uri": "https://localhost:8080/",
          "height": 81
        },
        "id": "c6272152",
        "outputId": "6546c644-afd0-4d1e-da53-7c49eddaefbe"
      },
      "source": [
        "# State having highest number of covid cases in India.\n",
        "\n",
        "highest_cases = df[df['Total Cases'] == max(df['Total Cases'])]\n",
        "highest_cases"
      ],
      "id": "c6272152",
      "execution_count": 47,
      "outputs": [
        {
          "output_type": "execute_result",
          "data": {
            "text/html": [
              "<div>\n",
              "<style scoped>\n",
              "    .dataframe tbody tr th:only-of-type {\n",
              "        vertical-align: middle;\n",
              "    }\n",
              "\n",
              "    .dataframe tbody tr th {\n",
              "        vertical-align: top;\n",
              "    }\n",
              "\n",
              "    .dataframe thead th {\n",
              "        text-align: right;\n",
              "    }\n",
              "</style>\n",
              "<table border=\"1\" class=\"dataframe\">\n",
              "  <thead>\n",
              "    <tr style=\"text-align: right;\">\n",
              "      <th></th>\n",
              "      <th>State/UTs</th>\n",
              "      <th>Total Cases</th>\n",
              "      <th>Active</th>\n",
              "      <th>Discharged</th>\n",
              "      <th>Deaths</th>\n",
              "      <th>Active Ratio (%)</th>\n",
              "      <th>Discharge Ratio (%)</th>\n",
              "      <th>Death Ratio (%)</th>\n",
              "    </tr>\n",
              "  </thead>\n",
              "  <tbody>\n",
              "    <tr>\n",
              "      <th>20</th>\n",
              "      <td>Maharashtra</td>\n",
              "      <td>6464876</td>\n",
              "      <td>54763</td>\n",
              "      <td>6272800</td>\n",
              "      <td>137313</td>\n",
              "      <td>0.85</td>\n",
              "      <td>97.03</td>\n",
              "      <td>2.12</td>\n",
              "    </tr>\n",
              "  </tbody>\n",
              "</table>\n",
              "</div>"
            ],
            "text/plain": [
              "      State/UTs  Total Cases  ...  Discharge Ratio (%)  Death Ratio (%)\n",
              "20  Maharashtra      6464876  ...                97.03             2.12\n",
              "\n",
              "[1 rows x 8 columns]"
            ]
          },
          "metadata": {},
          "execution_count": 47
        }
      ]
    },
    {
      "cell_type": "code",
      "metadata": {
        "execution": {
          "iopub.execute_input": "2021-09-05T05:32:41.669319Z",
          "iopub.status.busy": "2021-09-05T05:32:41.668315Z",
          "iopub.status.idle": "2021-09-05T05:32:41.674460Z",
          "shell.execute_reply": "2021-09-05T05:32:41.673730Z",
          "shell.execute_reply.started": "2021-09-05T05:29:53.224430Z"
        },
        "papermill": {
          "duration": 0.101178,
          "end_time": "2021-09-05T05:32:41.674618",
          "exception": false,
          "start_time": "2021-09-05T05:32:41.573440",
          "status": "completed"
        },
        "tags": [],
        "colab": {
          "base_uri": "https://localhost:8080/",
          "height": 81
        },
        "id": "e1a9cd47",
        "outputId": "4c9a6689-349d-4981-c268-1600a15dde9a"
      },
      "source": [
        "# State having Lowest number of covid cases in India.\n",
        "\n",
        "lowest_cases = df[df['Total Cases'] == min(df['Total Cases'])]\n",
        "lowest_cases"
      ],
      "id": "e1a9cd47",
      "execution_count": 48,
      "outputs": [
        {
          "output_type": "execute_result",
          "data": {
            "text/html": [
              "<div>\n",
              "<style scoped>\n",
              "    .dataframe tbody tr th:only-of-type {\n",
              "        vertical-align: middle;\n",
              "    }\n",
              "\n",
              "    .dataframe tbody tr th {\n",
              "        vertical-align: top;\n",
              "    }\n",
              "\n",
              "    .dataframe thead th {\n",
              "        text-align: right;\n",
              "    }\n",
              "</style>\n",
              "<table border=\"1\" class=\"dataframe\">\n",
              "  <thead>\n",
              "    <tr style=\"text-align: right;\">\n",
              "      <th></th>\n",
              "      <th>State/UTs</th>\n",
              "      <th>Total Cases</th>\n",
              "      <th>Active</th>\n",
              "      <th>Discharged</th>\n",
              "      <th>Deaths</th>\n",
              "      <th>Active Ratio (%)</th>\n",
              "      <th>Discharge Ratio (%)</th>\n",
              "      <th>Death Ratio (%)</th>\n",
              "    </tr>\n",
              "  </thead>\n",
              "  <tbody>\n",
              "    <tr>\n",
              "      <th>0</th>\n",
              "      <td>Andaman and Nicobar</td>\n",
              "      <td>7566</td>\n",
              "      <td>6</td>\n",
              "      <td>7431</td>\n",
              "      <td>129</td>\n",
              "      <td>0.08</td>\n",
              "      <td>98.22</td>\n",
              "      <td>1.7</td>\n",
              "    </tr>\n",
              "  </tbody>\n",
              "</table>\n",
              "</div>"
            ],
            "text/plain": [
              "             State/UTs  Total Cases  ...  Discharge Ratio (%)  Death Ratio (%)\n",
              "0  Andaman and Nicobar         7566  ...                98.22              1.7\n",
              "\n",
              "[1 rows x 8 columns]"
            ]
          },
          "metadata": {},
          "execution_count": 48
        }
      ]
    },
    {
      "cell_type": "code",
      "metadata": {
        "execution": {
          "iopub.execute_input": "2021-09-05T05:32:41.842789Z",
          "iopub.status.busy": "2021-09-05T05:32:41.841806Z",
          "iopub.status.idle": "2021-09-05T05:32:41.847018Z",
          "shell.execute_reply": "2021-09-05T05:32:41.846384Z",
          "shell.execute_reply.started": "2021-09-05T05:29:53.248714Z"
        },
        "papermill": {
          "duration": 0.096586,
          "end_time": "2021-09-05T05:32:41.847176",
          "exception": false,
          "start_time": "2021-09-05T05:32:41.750590",
          "status": "completed"
        },
        "tags": [],
        "colab": {
          "base_uri": "https://localhost:8080/",
          "height": 81
        },
        "id": "0c1d82d6",
        "outputId": "4f1c3c85-ee38-4c0b-8b64-81536974c628"
      },
      "source": [
        "# State having highest number of Active cases in India.\n",
        "\n",
        "highest_active = df[df['Active'] == max(df['Active'])]\n",
        "highest_active"
      ],
      "id": "0c1d82d6",
      "execution_count": 49,
      "outputs": [
        {
          "output_type": "execute_result",
          "data": {
            "text/html": [
              "<div>\n",
              "<style scoped>\n",
              "    .dataframe tbody tr th:only-of-type {\n",
              "        vertical-align: middle;\n",
              "    }\n",
              "\n",
              "    .dataframe tbody tr th {\n",
              "        vertical-align: top;\n",
              "    }\n",
              "\n",
              "    .dataframe thead th {\n",
              "        text-align: right;\n",
              "    }\n",
              "</style>\n",
              "<table border=\"1\" class=\"dataframe\">\n",
              "  <thead>\n",
              "    <tr style=\"text-align: right;\">\n",
              "      <th></th>\n",
              "      <th>State/UTs</th>\n",
              "      <th>Total Cases</th>\n",
              "      <th>Active</th>\n",
              "      <th>Discharged</th>\n",
              "      <th>Deaths</th>\n",
              "      <th>Active Ratio (%)</th>\n",
              "      <th>Discharge Ratio (%)</th>\n",
              "      <th>Death Ratio (%)</th>\n",
              "    </tr>\n",
              "  </thead>\n",
              "  <tbody>\n",
              "    <tr>\n",
              "      <th>16</th>\n",
              "      <td>Kerala</td>\n",
              "      <td>4057233</td>\n",
              "      <td>219441</td>\n",
              "      <td>3817004</td>\n",
              "      <td>20788</td>\n",
              "      <td>5.41</td>\n",
              "      <td>94.08</td>\n",
              "      <td>0.51</td>\n",
              "    </tr>\n",
              "  </tbody>\n",
              "</table>\n",
              "</div>"
            ],
            "text/plain": [
              "   State/UTs  Total Cases  ...  Discharge Ratio (%)  Death Ratio (%)\n",
              "16    Kerala      4057233  ...                94.08             0.51\n",
              "\n",
              "[1 rows x 8 columns]"
            ]
          },
          "metadata": {},
          "execution_count": 49
        }
      ]
    },
    {
      "cell_type": "code",
      "metadata": {
        "execution": {
          "iopub.execute_input": "2021-09-05T05:32:42.009668Z",
          "iopub.status.busy": "2021-09-05T05:32:42.009025Z",
          "iopub.status.idle": "2021-09-05T05:32:42.012991Z",
          "shell.execute_reply": "2021-09-05T05:32:42.012440Z",
          "shell.execute_reply.started": "2021-09-05T05:29:53.267457Z"
        },
        "papermill": {
          "duration": 0.090806,
          "end_time": "2021-09-05T05:32:42.013139",
          "exception": false,
          "start_time": "2021-09-05T05:32:41.922333",
          "status": "completed"
        },
        "tags": [],
        "colab": {
          "base_uri": "https://localhost:8080/",
          "height": 81
        },
        "id": "4446f80d",
        "outputId": "381fb922-3767-45b4-e781-60c4e431a90f"
      },
      "source": [
        "# State having Lowest number of Active cases in India.\n",
        "\n",
        "lowest_active = df[df['Active'] == min(df['Active'])]\n",
        "lowest_active"
      ],
      "id": "4446f80d",
      "execution_count": 50,
      "outputs": [
        {
          "output_type": "execute_result",
          "data": {
            "text/html": [
              "<div>\n",
              "<style scoped>\n",
              "    .dataframe tbody tr th:only-of-type {\n",
              "        vertical-align: middle;\n",
              "    }\n",
              "\n",
              "    .dataframe tbody tr th {\n",
              "        vertical-align: top;\n",
              "    }\n",
              "\n",
              "    .dataframe thead th {\n",
              "        text-align: right;\n",
              "    }\n",
              "</style>\n",
              "<table border=\"1\" class=\"dataframe\">\n",
              "  <thead>\n",
              "    <tr style=\"text-align: right;\">\n",
              "      <th></th>\n",
              "      <th>State/UTs</th>\n",
              "      <th>Total Cases</th>\n",
              "      <th>Active</th>\n",
              "      <th>Discharged</th>\n",
              "      <th>Deaths</th>\n",
              "      <th>Active Ratio (%)</th>\n",
              "      <th>Discharge Ratio (%)</th>\n",
              "      <th>Death Ratio (%)</th>\n",
              "    </tr>\n",
              "  </thead>\n",
              "  <tbody>\n",
              "    <tr>\n",
              "      <th>7</th>\n",
              "      <td>Daman and Diu</td>\n",
              "      <td>10663</td>\n",
              "      <td>4</td>\n",
              "      <td>10655</td>\n",
              "      <td>4</td>\n",
              "      <td>0.04</td>\n",
              "      <td>99.92</td>\n",
              "      <td>0.04</td>\n",
              "    </tr>\n",
              "  </tbody>\n",
              "</table>\n",
              "</div>"
            ],
            "text/plain": [
              "       State/UTs  Total Cases  ...  Discharge Ratio (%)  Death Ratio (%)\n",
              "7  Daman and Diu        10663  ...                99.92             0.04\n",
              "\n",
              "[1 rows x 8 columns]"
            ]
          },
          "metadata": {},
          "execution_count": 50
        }
      ]
    },
    {
      "cell_type": "code",
      "metadata": {
        "execution": {
          "iopub.execute_input": "2021-09-05T05:32:42.166537Z",
          "iopub.status.busy": "2021-09-05T05:32:42.165871Z",
          "iopub.status.idle": "2021-09-05T05:32:42.180836Z",
          "shell.execute_reply": "2021-09-05T05:32:42.181419Z",
          "shell.execute_reply.started": "2021-09-05T05:29:53.285186Z"
        },
        "papermill": {
          "duration": 0.093916,
          "end_time": "2021-09-05T05:32:42.181618",
          "exception": false,
          "start_time": "2021-09-05T05:32:42.087702",
          "status": "completed"
        },
        "tags": [],
        "colab": {
          "base_uri": "https://localhost:8080/",
          "height": 81
        },
        "id": "2e3c6ccf",
        "outputId": "136475b6-7a65-459b-8c21-4d1ee97d8387"
      },
      "source": [
        "# State having highest number of death ratio in India.\n",
        "\n",
        "highest_death_ratio = df[df['Death Ratio (%)'] == max(df['Death Ratio (%)'])]\n",
        "highest_death_ratio"
      ],
      "id": "2e3c6ccf",
      "execution_count": 51,
      "outputs": [
        {
          "output_type": "execute_result",
          "data": {
            "text/html": [
              "<div>\n",
              "<style scoped>\n",
              "    .dataframe tbody tr th:only-of-type {\n",
              "        vertical-align: middle;\n",
              "    }\n",
              "\n",
              "    .dataframe tbody tr th {\n",
              "        vertical-align: top;\n",
              "    }\n",
              "\n",
              "    .dataframe thead th {\n",
              "        text-align: right;\n",
              "    }\n",
              "</style>\n",
              "<table border=\"1\" class=\"dataframe\">\n",
              "  <thead>\n",
              "    <tr style=\"text-align: right;\">\n",
              "      <th></th>\n",
              "      <th>State/UTs</th>\n",
              "      <th>Total Cases</th>\n",
              "      <th>Active</th>\n",
              "      <th>Discharged</th>\n",
              "      <th>Deaths</th>\n",
              "      <th>Active Ratio (%)</th>\n",
              "      <th>Discharge Ratio (%)</th>\n",
              "      <th>Death Ratio (%)</th>\n",
              "    </tr>\n",
              "  </thead>\n",
              "  <tbody>\n",
              "    <tr>\n",
              "      <th>27</th>\n",
              "      <td>Punjab</td>\n",
              "      <td>600614</td>\n",
              "      <td>324</td>\n",
              "      <td>583859</td>\n",
              "      <td>16431</td>\n",
              "      <td>0.05</td>\n",
              "      <td>97.21</td>\n",
              "      <td>2.74</td>\n",
              "    </tr>\n",
              "  </tbody>\n",
              "</table>\n",
              "</div>"
            ],
            "text/plain": [
              "   State/UTs  Total Cases  ...  Discharge Ratio (%)  Death Ratio (%)\n",
              "27    Punjab       600614  ...                97.21             2.74\n",
              "\n",
              "[1 rows x 8 columns]"
            ]
          },
          "metadata": {},
          "execution_count": 51
        }
      ]
    },
    {
      "cell_type": "code",
      "metadata": {
        "execution": {
          "iopub.execute_input": "2021-09-05T05:32:42.335532Z",
          "iopub.status.busy": "2021-09-05T05:32:42.334858Z",
          "iopub.status.idle": "2021-09-05T05:32:42.351833Z",
          "shell.execute_reply": "2021-09-05T05:32:42.351023Z",
          "shell.execute_reply.started": "2021-09-05T05:29:53.311455Z"
        },
        "papermill": {
          "duration": 0.09617,
          "end_time": "2021-09-05T05:32:42.352316",
          "exception": false,
          "start_time": "2021-09-05T05:32:42.256146",
          "status": "completed"
        },
        "tags": [],
        "colab": {
          "base_uri": "https://localhost:8080/",
          "height": 81
        },
        "id": "a8c6e6f5",
        "outputId": "2daa0d17-a460-4ff3-87fc-1237d27c3d30"
      },
      "source": [
        "# State having lowest number of death ratio in India.\n",
        "\n",
        "lowest_death_ratio = df[df['Death Ratio (%)'] == min(df['Death Ratio (%)'])]\n",
        "lowest_death_ratio"
      ],
      "id": "a8c6e6f5",
      "execution_count": 52,
      "outputs": [
        {
          "output_type": "execute_result",
          "data": {
            "text/html": [
              "<div>\n",
              "<style scoped>\n",
              "    .dataframe tbody tr th:only-of-type {\n",
              "        vertical-align: middle;\n",
              "    }\n",
              "\n",
              "    .dataframe tbody tr th {\n",
              "        vertical-align: top;\n",
              "    }\n",
              "\n",
              "    .dataframe thead th {\n",
              "        text-align: right;\n",
              "    }\n",
              "</style>\n",
              "<table border=\"1\" class=\"dataframe\">\n",
              "  <thead>\n",
              "    <tr style=\"text-align: right;\">\n",
              "      <th></th>\n",
              "      <th>State/UTs</th>\n",
              "      <th>Total Cases</th>\n",
              "      <th>Active</th>\n",
              "      <th>Discharged</th>\n",
              "      <th>Deaths</th>\n",
              "      <th>Active Ratio (%)</th>\n",
              "      <th>Discharge Ratio (%)</th>\n",
              "      <th>Death Ratio (%)</th>\n",
              "    </tr>\n",
              "  </thead>\n",
              "  <tbody>\n",
              "    <tr>\n",
              "      <th>7</th>\n",
              "      <td>Daman and Diu</td>\n",
              "      <td>10663</td>\n",
              "      <td>4</td>\n",
              "      <td>10655</td>\n",
              "      <td>4</td>\n",
              "      <td>0.04</td>\n",
              "      <td>99.92</td>\n",
              "      <td>0.04</td>\n",
              "    </tr>\n",
              "  </tbody>\n",
              "</table>\n",
              "</div>"
            ],
            "text/plain": [
              "       State/UTs  Total Cases  ...  Discharge Ratio (%)  Death Ratio (%)\n",
              "7  Daman and Diu        10663  ...                99.92             0.04\n",
              "\n",
              "[1 rows x 8 columns]"
            ]
          },
          "metadata": {},
          "execution_count": 52
        }
      ]
    },
    {
      "cell_type": "code",
      "metadata": {
        "execution": {
          "iopub.execute_input": "2021-09-05T05:32:42.515595Z",
          "iopub.status.busy": "2021-09-05T05:32:42.514801Z",
          "iopub.status.idle": "2021-09-05T05:32:42.519164Z",
          "shell.execute_reply": "2021-09-05T05:32:42.519683Z",
          "shell.execute_reply.started": "2021-09-05T05:29:53.329675Z"
        },
        "papermill": {
          "duration": 0.094358,
          "end_time": "2021-09-05T05:32:42.519913",
          "exception": false,
          "start_time": "2021-09-05T05:32:42.425555",
          "status": "completed"
        },
        "tags": [],
        "colab": {
          "base_uri": "https://localhost:8080/",
          "height": 81
        },
        "id": "0833763e",
        "outputId": "53a94be2-7a2d-4ed9-8bea-7d8ec5c0e0cf"
      },
      "source": [
        "# State having highest discharge ratio in India.\n",
        "\n",
        "highest_discharge_ratio = df[df['Discharge Ratio (%)'] == max(df['Discharge Ratio (%)'])]\n",
        "highest_discharge_ratio"
      ],
      "id": "0833763e",
      "execution_count": 53,
      "outputs": [
        {
          "output_type": "execute_result",
          "data": {
            "text/html": [
              "<div>\n",
              "<style scoped>\n",
              "    .dataframe tbody tr th:only-of-type {\n",
              "        vertical-align: middle;\n",
              "    }\n",
              "\n",
              "    .dataframe tbody tr th {\n",
              "        vertical-align: top;\n",
              "    }\n",
              "\n",
              "    .dataframe thead th {\n",
              "        text-align: right;\n",
              "    }\n",
              "</style>\n",
              "<table border=\"1\" class=\"dataframe\">\n",
              "  <thead>\n",
              "    <tr style=\"text-align: right;\">\n",
              "      <th></th>\n",
              "      <th>State/UTs</th>\n",
              "      <th>Total Cases</th>\n",
              "      <th>Active</th>\n",
              "      <th>Discharged</th>\n",
              "      <th>Deaths</th>\n",
              "      <th>Active Ratio (%)</th>\n",
              "      <th>Discharge Ratio (%)</th>\n",
              "      <th>Death Ratio (%)</th>\n",
              "    </tr>\n",
              "  </thead>\n",
              "  <tbody>\n",
              "    <tr>\n",
              "      <th>7</th>\n",
              "      <td>Daman and Diu</td>\n",
              "      <td>10663</td>\n",
              "      <td>4</td>\n",
              "      <td>10655</td>\n",
              "      <td>4</td>\n",
              "      <td>0.04</td>\n",
              "      <td>99.92</td>\n",
              "      <td>0.04</td>\n",
              "    </tr>\n",
              "  </tbody>\n",
              "</table>\n",
              "</div>"
            ],
            "text/plain": [
              "       State/UTs  Total Cases  ...  Discharge Ratio (%)  Death Ratio (%)\n",
              "7  Daman and Diu        10663  ...                99.92             0.04\n",
              "\n",
              "[1 rows x 8 columns]"
            ]
          },
          "metadata": {},
          "execution_count": 53
        }
      ]
    },
    {
      "cell_type": "code",
      "metadata": {
        "execution": {
          "iopub.execute_input": "2021-09-05T05:32:42.674293Z",
          "iopub.status.busy": "2021-09-05T05:32:42.673609Z",
          "iopub.status.idle": "2021-09-05T05:32:42.687138Z",
          "shell.execute_reply": "2021-09-05T05:32:42.687654Z",
          "shell.execute_reply.started": "2021-09-05T05:29:53.351303Z"
        },
        "papermill": {
          "duration": 0.090405,
          "end_time": "2021-09-05T05:32:42.687884",
          "exception": false,
          "start_time": "2021-09-05T05:32:42.597479",
          "status": "completed"
        },
        "tags": [],
        "colab": {
          "base_uri": "https://localhost:8080/",
          "height": 81
        },
        "id": "ae652b4f",
        "outputId": "4dcea19f-af92-4410-cd3c-859695194162"
      },
      "source": [
        "# State having lowest discharge ratio in India.\n",
        "\n",
        "lowest_discharge_ratio = df[df['Discharge Ratio (%)'] == min(df['Discharge Ratio (%)'])]\n",
        "lowest_discharge_ratio"
      ],
      "id": "ae652b4f",
      "execution_count": 54,
      "outputs": [
        {
          "output_type": "execute_result",
          "data": {
            "text/html": [
              "<div>\n",
              "<style scoped>\n",
              "    .dataframe tbody tr th:only-of-type {\n",
              "        vertical-align: middle;\n",
              "    }\n",
              "\n",
              "    .dataframe tbody tr th {\n",
              "        vertical-align: top;\n",
              "    }\n",
              "\n",
              "    .dataframe thead th {\n",
              "        text-align: right;\n",
              "    }\n",
              "</style>\n",
              "<table border=\"1\" class=\"dataframe\">\n",
              "  <thead>\n",
              "    <tr style=\"text-align: right;\">\n",
              "      <th></th>\n",
              "      <th>State/UTs</th>\n",
              "      <th>Total Cases</th>\n",
              "      <th>Active</th>\n",
              "      <th>Discharged</th>\n",
              "      <th>Deaths</th>\n",
              "      <th>Active Ratio (%)</th>\n",
              "      <th>Discharge Ratio (%)</th>\n",
              "      <th>Death Ratio (%)</th>\n",
              "    </tr>\n",
              "  </thead>\n",
              "  <tbody>\n",
              "    <tr>\n",
              "      <th>23</th>\n",
              "      <td>Mizoram</td>\n",
              "      <td>59119</td>\n",
              "      <td>8885</td>\n",
              "      <td>50017</td>\n",
              "      <td>217</td>\n",
              "      <td>15.03</td>\n",
              "      <td>84.6</td>\n",
              "      <td>0.37</td>\n",
              "    </tr>\n",
              "  </tbody>\n",
              "</table>\n",
              "</div>"
            ],
            "text/plain": [
              "   State/UTs  Total Cases  ...  Discharge Ratio (%)  Death Ratio (%)\n",
              "23   Mizoram        59119  ...                 84.6             0.37\n",
              "\n",
              "[1 rows x 8 columns]"
            ]
          },
          "metadata": {},
          "execution_count": 54
        }
      ]
    },
    {
      "cell_type": "code",
      "metadata": {
        "execution": {
          "iopub.execute_input": "2021-09-05T05:32:42.847093Z",
          "iopub.status.busy": "2021-09-05T05:32:42.845976Z",
          "iopub.status.idle": "2021-09-05T05:32:43.002284Z",
          "shell.execute_reply": "2021-09-05T05:32:43.002818Z",
          "shell.execute_reply.started": "2021-09-05T05:29:53.376100Z"
        },
        "papermill": {
          "duration": 0.237402,
          "end_time": "2021-09-05T05:32:43.003021",
          "exception": false,
          "start_time": "2021-09-05T05:32:42.765619",
          "status": "completed"
        },
        "tags": [],
        "colab": {
          "base_uri": "https://localhost:8080/",
          "height": 295
        },
        "id": "24424428",
        "outputId": "dcefab95-2ad4-4007-ff38-993f6638dcfb"
      },
      "source": [
        "# Visualization of top 5 state having highest Death ratio in India.\n",
        "df1 = df.sort_values(by='Death Ratio (%)', ascending=False).head()\n",
        "states = df1['State/UTs']\n",
        "ratio = df1['Death Ratio (%)']\n",
        "plt.barh(states, ratio)\n",
        "plt.xlabel('Death Ratio (%)')\n",
        "plt.ylabel('State')\n",
        "plt.title('State with  more death ratio in India')\n",
        "plt.show()"
      ],
      "id": "24424428",
      "execution_count": 55,
      "outputs": [
        {
          "output_type": "display_data",
          "data": {
            "image/png": "[encoded data removed]",
            "text/plain": [
              "<Figure size 432x288 with 1 Axes>"
            ]
          },
          "metadata": {
            "needs_background": "light"
          }
        }
      ]
    },
    {
      "cell_type": "code",
      "metadata": {
        "execution": {
          "iopub.execute_input": "2021-09-05T05:32:43.163668Z",
          "iopub.status.busy": "2021-09-05T05:32:43.162276Z",
          "iopub.status.idle": "2021-09-05T05:32:43.179350Z",
          "shell.execute_reply": "2021-09-05T05:32:43.178643Z",
          "shell.execute_reply.started": "2021-09-05T05:29:53.531939Z"
        },
        "papermill": {
          "duration": 0.100411,
          "end_time": "2021-09-05T05:32:43.179509",
          "exception": false,
          "start_time": "2021-09-05T05:32:43.079098",
          "status": "completed"
        },
        "tags": [],
        "colab": {
          "base_uri": "https://localhost:8080/",
          "height": 206
        },
        "id": "008daf84",
        "outputId": "9563e7b8-a0b7-40f7-cc1f-1fef07097d8a"
      },
      "source": [
        "# DataFrame of top 5 state having highest Death ratio in India.\n",
        "df1"
      ],
      "id": "008daf84",
      "execution_count": 56,
      "outputs": [
        {
          "output_type": "execute_result",
          "data": {
            "text/html": [
              "<div>\n",
              "<style scoped>\n",
              "    .dataframe tbody tr th:only-of-type {\n",
              "        vertical-align: middle;\n",
              "    }\n",
              "\n",
              "    .dataframe tbody tr th {\n",
              "        vertical-align: top;\n",
              "    }\n",
              "\n",
              "    .dataframe thead th {\n",
              "        text-align: right;\n",
              "    }\n",
              "</style>\n",
              "<table border=\"1\" class=\"dataframe\">\n",
              "  <thead>\n",
              "    <tr style=\"text-align: right;\">\n",
              "      <th></th>\n",
              "      <th>State/UTs</th>\n",
              "      <th>Total Cases</th>\n",
              "      <th>Active</th>\n",
              "      <th>Discharged</th>\n",
              "      <th>Deaths</th>\n",
              "      <th>Active Ratio (%)</th>\n",
              "      <th>Discharge Ratio (%)</th>\n",
              "      <th>Death Ratio (%)</th>\n",
              "    </tr>\n",
              "  </thead>\n",
              "  <tbody>\n",
              "    <tr>\n",
              "      <th>27</th>\n",
              "      <td>Punjab</td>\n",
              "      <td>600614</td>\n",
              "      <td>324</td>\n",
              "      <td>583859</td>\n",
              "      <td>16431</td>\n",
              "      <td>0.05</td>\n",
              "      <td>97.21</td>\n",
              "      <td>2.74</td>\n",
              "    </tr>\n",
              "    <tr>\n",
              "      <th>34</th>\n",
              "      <td>Uttarakhand</td>\n",
              "      <td>342976</td>\n",
              "      <td>354</td>\n",
              "      <td>335235</td>\n",
              "      <td>7387</td>\n",
              "      <td>0.10</td>\n",
              "      <td>97.74</td>\n",
              "      <td>2.15</td>\n",
              "    </tr>\n",
              "    <tr>\n",
              "      <th>20</th>\n",
              "      <td>Maharashtra</td>\n",
              "      <td>6464876</td>\n",
              "      <td>54763</td>\n",
              "      <td>6272800</td>\n",
              "      <td>137313</td>\n",
              "      <td>0.85</td>\n",
              "      <td>97.03</td>\n",
              "      <td>2.12</td>\n",
              "    </tr>\n",
              "    <tr>\n",
              "      <th>24</th>\n",
              "      <td>Nagaland</td>\n",
              "      <td>30083</td>\n",
              "      <td>815</td>\n",
              "      <td>28648</td>\n",
              "      <td>620</td>\n",
              "      <td>2.71</td>\n",
              "      <td>95.23</td>\n",
              "      <td>2.06</td>\n",
              "    </tr>\n",
              "    <tr>\n",
              "      <th>9</th>\n",
              "      <td>Goa</td>\n",
              "      <td>173955</td>\n",
              "      <td>877</td>\n",
              "      <td>169877</td>\n",
              "      <td>3201</td>\n",
              "      <td>0.50</td>\n",
              "      <td>97.66</td>\n",
              "      <td>1.84</td>\n",
              "    </tr>\n",
              "  </tbody>\n",
              "</table>\n",
              "</div>"
            ],
            "text/plain": [
              "      State/UTs  Total Cases  ...  Discharge Ratio (%)  Death Ratio (%)\n",
              "27       Punjab       600614  ...                97.21             2.74\n",
              "34  Uttarakhand       342976  ...                97.74             2.15\n",
              "20  Maharashtra      6464876  ...                97.03             2.12\n",
              "24     Nagaland        30083  ...                95.23             2.06\n",
              "9           Goa       173955  ...                97.66             1.84\n",
              "\n",
              "[5 rows x 8 columns]"
            ]
          },
          "metadata": {},
          "execution_count": 56
        }
      ]
    },
    {
      "cell_type": "markdown",
      "metadata": {
        "execution": {
          "iopub.execute_input": "2021-07-28T20:40:01.820687Z",
          "iopub.status.busy": "2021-07-28T20:40:01.820406Z",
          "iopub.status.idle": "2021-07-28T20:40:01.832569Z",
          "shell.execute_reply": "2021-07-28T20:40:01.830925Z",
          "shell.execute_reply.started": "2021-07-28T20:40:01.820658Z"
        },
        "papermill": {
          "duration": 0.074465,
          "end_time": "2021-09-05T05:32:43.331921",
          "exception": false,
          "start_time": "2021-09-05T05:32:43.257456",
          "status": "completed"
        },
        "tags": [],
        "id": "d2097fb3"
      },
      "source": [
        "#### Conclusion :- By using EDA, Visualization and Reporting we draw different conclusion from the dataset at each step."
      ],
      "id": "d2097fb3"
    }
  ]
}